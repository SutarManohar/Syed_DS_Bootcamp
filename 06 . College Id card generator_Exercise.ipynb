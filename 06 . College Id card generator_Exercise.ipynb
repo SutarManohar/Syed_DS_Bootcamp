{
 "cells": [
  {
   "cell_type": "markdown",
   "id": "e75d27e0",
   "metadata": {},
   "source": [
    "### ID Card generating using Classmethod()\n",
    "\n",
    "- print(college)\n",
    "\n",
    "college name\n",
    "\n",
    "- print(ID)\n",
    "\n",
    "Name\n",
    "\n",
    "Roll_no\n",
    "\n",
    "Blood_group\n",
    "\n",
    "mobile no\n",
    "\n",
    "Address"
   ]
  },
  {
   "cell_type": "markdown",
   "id": "9a8d20ec",
   "metadata": {},
   "source": [
    "# CMR Engineering college"
   ]
  },
  {
   "cell_type": "code",
   "execution_count": 123,
   "id": "5496e8cf",
   "metadata": {},
   "outputs": [],
   "source": [
    "class Idcard:\n",
    "    \n",
    "    College = \"CMR Engineering college\"\n",
    "    \n",
    "    def __init__(self, std_name=None,roll_no=None,Blood_group=None, mob_no=None,address=None):\n",
    "        self.std_name = std_name\n",
    "        \n",
    "        if roll_no[:3]=='CMR':\n",
    "            self.roll_no=roll_no\n",
    "        else:\n",
    "            raise ValueError('Invalid Roll Number')\n",
    "        self.roll_no = roll_no\n",
    "        self.Blood_group = Blood_group\n",
    "        self.mob_no = mob_no\n",
    "        self.address = address\n",
    "        \n",
    "    def print_id(self):        \n",
    "        print(f'name : {self.std_name}roll no : {self.roll_no}Blood_group : {self.Blood_group}mobileno : {self.mob_no}Address : {self.address}')\n",
    "        \n",
    "    @classmethod\n",
    "    def print_college(cls):\n",
    "        print(f'Name of the College : {cls.College}')\n",
    "              "
   ]
  },
  {
   "cell_type": "code",
   "execution_count": 124,
   "id": "a2c173b7",
   "metadata": {},
   "outputs": [],
   "source": [
    "#instance\n",
    "sutar_id = Idcard(std_name='sutar\\n',roll_no='CMR007\\n', Blood_group='B+\\n',mob_no='858-585-8585\\n',address='Hyderabad\\n')\n",
    "syed_id = Idcard(std_name='syed\\n',roll_no='CMR017\\n',Blood_group='B+\\n',mob_no='959-595-5858\\n',address='Hyderabad\\n')\n",
    "sai_id = Idcard(std_name='sai\\n\\n',roll_no='CMR027\\n',Blood_group='B+\\n',mob_no='656-565-5858\\n',address='Hyderabad\\n')"
   ]
  },
  {
   "cell_type": "code",
   "execution_count": 125,
   "id": "a009f140",
   "metadata": {},
   "outputs": [
    {
     "name": "stdout",
     "output_type": "stream",
     "text": [
      "Name of the College : CMR Engineering college\n"
     ]
    }
   ],
   "source": [
    "sutar_id.print_college()"
   ]
  },
  {
   "cell_type": "code",
   "execution_count": 126,
   "id": "b8df6b25",
   "metadata": {},
   "outputs": [
    {
     "name": "stdout",
     "output_type": "stream",
     "text": [
      "name : sutar\n",
      "roll no : CMR007\n",
      "Blood_group : B+\n",
      "mobileno : 858-585-8585\n",
      "Address : Hyderabad\n",
      "\n"
     ]
    }
   ],
   "source": [
    "sutar_id.print_id()"
   ]
  },
  {
   "cell_type": "markdown",
   "id": "aa4687f4",
   "metadata": {},
   "source": [
    "# BITS PILANI Hyderabad"
   ]
  },
  {
   "cell_type": "code",
   "execution_count": 130,
   "id": "84179ad8",
   "metadata": {},
   "outputs": [],
   "source": [
    "class Idcard:\n",
    "\n",
    "    \n",
    "    College = \"BITS PILANI Hyderabad\"\n",
    "    \n",
    "    def __init__(self, std_name=None,roll_no=None,Blood_group=None, mob_no=None,address=None):\n",
    "        self.std_name = std_name\n",
    "        \n",
    "        if roll_no[:4]=='BITS':\n",
    "            self.roll_no=roll_no\n",
    "        else:\n",
    "            raise ValueError('Invalid Roll Number')\n",
    "        self.roll_no = roll_no\n",
    "        self.Blood_group = Blood_group\n",
    "        self.mob_no = mob_no\n",
    "        self.address = address\n",
    "        \n",
    "    def print_id(self):        \n",
    "        print(f'name : {self.std_name}roll no : {self.roll_no}Blood_group : {self.Blood_group}mobileno : {self.mob_no}Address : {self.address}')\n",
    "        \n",
    "    @classmethod\n",
    "    def print_college(cls):\n",
    "        print(f'Name of the College : ', cls.College)"
   ]
  },
  {
   "cell_type": "code",
   "execution_count": 131,
   "id": "0636ac61",
   "metadata": {},
   "outputs": [],
   "source": [
    "sutar_id = Idcard(std_name='sutar\\n',roll_no='BITS007\\n', Blood_group='B+\\n',mob_no='858-585-8585\\n',address='Hyderabad\\n')\n",
    "syed_id = Idcard(std_name='syed\\n',roll_no='BITS017\\n',Blood_group='B+\\n',mob_no='959-595-5858\\n',address='Hyderabad\\n')\n",
    "sai_id = Idcard(std_name='sai\\n',roll_no='BITS027\\n',Blood_group='B+\\n',mob_no='656-565-5858\\n',address='Hyderabad\\n')"
   ]
  },
  {
   "cell_type": "code",
   "execution_count": 132,
   "id": "c813152b",
   "metadata": {},
   "outputs": [
    {
     "name": "stdout",
     "output_type": "stream",
     "text": [
      "Name of the College :  BITS PILANI Hyderabad\n"
     ]
    }
   ],
   "source": [
    "syed_id.print_college()"
   ]
  },
  {
   "cell_type": "code",
   "execution_count": 133,
   "id": "65fa5c54",
   "metadata": {},
   "outputs": [
    {
     "name": "stdout",
     "output_type": "stream",
     "text": [
      "name : syed\n",
      "roll no : BITS017\n",
      "Blood_group : B+\n",
      "mobileno : 959-595-5858\n",
      "Address : Hyderabad\n",
      "\n"
     ]
    }
   ],
   "source": [
    "syed_id.print_id()"
   ]
  }
 ],
 "metadata": {
  "kernelspec": {
   "display_name": "Python 3",
   "language": "python",
   "name": "python3"
  },
  "language_info": {
   "codemirror_mode": {
    "name": "ipython",
    "version": 3
   },
   "file_extension": ".py",
   "mimetype": "text/x-python",
   "name": "python",
   "nbconvert_exporter": "python",
   "pygments_lexer": "ipython3",
   "version": "3.8.8"
  }
 },
 "nbformat": 4,
 "nbformat_minor": 5
}
