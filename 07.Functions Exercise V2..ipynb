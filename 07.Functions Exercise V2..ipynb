{
 "cells": [
  {
   "cell_type": "markdown",
   "id": "36b8bd9d",
   "metadata": {},
   "source": [
    "## Write another function that takes a more than 2 parameters of numbers and returns the results of all the numbers with desire operation.\n",
    "Operations : - A, D, S M"
   ]
  },
  {
   "cell_type": "code",
   "execution_count": null,
   "id": "1b0bfa52",
   "metadata": {},
   "outputs": [],
   "source": [
    "def add(*args):\n",
    "    total_add = 0\n",
    "    for num in args:\n",
    "        total_add = total_add+num\n",
    "    print(f'sum of list of {args} : {total_add}')\n",
    "def sub(*args):\n",
    "    total_sub = 0\n",
    "    for num in args:\n",
    "        total_sub =num-total_sub\n",
    "    print(f'difference(sub) of list of {args} : {total_sub}')\n",
    "def mul(*args):\n",
    "    total_mul = 1\n",
    "    for num in args:\n",
    "        total_mul = total_mul*num\n",
    "    print(f'multiplication of list of {args} : {total_mul}')\n",
    "def div(*args):\n",
    "    total_div = 1\n",
    "    for num in args:\n",
    "        total_div = num/total_div\n",
    "    print(f'divison of list of {args} : {total_div}')\n",
    "        \n",
    "     \n",
    "add(2,3,4,6)\n",
    "sub(2,3,4,6)\n",
    "mul(2,3,4,6)\n",
    "div(2,3,4,6)"
   ]
  }
 ],
 "metadata": {
  "kernelspec": {
   "display_name": "Python 3",
   "language": "python",
   "name": "python3"
  },
  "language_info": {
   "codemirror_mode": {
    "name": "ipython",
    "version": 3
   },
   "file_extension": ".py",
   "mimetype": "text/x-python",
   "name": "python",
   "nbconvert_exporter": "python",
   "pygments_lexer": "ipython3",
   "version": "3.8.8"
  }
 },
 "nbformat": 4,
 "nbformat_minor": 5
}
