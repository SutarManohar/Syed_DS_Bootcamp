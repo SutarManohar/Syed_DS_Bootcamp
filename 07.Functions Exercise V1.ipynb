{
 "cells": [
  {
   "cell_type": "markdown",
   "id": "f6b1ac0c",
   "metadata": {},
   "source": [
    "# Calculate the mean\n",
    "Write a function that takes 2 numerical arguments and returns their mean. Test your function on some examples.\n",
    "\n"
   ]
  },
  {
   "cell_type": "code",
   "execution_count": 43,
   "id": "ed45f123",
   "metadata": {},
   "outputs": [
    {
     "name": "stdout",
     "output_type": "stream",
     "text": [
      "Enter a number :6\n",
      "Enter another number :4\n",
      "Mean : 5.0\n"
     ]
    }
   ],
   "source": [
    "a = [int(input(f'Enter a number :')), int(input(f'Enter another number :'))]\n",
    "def cal_mean(a):  \n",
    "    return sum(a)/len(a)\n",
    "\n",
    "print('Mean :',cal_mean(a))\n"
   ]
  },
  {
   "cell_type": "code",
   "execution_count": 58,
   "id": "4c7fd356",
   "metadata": {},
   "outputs": [
    {
     "name": "stdout",
     "output_type": "stream",
     "text": [
      "Average of the list = 10\n"
     ]
    }
   ],
   "source": [
    "def Average(lst):\n",
    "    return reduce(lambda a,b : a+b,lst)/len(lst)\n",
    " \n",
    "lst = [15, 5]\n",
    " \n",
    "# Printing average of the list\n",
    "print(\"Average of the list =\", round(Average(lst)))"
   ]
  },
  {
   "cell_type": "markdown",
   "id": "db7ea78e",
   "metadata": {},
   "source": [
    "# Calculate the mean\n",
    "Write another function that takes a list of numbers and returns the mean of all the numbers in the list.\n"
   ]
  },
  {
   "cell_type": "code",
   "execution_count": 5,
   "id": "f0aa7de7",
   "metadata": {},
   "outputs": [
    {
     "name": "stdout",
     "output_type": "stream",
     "text": [
      "Mean : 10.8\n"
     ]
    }
   ],
   "source": [
    "a = [12,4,8,24,6]\n",
    "def cal_mean(a):  \n",
    "    return sum(a)/len(a)\n",
    "\n",
    "print('Mean :',cal_mean(a))"
   ]
  },
  {
   "cell_type": "code",
   "execution_count": 13,
   "id": "d84d6d6b",
   "metadata": {},
   "outputs": [
    {
     "name": "stdout",
     "output_type": "stream",
     "text": [
      "Mean is : 3\n"
     ]
    }
   ],
   "source": [
    "# Importing the statistics module\n",
    "import statistics\n",
    " \n",
    "data1 = [1, 3, 4, -5, 7, 9, 2]\n",
    " \n",
    "x = statistics.mean(data1)\n",
    " \n",
    "# Printing the mean\n",
    "print(\"Mean is :\", x)"
   ]
  },
  {
   "cell_type": "code",
   "execution_count": null,
   "id": "d8d62f61",
   "metadata": {},
   "outputs": [],
   "source": []
  },
  {
   "cell_type": "markdown",
   "id": "a3a4f836",
   "metadata": {},
   "source": [
    "### Write another function that takes a more than 2 parameters of numbers and returns the results of all the numbers with desire operation.\n",
    "Operations : - A, D, S M"
   ]
  },
  {
   "cell_type": "code",
   "execution_count": 73,
   "id": "95091a27",
   "metadata": {},
   "outputs": [
    {
     "name": "stdout",
     "output_type": "stream",
     "text": [
      "sum of list of [8, 16, 32] : 56\n",
      "difference(sub) of list of [8, 16, 32] : 24\n",
      "multiplication of list of [8, 16, 32] : 4096\n",
      "divison of list of [8, 16, 32] : 16.0\n"
     ]
    }
   ],
   "source": [
    "def add():\n",
    "    total_add = 0\n",
    "    for num in a:\n",
    "        total_add = total_add+num\n",
    "    print(f'sum of list of {a} : {total_add}')\n",
    "def sub():\n",
    "    total_sub = 0\n",
    "    for num in a:\n",
    "        total_sub =num-total_sub\n",
    "    print(f'difference(sub) of list of {a} : {total_sub}')\n",
    "def mul():\n",
    "    total_mul = 1\n",
    "    for num in a:\n",
    "        total_mul = total_mul*num\n",
    "    print(f'multiplication of list of {a} : {total_mul}')\n",
    "def div():\n",
    "    total_div = 1\n",
    "    for num in a:\n",
    "        total_div = num/total_div\n",
    "    print(f'divison of list of {a} : {total_div}')\n",
    "        \n",
    "a=[8,16,32]      \n",
    "add()\n",
    "sub()\n",
    "mul()\n",
    "div()"
   ]
  },
  {
   "cell_type": "code",
   "execution_count": 76,
   "id": "ae314fec",
   "metadata": {},
   "outputs": [],
   "source": [
    "from functools import reduce"
   ]
  },
  {
   "cell_type": "code",
   "execution_count": 80,
   "id": "18e4b0c3",
   "metadata": {},
   "outputs": [],
   "source": [
    "def add():\n",
    "    x = [2,4,6,8]\n",
    "    print(reduce(lambda a,b : a+b,x))\n",
    "def sub():\n",
    "    x = [2,4,6,8]\n",
    "    return reduce(lambda a,b : b-a,x)\n",
    "def mul():\n",
    "    x = [2,4,6,8]\n",
    "    return reduce(lambda a,b : a*b,x)\n",
    "def div():\n",
    "    x = [2,4,6,8]\n",
    "    return reduce(lambda a,b : a/b,x)\n"
   ]
  },
  {
   "cell_type": "markdown",
   "id": "f461b4b6",
   "metadata": {},
   "source": [
    "# Design a calculator app\n",
    "Write a function that takes 2 numerical arguments and returns their operations. Test your function on some examples.\n",
    "\n"
   ]
  },
  {
   "cell_type": "code",
   "execution_count": 6,
   "id": "db9c7c3a",
   "metadata": {},
   "outputs": [
    {
     "name": "stdout",
     "output_type": "stream",
     "text": [
      "Enter your first number : 8\n",
      "choose a operation \n",
      " + \n",
      " - \n",
      " * \n",
      " / \n",
      " 8+\n",
      "Enter your second number : 2\n",
      "8+2 = 10\n",
      "want to continue for new calcualtions? (yes/no):yes\n",
      "Enter your first number : 8\n",
      "choose a operation \n",
      " + \n",
      " - \n",
      " * \n",
      " / \n",
      " 8-\n",
      "Enter your second number : 2\n",
      "8-2 = 6\n",
      "want to continue for new calcualtions? (yes/no):yes'\n",
      "Enter your first number : 8\n",
      "choose a operation \n",
      " + \n",
      " - \n",
      " * \n",
      " / \n",
      " 8*\n",
      "Enter your second number : 2\n",
      "8*2 = 16\n",
      "want to continue for new calcualtions? (yes/no):yes\n",
      "Enter your first number : 4\n",
      "choose a operation \n",
      " + \n",
      " - \n",
      " * \n",
      " / \n",
      " 4/\n",
      "Enter your second number : 2\n",
      "4/2 = 2.0\n",
      "want to continue for new calcualtions? (yes/no):no\n",
      "Thank you!\n"
     ]
    }
   ],
   "source": [
    "def addition(x,y):\n",
    "    return x+y\n",
    "def substraction(x,y):\n",
    "    return x-y\n",
    "def division(x,y):\n",
    "    return x/y\n",
    "def multiplication(x,y):\n",
    "    return x*y\n",
    "\n",
    "# user = print('Enter a number for operation \\n 1. Addition\\n 2. Substraction\\n 3. Multiplication\\n 4. Division')\n",
    "\n",
    "while True:\n",
    "    num1 = int(input('Enter your first number : ' ))\n",
    "    user = input(f'choose a operation \\n + \\n - \\n * \\n / \\n {num1}')\n",
    "    num2 = int(input('Enter your second number : ' ))\n",
    "    \n",
    "    if user in ('+','-','*','/'):\n",
    "        if user == '+':\n",
    "            print(f'{num1}+{num2} = {addition(num1,num2)}')\n",
    "        elif user == '-':\n",
    "            print(f'{num1}-{num2} = {substraction(num1,num2)}')\n",
    "        elif user == '*':\n",
    "            print(f'{num1}*{num2} = {multiplication(num1,num2)}')\n",
    "        elif user == '/':\n",
    "            print(f'{num1}/{num2} = {division(num1,num2)}')\n",
    "            \n",
    "        new_cal = input('want to continue for new calcualtions? (yes/no):')\n",
    "        if new_cal == 'no':\n",
    "            print('Thank you!')\n",
    "            break\n",
    "        elif new_cal == 'yes':\n",
    "            continue\n",
    "    else:\n",
    "        print('invalid input')\n",
    "            \n",
    " \n",
    "    "
   ]
  }
 ],
 "metadata": {
  "kernelspec": {
   "display_name": "Python 3",
   "language": "python",
   "name": "python3"
  },
  "language_info": {
   "codemirror_mode": {
    "name": "ipython",
    "version": 3
   },
   "file_extension": ".py",
   "mimetype": "text/x-python",
   "name": "python",
   "nbconvert_exporter": "python",
   "pygments_lexer": "ipython3",
   "version": "3.8.8"
  }
 },
 "nbformat": 4,
 "nbformat_minor": 5
}
