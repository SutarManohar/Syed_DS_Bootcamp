{
 "cells": [
  {
   "cell_type": "markdown",
   "id": "e75d27e0",
   "metadata": {},
   "source": [
    "### ID Card generator\n",
    "\n",
    "- print(ID)\n",
    "\n",
    "college name\n",
    "\n",
    "Name\n",
    "\n",
    "Roll_no\n",
    "\n",
    "Blood_group\n",
    "\n",
    "mobile no\n",
    "\n",
    "Address"
   ]
  },
  {
   "cell_type": "markdown",
   "id": "9a8d20ec",
   "metadata": {},
   "source": [
    "# CMR Engineering college"
   ]
  },
  {
   "cell_type": "code",
   "execution_count": 22,
   "id": "5496e8cf",
   "metadata": {},
   "outputs": [],
   "source": [
    "class college:\n",
    "    \n",
    "    def __init__(self, clg_name = None,std_name=None,roll_no=None,Blood_group=None, mob_no=None,address=None):\n",
    "        \n",
    "        self.clg_name = 'CMR Engineering college'\n",
    "        \n",
    "        self.std_name = std_name\n",
    "        \n",
    "        if roll_no[:3]=='CMR':\n",
    "            self.roll_no=roll_no\n",
    "        else:\n",
    "            raise ValueError('Invalid Roll Number')\n",
    "\n",
    "        self.Blood_group = Blood_group\n",
    "        \n",
    "        self.mob_no = mob_no\n",
    "        \n",
    "        self.address = address\n",
    "        \n",
    "    def print_id(self):        \n",
    "        print(f'{self.clg_name}\\n\\nStudent Name : {self.std_name}\\nRoll no : {self.roll_no}\\nBlood_group : {self.Blood_group}\\nMobile no : {self.mob_no}\\nAddress : {self.address}')\n",
    "\n",
    "              "
   ]
  },
  {
   "cell_type": "code",
   "execution_count": 23,
   "id": "a2c173b7",
   "metadata": {},
   "outputs": [],
   "source": [
    "#instance\n",
    "sutar_id = college(std_name='Sutar',roll_no='CMR007', Blood_group='B+',mob_no='858-585-8585',address='Hyderabad')\n",
    "syed_id = college(std_name='Syed',roll_no='CMR017',Blood_group='B+',mob_no='959-595-5858',address='Hyderabad')\n",
    "sai_id = college(std_name='Sai',roll_no='CMR027',Blood_group='B+',mob_no='656-565-5858',address='Hyderabad')"
   ]
  },
  {
   "cell_type": "code",
   "execution_count": 24,
   "id": "b8df6b25",
   "metadata": {},
   "outputs": [
    {
     "name": "stdout",
     "output_type": "stream",
     "text": [
      "CMR Engineering college\n",
      "\n",
      "Student Name : Sai\n",
      "Roll no : CMR027\n",
      "Blood_group : B+\n",
      "Mobile no : 656-565-5858\n",
      "Address : Hyderabad\n"
     ]
    }
   ],
   "source": [
    "sai_id.print_id()"
   ]
  },
  {
   "cell_type": "markdown",
   "id": "aa4687f4",
   "metadata": {},
   "source": [
    "# BITS PILANI Hyderabad"
   ]
  },
  {
   "cell_type": "code",
   "execution_count": 25,
   "id": "a9f47bd6",
   "metadata": {},
   "outputs": [],
   "source": [
    "class college:\n",
    "    \n",
    "    def __init__(self, clg_name = None,std_name=None,roll_no=None,Blood_group=None, mob_no=None,address=None):\n",
    "        \n",
    "        self.clg_name = 'BITS PILANI Hyderabad'\n",
    "        \n",
    "        self.std_name = std_name\n",
    "        \n",
    "        if roll_no[:4]=='BITS':\n",
    "            self.roll_no=roll_no\n",
    "        else:\n",
    "            raise ValueError('Invalid Roll Number')\n",
    "\n",
    "        self.Blood_group = Blood_group\n",
    "        \n",
    "        self.mob_no = mob_no\n",
    "        \n",
    "        self.address = address\n",
    "        \n",
    "    def print_id(self):        \n",
    "        print(f'{self.clg_name}\\n\\nStudent Name : {self.std_name}\\nRoll no : {self.roll_no}\\nBlood_group : {self.Blood_group}\\nMobile no : {self.mob_no}\\nAddress : {self.address}')\n",
    "\n",
    "              "
   ]
  },
  {
   "cell_type": "code",
   "execution_count": 26,
   "id": "51aa9fc6",
   "metadata": {},
   "outputs": [],
   "source": [
    "#instance\n",
    "sutar_id = college(std_name='Sutar',roll_no='BITS007', Blood_group='B+',mob_no='858-585-8585',address='Hyderabad')\n",
    "syed_id = college(std_name='Syed',roll_no='BITS017',Blood_group='B+',mob_no='959-595-5858',address='Hyderabad')\n",
    "sai_id = college(std_name='Sai',roll_no='BITS027',Blood_group='B+',mob_no='656-565-5858',address='Hyderabad')"
   ]
  },
  {
   "cell_type": "code",
   "execution_count": 29,
   "id": "f117dde2",
   "metadata": {},
   "outputs": [
    {
     "name": "stdout",
     "output_type": "stream",
     "text": [
      "BITS PILANI Hyderabad\n",
      "\n",
      "Student Name : Syed\n",
      "Roll no : BITS017\n",
      "Blood_group : B+\n",
      "Mobile no : 959-595-5858\n",
      "Address : Hyderabad\n"
     ]
    }
   ],
   "source": [
    "syed_id.print_id()"
   ]
  }
 ],
 "metadata": {
  "kernelspec": {
   "display_name": "Python 3",
   "language": "python",
   "name": "python3"
  },
  "language_info": {
   "codemirror_mode": {
    "name": "ipython",
    "version": 3
   },
   "file_extension": ".py",
   "mimetype": "text/x-python",
   "name": "python",
   "nbconvert_exporter": "python",
   "pygments_lexer": "ipython3",
   "version": "3.8.8"
  }
 },
 "nbformat": 4,
 "nbformat_minor": 5
}
