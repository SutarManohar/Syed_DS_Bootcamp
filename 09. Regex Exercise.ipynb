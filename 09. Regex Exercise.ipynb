{
 "cells": [
  {
   "cell_type": "markdown",
   "id": "b2889fd5",
   "metadata": {},
   "source": [
    "### Regular Expression\n",
    "A RegEx, or Regular Expression, is a sequence of characters that forms a search pattern.RegEx can be used to check if a string contains the specified search pattern."
   ]
  },
  {
   "cell_type": "markdown",
   "id": "d5296969",
   "metadata": {},
   "source": [
    "## \n",
    "Function-------Description\n",
    "\n",
    "findall--------Returns a list containing all matches\n",
    "\n",
    "search---------Returns a Match object if there is a match anywhere in the string\n",
    "\n",
    "split----------Returns a list where the string has been split at each match\n",
    "\n",
    "sub------------Replaces one or many matches with a string"
   ]
  },
  {
   "cell_type": "markdown",
   "id": "5e578a25",
   "metadata": {},
   "source": [
    "#\n",
    "- The findall() Function\n",
    "\n",
    "  The findall() function returns a list containing all matches.\n",
    "\n",
    "\n",
    "- The search() Function\n",
    "\n",
    "  The search() function searches the string for a match, and returns a Match object if there is a match.\n",
    "  \n",
    "  If there is more than one match, only the first occurrence of the match will be returned:\n",
    " \n",
    " \n",
    "- The split() Function\n",
    "\n",
    "  The split() function returns a list where the string has been split at each match:\n",
    " \n",
    " \n",
    "- The sub() Function\n",
    "\n",
    "  The sub() function replaces the matches with the text of your choice:\n",
    "\n",
    "\n",
    "- Match Object\n",
    "\n",
    "  A Match Object is an object containing information about the search and the result.\n",
    "    \n",
    "  The Match object has properties and methods used to retrieve information about the search, and the result:\n",
    "\n",
    "  .span() returns a tuple containing the start-, and end positions of the match.\n",
    "  \n",
    "  .string returns the string passed into the function\n",
    "  \n",
    "  .group() returns the part of the string where there was a match\n",
    "\n"
   ]
  },
  {
   "cell_type": "markdown",
   "id": "fbf199bb",
   "metadata": {},
   "source": [
    "#### Character set [ ]\n",
    "\n",
    "Match any character in the set."
   ]
  },
  {
   "cell_type": "code",
   "execution_count": 1,
   "id": "5c31318f",
   "metadata": {},
   "outputs": [
    {
     "name": "stdout",
     "output_type": "stream",
     "text": [
      "['h', 'e', 'a', 'i', 'i', 'a', 'i']\n",
      "['a', 'i', 'i', 'a', 'i']\n"
     ]
    }
   ],
   "source": [
    "import re\n",
    "\n",
    "txt = \"The rain in Spain\"\n",
    "\n",
    "#Find all lower case characters alphabetically between \"a\" and \"m\":\n",
    "x = re.findall(\"[a-m]\", txt)\n",
    "y = re.findall(\"[ai]\", txt)\n",
    "\n",
    "print(x)\n",
    "print(y)\n"
   ]
  },
  {
   "cell_type": "markdown",
   "id": "26f1e3e5",
   "metadata": {},
   "source": [
    "## \\ \n",
    "Signals a special sequence (can also be used to escape special characters)"
   ]
  },
  {
   "cell_type": "code",
   "execution_count": 7,
   "id": "c0001dba",
   "metadata": {},
   "outputs": [],
   "source": [
    "txt = \"That will be 59$ dollars\""
   ]
  },
  {
   "cell_type": "code",
   "execution_count": 5,
   "id": "e681f722",
   "metadata": {},
   "outputs": [
    {
     "name": "stdout",
     "output_type": "stream",
     "text": [
      "['That', 'will', 'doll']\n"
     ]
    }
   ],
   "source": [
    "print(re.findall(\"\\w\\w\\w\\w\", txt)) # returns the word contains 4-letters"
   ]
  },
  {
   "cell_type": "code",
   "execution_count": 6,
   "id": "ef9cf1cd",
   "metadata": {},
   "outputs": [
    {
     "name": "stdout",
     "output_type": "stream",
     "text": [
      "['T', 'h', 'a', 't', 'w', 'i', 'l', 'l', 'b', 'e', '5', '9', 'd', 'o', 'l', 'l', 'a', 'r', 's']\n"
     ]
    }
   ],
   "source": [
    "print(re.findall(\"\\w\", txt))# returns overal string in list as individual strings"
   ]
  },
  {
   "cell_type": "code",
   "execution_count": 11,
   "id": "ba4383ad",
   "metadata": {},
   "outputs": [
    {
     "name": "stdout",
     "output_type": "stream",
     "text": [
      "[' ', ' ', ' ', '$', ' ']\n"
     ]
    }
   ],
   "source": [
    "print(re.findall(\"\\W\", txt))# Not word"
   ]
  },
  {
   "cell_type": "code",
   "execution_count": 71,
   "id": "d9565924",
   "metadata": {},
   "outputs": [
    {
     "name": "stdout",
     "output_type": "stream",
     "text": [
      "['5', '9']\n"
     ]
    }
   ],
   "source": [
    "print(re.findall(\"\\d\", txt))# digit"
   ]
  },
  {
   "cell_type": "code",
   "execution_count": 72,
   "id": "95ef5143",
   "metadata": {},
   "outputs": [
    {
     "name": "stdout",
     "output_type": "stream",
     "text": [
      "['59']\n"
     ]
    }
   ],
   "source": [
    "print(re.findall(\"\\d\\d\", txt))"
   ]
  },
  {
   "cell_type": "markdown",
   "id": "b7a4d3af",
   "metadata": {},
   "source": [
    "# .\n",
    "Any character (except newline character)"
   ]
  },
  {
   "cell_type": "code",
   "execution_count": 95,
   "id": "b7563c7b",
   "metadata": {},
   "outputs": [
    {
     "name": "stdout",
     "output_type": "stream",
     "text": [
      "['hello']\n",
      "['plan']\n"
     ]
    }
   ],
   "source": [
    "a = \"hello planet\"\n",
    "\n",
    "#Search for a sequence that starts with \"he\", followed by two (any) characters, and an \"o\":\n",
    "\n",
    "print( re.findall(\"he..o\", a))\n",
    "print( re.findall(\"p..n\", a))"
   ]
  },
  {
   "cell_type": "markdown",
   "id": "70ec1afb",
   "metadata": {},
   "source": [
    "## ^\n",
    "Starts with"
   ]
  },
  {
   "cell_type": "code",
   "execution_count": 80,
   "id": "cfab51cf",
   "metadata": {},
   "outputs": [
    {
     "name": "stdout",
     "output_type": "stream",
     "text": [
      "Yes, the string starts with 'h'\n"
     ]
    }
   ],
   "source": [
    "txt = \"hello planet\"\n",
    "\n",
    "#Check if the string starts with 'hello':\n",
    "\n",
    "x = re.findall(\"^h\", txt)\n",
    "\n",
    "if x:\n",
    "    print(\"Yes, the string starts with 'h'\")\n",
    "else:\n",
    "    print(\"No match\")\n"
   ]
  },
  {
   "cell_type": "code",
   "execution_count": 82,
   "id": "10b27ba9",
   "metadata": {},
   "outputs": [
    {
     "name": "stdout",
     "output_type": "stream",
     "text": [
      "Yes, the string starts with 'hello'\n"
     ]
    }
   ],
   "source": [
    "txt = \"hello planet\"\n",
    "\n",
    "#Check if the string starts with 'hello':\n",
    "\n",
    "x = re.findall(\"^hello\", txt)\n",
    "\n",
    "if x:\n",
    "    print(\"Yes, the string starts with 'hello'\")\n",
    "else:\n",
    "    print(\"No match\")"
   ]
  },
  {
   "cell_type": "markdown",
   "id": "b05787f2",
   "metadata": {},
   "source": [
    "## $\n",
    "Ends with"
   ]
  },
  {
   "cell_type": "code",
   "execution_count": 83,
   "id": "4ce1e29b",
   "metadata": {},
   "outputs": [
    {
     "name": "stdout",
     "output_type": "stream",
     "text": [
      "Yes, the string ends with 't'\n"
     ]
    }
   ],
   "source": [
    "txt = \"hello planet\"\n",
    "\n",
    "#Check if the string ends with 'planet':\n",
    "\n",
    "x = re.findall(\"t$\", txt)\n",
    "if x:\n",
    "    print(\"Yes, the string ends with 't'\")\n",
    "else:\n",
    "    print(\"No match\")"
   ]
  },
  {
   "cell_type": "code",
   "execution_count": 84,
   "id": "b2f67a86",
   "metadata": {},
   "outputs": [
    {
     "name": "stdout",
     "output_type": "stream",
     "text": [
      "Yes, the string ends with 'planet'\n"
     ]
    }
   ],
   "source": [
    "txt = \"hello planet\"\n",
    "\n",
    "#Check if the string ends with 'planet':\n",
    "\n",
    "x = re.findall(\"planet$\", txt)\n",
    "if x:\n",
    "    print(\"Yes, the string ends with 'planet'\")\n",
    "else:\n",
    "    print(\"No match\")\n"
   ]
  },
  {
   "cell_type": "markdown",
   "id": "c2a61a2e",
   "metadata": {},
   "source": [
    "# *\n",
    "Zero or more occurrences"
   ]
  },
  {
   "cell_type": "code",
   "execution_count": 86,
   "id": "8159a47a",
   "metadata": {},
   "outputs": [
    {
     "name": "stdout",
     "output_type": "stream",
     "text": [
      "['hello']\n"
     ]
    }
   ],
   "source": [
    "txt = \"hello planet\"\n",
    "\n",
    "#Search for a sequence that starts with \"he\", followed by 0 or more  (any) characters, and an \"o\":\n",
    "\n",
    "print(re.findall(\"he.*o\", txt))"
   ]
  },
  {
   "cell_type": "code",
   "execution_count": 92,
   "id": "110f0e0d",
   "metadata": {},
   "outputs": [
    {
     "name": "stdout",
     "output_type": "stream",
     "text": [
      "['planet']\n"
     ]
    }
   ],
   "source": [
    "txt = \"hello planet\"\n",
    "\n",
    "x = re.findall(\"p.*t\", txt)\n",
    "\n",
    "print(x)"
   ]
  },
  {
   "cell_type": "markdown",
   "id": "3d27a963",
   "metadata": {},
   "source": [
    "# +\n",
    "One or more occurrences"
   ]
  },
  {
   "cell_type": "code",
   "execution_count": 13,
   "id": "8ab75269",
   "metadata": {},
   "outputs": [
    {
     "name": "stdout",
     "output_type": "stream",
     "text": [
      "['planet']\n",
      "['planet']\n",
      "['planet']\n"
     ]
    }
   ],
   "source": [
    "txt = \"hello planet\"\n",
    "\n",
    "#Search for a sequence that starts with \"p\", followed by 1 or more  (any) characters, and an \"t\":\n",
    "\n",
    "x = re.findall(\"p.+t\", txt) # One or more occurrences\n",
    "z = re.findall(\"p.*t\", txt) # Zero or more occurrences\n",
    "#using(.)\n",
    "y = re.findall(\"p....t\", txt)\n",
    "\n",
    "print(x)\n",
    "print(z)\n",
    "print(y)\n"
   ]
  },
  {
   "cell_type": "markdown",
   "id": "e914d5b8",
   "metadata": {},
   "source": [
    "# ?\n",
    "Zero or one occurrences"
   ]
  },
  {
   "cell_type": "code",
   "execution_count": 108,
   "id": "6ffc3265",
   "metadata": {},
   "outputs": [
    {
     "name": "stdout",
     "output_type": "stream",
     "text": [
      "['sky']\n",
      "[]\n"
     ]
    }
   ],
   "source": [
    "txt = \"sky hello\"\n",
    "\n",
    "#Search for a sequence that starts with \"s\", followed by 0 or 1  (any) character, and an \"y\":\n",
    "\n",
    "x = re.findall(\"s.?y\", txt)\n",
    "\n",
    "y = re.findall(\"h.?o\", txt) \n",
    "# it wont works bcoz '?' it works as followed by 0 or 1 here we got more than 1 between (h and o)\n",
    "\n",
    "print(x)\n",
    "print(y)"
   ]
  },
  {
   "cell_type": "markdown",
   "id": "45fdab42",
   "metadata": {},
   "source": [
    "# {}\n",
    "Exactly the specified number of occurrences"
   ]
  },
  {
   "cell_type": "code",
   "execution_count": 120,
   "id": "7fefdda3",
   "metadata": {},
   "outputs": [
    {
     "name": "stdout",
     "output_type": "stream",
     "text": [
      "['hello']\n",
      "['planet']\n"
     ]
    }
   ],
   "source": [
    "txt = \"hello planet\"\n",
    "\n",
    "#Search for a sequence that starts with \"he\", followed excactly 2 (any) characters, and an \"o\":\n",
    "print(re.findall(\"he.{2}o\", txt))\n",
    "\n",
    "print(re.findall(\"p.{4}t\", txt))\n"
   ]
  },
  {
   "cell_type": "markdown",
   "id": "4ae0f0ea",
   "metadata": {},
   "source": [
    "# |\n",
    "Either or"
   ]
  },
  {
   "cell_type": "code",
   "execution_count": 121,
   "id": "58decc42",
   "metadata": {},
   "outputs": [
    {
     "name": "stdout",
     "output_type": "stream",
     "text": [
      "['falls']\n"
     ]
    }
   ],
   "source": [
    "txt = \"The rain in Spain falls mainly in the plain!\"\n",
    "\n",
    "print(re.findall(\"falls\", txt))"
   ]
  },
  {
   "cell_type": "code",
   "execution_count": 123,
   "id": "21f867f2",
   "metadata": {},
   "outputs": [
    {
     "name": "stdout",
     "output_type": "stream",
     "text": [
      "['falls']\n",
      "Yes, there is at least one match!\n"
     ]
    }
   ],
   "source": [
    "# using | --> or\n",
    "txt = \"The rain in Spain falls mainly in the plain!\"\n",
    "\n",
    "#Check if the string contains either \"falls\" or \"stays\":\n",
    "\n",
    "x = re.findall(\"falls|stays\", txt)\n",
    "\n",
    "print(x)\n",
    "\n",
    "if x:\n",
    "    print(\"Yes, there is at least one match!\")\n",
    "else:\n",
    "    print(\"No match\")\n",
    "\n"
   ]
  },
  {
   "cell_type": "markdown",
   "id": "aff0ad64",
   "metadata": {},
   "source": [
    "# A special sequence is a \\ followed by one of the characters in the list below, and has a special meaning:"
   ]
  },
  {
   "cell_type": "markdown",
   "id": "421bcd70",
   "metadata": {},
   "source": [
    "# \\A\n",
    "Returns a match if the specified characters are at the beginning of the string"
   ]
  },
  {
   "cell_type": "code",
   "execution_count": 17,
   "id": "f93e3cce",
   "metadata": {},
   "outputs": [
    {
     "name": "stdout",
     "output_type": "stream",
     "text": [
      "[]\n",
      "No match\n"
     ]
    }
   ],
   "source": [
    "txt = \"The rain in Spain\"\n",
    "\n",
    "#Check if the string starts with \"The\":\n",
    "\n",
    "x = re.findall(\"\\AThe\", txt)\n",
    "\n",
    "print(x)\n",
    "\n",
    "if x:\n",
    "      print(\"Yes, there is a match!\")\n",
    "else:\n",
    "      print(\"No match\")\n"
   ]
  },
  {
   "cell_type": "markdown",
   "id": "6aa12ad4",
   "metadata": {},
   "source": [
    "# \\b\n",
    "Returns a match where the specified characters are at the beginning or at the end of a word\n",
    "(the \"r\" in the beginning is making sure that the string is being treated as a \"raw string\")"
   ]
  },
  {
   "cell_type": "code",
   "execution_count": 18,
   "id": "a100e433",
   "metadata": {},
   "outputs": [
    {
     "name": "stdout",
     "output_type": "stream",
     "text": [
      "['rai']\n",
      "Yes, there is at least one match!\n"
     ]
    }
   ],
   "source": [
    "txt = \"The rain in Spain\"\n",
    "\n",
    "#Check if \"ain\" is present at the beginning of a WORD:\n",
    "\n",
    "x = re.findall(r\"\\brai\", txt)\n",
    "\n",
    "print(x)\n",
    "\n",
    "if x:\n",
    "    print(\"Yes, there is at least one match!\")\n",
    "else:\n",
    "    print(\"No match\")\n"
   ]
  },
  {
   "cell_type": "code",
   "execution_count": 134,
   "id": "7a4fbcdf",
   "metadata": {},
   "outputs": [
    {
     "name": "stdout",
     "output_type": "stream",
     "text": [
      "['ain', 'ain']\n",
      "Yes, there is at least one match!\n"
     ]
    }
   ],
   "source": [
    "txt = \"The rain in Spain\"\n",
    "\n",
    "#Check if \"ain\" is present at the end of a WORD:\n",
    "\n",
    "x = re.findall(r\"ain\\b\", txt)\n",
    "\n",
    "print(x)\n",
    "\n",
    "if x:\n",
    "    print(\"Yes, there is at least one match!\")\n",
    "else:\n",
    "    print(\"No match\")\n"
   ]
  },
  {
   "cell_type": "code",
   "execution_count": 135,
   "id": "3d94a13d",
   "metadata": {},
   "outputs": [
    {
     "name": "stdout",
     "output_type": "stream",
     "text": [
      "['Spa']\n",
      "Yes, there is at least one match!\n"
     ]
    }
   ],
   "source": [
    "txt = \"The rain in Spain\"\n",
    "\n",
    "#Check if \"ain\" is present at the beginning of a WORD:\n",
    "\n",
    "x = re.findall(r\"\\bSpa\", txt)\n",
    "\n",
    "print(x)\n",
    "\n",
    "if x:\n",
    "    print(\"Yes, there is at least one match!\")\n",
    "else:\n",
    "    print(\"No match\")\n"
   ]
  },
  {
   "cell_type": "markdown",
   "id": "e419a284",
   "metadata": {},
   "source": [
    "# \\B\n",
    "Returns a match where the specified characters are present, but NOT at the beginning (or at the end) of a word\n",
    "(the \"r\" in the beginning is making sure that the string is being treated as a \"raw string\")"
   ]
  },
  {
   "cell_type": "code",
   "execution_count": 144,
   "id": "8f67f855",
   "metadata": {},
   "outputs": [
    {
     "name": "stdout",
     "output_type": "stream",
     "text": [
      "['ain', 'ain']\n",
      "Yes, there is at least one match!\n"
     ]
    }
   ],
   "source": [
    "txt = \"The rain in Spain\"\n",
    "\n",
    "#Check if \"ain\" is present, but NOT at the beginning of a word:\n",
    "\n",
    "x = re.findall(r\"\\Bain\", txt)\n",
    "\n",
    "print(x)\n",
    "\n",
    "if x:\n",
    "    print(\"Yes, there is at least one match!\")\n",
    "else:\n",
    "    print(\"No match\")\n"
   ]
  },
  {
   "cell_type": "markdown",
   "id": "b3ae7249",
   "metadata": {},
   "source": [
    "# \\d\n",
    "Returns a match where the string contains digits (numbers from 0-9)"
   ]
  },
  {
   "cell_type": "code",
   "execution_count": 136,
   "id": "f17902be",
   "metadata": {},
   "outputs": [
    {
     "name": "stdout",
     "output_type": "stream",
     "text": [
      "[]\n",
      "No match\n"
     ]
    }
   ],
   "source": [
    "txt = \"The rain in Spain\"\n",
    "\n",
    "#Check if the string contains any digits (numbers from 0-9):\n",
    "\n",
    "x = re.findall(\"\\d\", txt)\n",
    "\n",
    "print(x)\n",
    "\n",
    "if x:\n",
    "    print(\"Yes, there is at least one match!\")\n",
    "else:\n",
    "    print(\"No match\")\n"
   ]
  },
  {
   "cell_type": "code",
   "execution_count": 138,
   "id": "a51698c5",
   "metadata": {},
   "outputs": [
    {
     "name": "stdout",
     "output_type": "stream",
     "text": [
      "['9', '9', '5']\n",
      "Yes, there is at least one match!\n"
     ]
    }
   ],
   "source": [
    "txt = \"The rain99 in Spain5\"\n",
    "\n",
    "#Check if the string contains any digits (numbers from 0-9):\n",
    "\n",
    "x = re.findall(\"\\d\", txt)\n",
    "\n",
    "print(x)\n",
    "\n",
    "if x:\n",
    "    print(\"Yes, there is at least one match!\")\n",
    "else:\n",
    "    print(\"No match\")\n"
   ]
  },
  {
   "cell_type": "markdown",
   "id": "0836a8ab",
   "metadata": {},
   "source": [
    "# \\D\n",
    "Returns a match where the string DOES NOT contain digits"
   ]
  },
  {
   "cell_type": "code",
   "execution_count": 147,
   "id": "9a3ff9ce",
   "metadata": {},
   "outputs": [
    {
     "name": "stdout",
     "output_type": "stream",
     "text": [
      "['T', 'h', 'e', ' ', 'r', 'a', 'i', 'n', ' ', 'i', 'n', ' ', 'S', 'p', 'a', 'i', 'n']\n",
      "Yes, there is at least one match!\n"
     ]
    }
   ],
   "source": [
    "txt = \"The rain in Spain99\"\n",
    "\n",
    "#Return a match at every no-digit character:\n",
    "\n",
    "x = re.findall(\"\\D\", txt)\n",
    "\n",
    "print(x)\n",
    "\n",
    "if x:\n",
    "    print(\"Yes, there is at least one match!\")\n",
    "else:\n",
    "    print(\"No match\")\n"
   ]
  },
  {
   "cell_type": "markdown",
   "id": "1979cdf5",
   "metadata": {},
   "source": [
    "# \\s\n",
    "Returns a match where the string contains a white space character"
   ]
  },
  {
   "cell_type": "code",
   "execution_count": 148,
   "id": "adf9431d",
   "metadata": {},
   "outputs": [
    {
     "name": "stdout",
     "output_type": "stream",
     "text": [
      "[' ', ' ', ' ']\n",
      "Yes, there is at least one match!\n"
     ]
    }
   ],
   "source": [
    "txt = \"The rain in Spain\"\n",
    "\n",
    "#Return a match at every white-space character:\n",
    "\n",
    "x = re.findall(\"\\s\", txt)\n",
    "\n",
    "print(x)\n",
    "\n",
    "if x:\n",
    "    print(\"Yes, there is at least one match!\")\n",
    "else:\n",
    "    print(\"No match\")\n"
   ]
  },
  {
   "cell_type": "markdown",
   "id": "48d9ef65",
   "metadata": {},
   "source": [
    "# \\S\n",
    "Returns a match where the string DOES NOT contain a white space character"
   ]
  },
  {
   "cell_type": "code",
   "execution_count": 149,
   "id": "ed77a91d",
   "metadata": {},
   "outputs": [
    {
     "name": "stdout",
     "output_type": "stream",
     "text": [
      "['T', 'h', 'e', 'r', 'a', 'i', 'n', 'i', 'n', 'S', 'p', 'a', 'i', 'n']\n",
      "Yes, there is at least one match!\n"
     ]
    }
   ],
   "source": [
    "txt = \"The rain in Spain\"\n",
    "\n",
    "#Return a match at every NON white-space character:\n",
    "\n",
    "x = re.findall(\"\\S\", txt)\n",
    "\n",
    "print(x)\n",
    "\n",
    "if x:\n",
    "    print(\"Yes, there is at least one match!\")\n",
    "else:\n",
    "    print(\"No match\")\n"
   ]
  },
  {
   "cell_type": "markdown",
   "id": "fc5f131d",
   "metadata": {},
   "source": [
    "# \\w\n",
    "Returns a match where the string contains any word characters (characters from a to Z, digits from 0-9, and the underscore _ character)"
   ]
  },
  {
   "cell_type": "code",
   "execution_count": 151,
   "id": "5bd9a074",
   "metadata": {},
   "outputs": [
    {
     "name": "stdout",
     "output_type": "stream",
     "text": [
      "['T', 'h', 'e', '_', 'r', 'a', 'i', 'n', 'i', 'n', 'S', 'p', 'a', 'i', 'n', '9', '9']\n",
      "Yes, there is at least one match!\n"
     ]
    }
   ],
   "source": [
    "txt = \"The_rain in Spain99\"\n",
    "\n",
    "#Return a match at every word character (characters from a to Z, digits from 0-9, and the underscore _ character):\n",
    "\n",
    "x = re.findall(\"\\w\", txt)\n",
    "\n",
    "print(x)\n",
    "\n",
    "if x:\n",
    "    print(\"Yes, there is at least one match!\")\n",
    "else:\n",
    "    print(\"No match\")"
   ]
  },
  {
   "cell_type": "markdown",
   "id": "2a638c79",
   "metadata": {},
   "source": [
    "# \\W\n",
    "Returns a match where the string DOES NOT contain any word characters"
   ]
  },
  {
   "cell_type": "code",
   "execution_count": 167,
   "id": "b6f17ae7",
   "metadata": {},
   "outputs": [
    {
     "name": "stdout",
     "output_type": "stream",
     "text": [
      "['@', ' ', '?', ' ', '^', ' ', '^', ' ', '!']\n",
      "Yes, there is at least one match!\n"
     ]
    }
   ],
   "source": [
    "txt = \"The@ rain? in^ ^ Spain!\"\n",
    "\n",
    "#Return a match at every NON word character (characters NOT between a and Z. Like \"!\", \"?\" white-space etc.):\n",
    "\n",
    "x = re.findall(\"\\W\", txt)\n",
    "\n",
    "print(x)\n",
    "\n",
    "if x:\n",
    "    print(\"Yes, there is at least one match!\")\n",
    "else:\n",
    "    print(\"No match\")\n"
   ]
  },
  {
   "cell_type": "markdown",
   "id": "d34f6040",
   "metadata": {},
   "source": [
    "# \\ Z\n",
    "Returns a match if the specified characters are at the end of the string"
   ]
  },
  {
   "cell_type": "code",
   "execution_count": 173,
   "id": "964e7db3",
   "metadata": {},
   "outputs": [
    {
     "name": "stdout",
     "output_type": "stream",
     "text": [
      "['pain']\n",
      "Yes, there is a match!\n"
     ]
    }
   ],
   "source": [
    "txt = \"The rain in Spain\"\n",
    "\n",
    "#Check if the string ends with \"Spain\":\n",
    "\n",
    "x = re.findall(\"pain\\Z\", txt)\n",
    "\n",
    "print(x)\n",
    "\n",
    "if x:\n",
    "    print(\"Yes, there is a match!\")\n",
    "else:\n",
    "    print(\"No match\")"
   ]
  },
  {
   "cell_type": "code",
   "execution_count": 176,
   "id": "9911f89d",
   "metadata": {},
   "outputs": [
    {
     "name": "stdout",
     "output_type": "stream",
     "text": [
      "['pain']\n",
      "['pain']\n"
     ]
    }
   ],
   "source": [
    "txt = \"The rain in Spain\"\n",
    "\n",
    "#Check if the string ends with \"Spain\": using \"\\z\"\n",
    "print(re.findall(\"pain\\Z\", txt))\n",
    "\n",
    "#Check if the string ends with \"Spain\": using \"$\"\n",
    "print(re.findall(\"pain$\", txt))"
   ]
  },
  {
   "cell_type": "markdown",
   "id": "429153d0",
   "metadata": {},
   "source": [
    "# Sets\n",
    "A set is a set of characters inside a pair of square brackets [] with a special meaning:"
   ]
  },
  {
   "cell_type": "markdown",
   "id": "37622c04",
   "metadata": {},
   "source": [
    "# [arn]\n",
    "Returns a match where one of the specified characters (a, r, or n) is present"
   ]
  },
  {
   "cell_type": "code",
   "execution_count": 178,
   "id": "6f52339a",
   "metadata": {},
   "outputs": [
    {
     "name": "stdout",
     "output_type": "stream",
     "text": [
      "['r', 'a', 'n', 'n', 'a', 'n']\n",
      "Yes, there is at least one match!\n"
     ]
    }
   ],
   "source": [
    "txt = \"The rain in Spain\"\n",
    "\n",
    "#Check if the string has any a, r, or n characters:\n",
    "\n",
    "x = re.findall(\"[arn]\", txt)\n",
    "\n",
    "print(x)\n",
    "\n",
    "if x:\n",
    "    print(\"Yes, there is at least one match!\")\n",
    "else:\n",
    "    print(\"No match\")\n"
   ]
  },
  {
   "cell_type": "markdown",
   "id": "6884a2fc",
   "metadata": {},
   "source": [
    "# [a-n]\n",
    "Returns a match for any lower case character, alphabetically between a and n"
   ]
  },
  {
   "cell_type": "code",
   "execution_count": 179,
   "id": "e0f4cc10",
   "metadata": {},
   "outputs": [
    {
     "name": "stdout",
     "output_type": "stream",
     "text": [
      "['h', 'e', 'a', 'i', 'n', 'i', 'n', 'a', 'i', 'n']\n",
      "Yes, there is at least one match!\n"
     ]
    }
   ],
   "source": [
    "txt = \"The rain in Spain\"\n",
    "\n",
    "#Check if the string has any characters between a and n:\n",
    "\n",
    "x = re.findall(\"[a-n]\", txt)\n",
    "\n",
    "print(x)\n",
    "\n",
    "if x:\n",
    "    print(\"Yes, there is at least one match!\")\n",
    "else:\n",
    "    print(\"No match\")\n"
   ]
  },
  {
   "cell_type": "markdown",
   "id": "8885973f",
   "metadata": {},
   "source": [
    "# [^arn]\n",
    "Returns a match for any character EXCEPT a, r, and n"
   ]
  },
  {
   "cell_type": "code",
   "execution_count": 180,
   "id": "5c486914",
   "metadata": {},
   "outputs": [
    {
     "name": "stdout",
     "output_type": "stream",
     "text": [
      "['T', 'h', 'e', ' ', 'i', ' ', 'i', ' ', 'S', 'p', 'i']\n",
      "Yes, there is at least one match!\n"
     ]
    }
   ],
   "source": [
    "txt = \"The rain in Spain\"\n",
    "\n",
    "#Check if the string has other characters than a, r, or n:\n",
    "\n",
    "x = re.findall(\"[^arn]\", txt)\n",
    "\n",
    "print(x)\n",
    "\n",
    "if x:\n",
    "    print(\"Yes, there is at least one match!\")\n",
    "else:\n",
    "    print(\"No match\")"
   ]
  },
  {
   "cell_type": "code",
   "execution_count": 186,
   "id": "289fd86f",
   "metadata": {},
   "outputs": [
    {
     "name": "stdout",
     "output_type": "stream",
     "text": [
      "['The']\n",
      "Yes, there is at least one match!\n"
     ]
    }
   ],
   "source": [
    "# using ^ for getting a string starts with the given word\n",
    "\n",
    "\n",
    "txt = \"The rain in Spain\"\n",
    "\n",
    "#Check if the string has other characters than a, r, or n:\n",
    "\n",
    "x=re.findall(\"^The\", txt)\n",
    "print(x)\n",
    "\n",
    "if x:\n",
    "    print(\"Yes, there is at least one match!\")\n",
    "else:\n",
    "    print(\"No match\")"
   ]
  },
  {
   "cell_type": "markdown",
   "id": "fe98f1f8",
   "metadata": {},
   "source": [
    "# [0123]\n",
    "Returns a match where any of the specified digits (0, 1, 2, or 3) are present"
   ]
  },
  {
   "cell_type": "code",
   "execution_count": 189,
   "id": "19dea755",
   "metadata": {},
   "outputs": [
    {
     "name": "stdout",
     "output_type": "stream",
     "text": [
      "['0', '0', '1', '1']\n",
      "Yes, there is at least one match!\n"
     ]
    }
   ],
   "source": [
    "txt = \"The00 rain 11 in Spain99\"\n",
    "\n",
    "#Check if the string has any 0, 1, 2, or 3 digits:\n",
    "\n",
    "x = re.findall(\"[0123]\", txt)\n",
    "\n",
    "print(x)\n",
    "\n",
    "if x:\n",
    "    print(\"Yes, there is at least one match!\")\n",
    "else:\n",
    "    print(\"No match\")\n"
   ]
  },
  {
   "cell_type": "markdown",
   "id": "ee2afc37",
   "metadata": {},
   "source": [
    "# [0-9]\n",
    "Returns a match for any digit between 0 and 9"
   ]
  },
  {
   "cell_type": "code",
   "execution_count": 192,
   "id": "1a028f7f",
   "metadata": {},
   "outputs": [
    {
     "name": "stdout",
     "output_type": "stream",
     "text": [
      "['1', '1', '4', '5']\n",
      "Yes, there is at least one match!\n"
     ]
    }
   ],
   "source": [
    "\n",
    "txt = \"9 times before 11:45 AM\"\n",
    "\n",
    "#Check if the string has any digits:\n",
    "\n",
    "x = re.findall(\"[0-8]\", txt)\n",
    "\n",
    "print(x)\n",
    "\n",
    "if x:\n",
    "    print(\"Yes, there is at least one match!\")\n",
    "else:\n",
    "    print(\"No match\")"
   ]
  },
  {
   "cell_type": "markdown",
   "id": "bd6158b4",
   "metadata": {},
   "source": [
    "# [0-5][0-9]\n",
    "Returns a match for any two-digit numbers from 00 and 59"
   ]
  },
  {
   "cell_type": "code",
   "execution_count": 193,
   "id": "2ea61c2d",
   "metadata": {},
   "outputs": [
    {
     "name": "stdout",
     "output_type": "stream",
     "text": [
      "['11', '45']\n",
      "Yes, there is at least one match!\n"
     ]
    }
   ],
   "source": [
    "txt = \"8 times before 11:45 AM\"\n",
    "\n",
    "#Check if the string has any two-digit numbers, from 00 to 59:\n",
    "\n",
    "x = re.findall(\"[0-5][0-9]\", txt)\n",
    "\n",
    "print(x)\n",
    "\n",
    "if x:\n",
    "    print(\"Yes, there is at least one match!\")\n",
    "else:\n",
    "    print(\"No match\")"
   ]
  },
  {
   "cell_type": "markdown",
   "id": "4228216b",
   "metadata": {},
   "source": [
    "# [a-zA-Z]\n",
    "Returns a match for any character alphabetically between a and z, lower case OR upper case"
   ]
  },
  {
   "cell_type": "code",
   "execution_count": 195,
   "id": "8558afc1",
   "metadata": {},
   "outputs": [
    {
     "name": "stdout",
     "output_type": "stream",
     "text": [
      "['t', 'i', 'm', 'e', 's', 'b', 'e', 'f', 'o', 'r', 'e', 'A', 'M']\n",
      "Yes, there is at least one match!\n"
     ]
    }
   ],
   "source": [
    "txt = \"8 times before 11:45 AM\"\n",
    "\n",
    "#Check if the string has any characters from a to z lower case, and A to Z upper case:\n",
    "\n",
    "x = re.findall(\"[a-zA-Z]\", txt)\n",
    "\n",
    "print(x)\n",
    "\n",
    "if x:\n",
    "    print(\"Yes, there is at least one match!\")\n",
    "else:\n",
    "    print(\"No match\")\n"
   ]
  },
  {
   "cell_type": "markdown",
   "id": "beea3729",
   "metadata": {},
   "source": [
    "# [+]\n",
    "In sets, +, *, ., |, (), $,{} has no special meaning, so [+] means: return a match for any + character in the string"
   ]
  },
  {
   "cell_type": "code",
   "execution_count": 200,
   "id": "071168e1",
   "metadata": {},
   "outputs": [
    {
     "name": "stdout",
     "output_type": "stream",
     "text": [
      "['+']\n",
      "Yes, there is at least one match!\n"
     ]
    }
   ],
   "source": [
    "txt = \"8 times before+ 11:45 AM\"\n",
    "\n",
    "#Check if the string has any + characters:\n",
    "\n",
    "x = re.findall(\"[+]\", txt)\n",
    "\n",
    "print(x)\n",
    "\n",
    "if x:\n",
    "    print(\"Yes, there is at least one match!\")\n",
    "else:\n",
    "    print(\"No match\")"
   ]
  },
  {
   "cell_type": "code",
   "execution_count": 201,
   "id": "43edf280",
   "metadata": {},
   "outputs": [
    {
     "name": "stdout",
     "output_type": "stream",
     "text": [
      "['@']\n",
      "Yes, there is at least one match!\n"
     ]
    }
   ],
   "source": [
    "txt = \"8 times before @11:45 AM\"\n",
    "\n",
    "#Check if the string has any + characters:\n",
    "\n",
    "x = re.findall(\"[@]\", txt)\n",
    "\n",
    "print(x)\n",
    "\n",
    "if x:\n",
    "    print(\"Yes, there is at least one match!\")\n",
    "else:\n",
    "    print(\"No match\")"
   ]
  },
  {
   "cell_type": "markdown",
   "id": "80f8693c",
   "metadata": {},
   "source": [
    "# The findall() Function\n",
    "The findall() function returns a list containing all matches."
   ]
  },
  {
   "cell_type": "code",
   "execution_count": 202,
   "id": "93d1c432",
   "metadata": {},
   "outputs": [
    {
     "name": "stdout",
     "output_type": "stream",
     "text": [
      "['ai', 'ai']\n"
     ]
    }
   ],
   "source": [
    "txt = \"The rain in Spain\"\n",
    "x = re.findall(\"ai\", txt) #finding for ai in txt\n",
    "print(x)"
   ]
  },
  {
   "cell_type": "code",
   "execution_count": 203,
   "id": "39777902",
   "metadata": {},
   "outputs": [
    {
     "name": "stdout",
     "output_type": "stream",
     "text": [
      "[]\n"
     ]
    }
   ],
   "source": [
    "txt = \"The rain in Spain\"\n",
    "x = re.findall(\"Portugal\", txt) #finding for Portugal in txt\n",
    "print(x)"
   ]
  },
  {
   "cell_type": "markdown",
   "id": "22957147",
   "metadata": {},
   "source": [
    "# The search() Function\n",
    "- The search() function searches the string for a match, and returns a Match object if there is a match.\n",
    "\n",
    "- If there is more than one match, only the first occurrence of the match will be returned:"
   ]
  },
  {
   "cell_type": "code",
   "execution_count": 209,
   "id": "fbdc354f",
   "metadata": {},
   "outputs": [
    {
     "name": "stdout",
     "output_type": "stream",
     "text": [
      "<re.Match object; span=(3, 4), match=' '>\n",
      "The first white-space character is located in position: 3\n"
     ]
    }
   ],
   "source": [
    "txt = \"The rain in Spain\"\n",
    "x = re.search(\"\\s\", txt) #search for 1st whitespace\n",
    "print(x)\n",
    "print(\"The first white-space character is located in position:\", x.start())"
   ]
  },
  {
   "cell_type": "markdown",
   "id": "10cff6a1",
   "metadata": {},
   "source": [
    "# The split() Function\n",
    "The split() function returns a list where the string has been split at each match:"
   ]
  },
  {
   "cell_type": "code",
   "execution_count": 218,
   "id": "19916a26",
   "metadata": {},
   "outputs": [
    {
     "name": "stdout",
     "output_type": "stream",
     "text": [
      "['The', 'rain', 'in', 'Spain']\n"
     ]
    }
   ],
   "source": [
    "# spliting with white space \\s\n",
    "txt = \"The rain in Spain\"\n",
    "x = re.split(\"\\s\", txt)\n",
    "print(x)"
   ]
  },
  {
   "cell_type": "code",
   "execution_count": 217,
   "id": "88905270",
   "metadata": {},
   "outputs": [
    {
     "name": "stdout",
     "output_type": "stream",
     "text": [
      "['The', 'rain', 'in', 'Spain']\n"
     ]
    }
   ],
   "source": [
    "# spliting with ' '\n",
    "txt = \"The rain in Spain\"\n",
    "x = re.split(\" \", txt) \n",
    "print(x)"
   ]
  },
  {
   "cell_type": "markdown",
   "id": "1f191757",
   "metadata": {},
   "source": [
    "# The sub() Function\n",
    "The sub() function replaces the matches with the text of your choice:"
   ]
  },
  {
   "cell_type": "code",
   "execution_count": 219,
   "id": "7d875d2e",
   "metadata": {},
   "outputs": [
    {
     "name": "stdout",
     "output_type": "stream",
     "text": [
      "The9rain9in9Spain\n"
     ]
    }
   ],
   "source": [
    "txt = \"The rain in Spain\"\n",
    "x = re.sub(\"\\s\", \"9\", txt)\n",
    "print(x)"
   ]
  },
  {
   "cell_type": "code",
   "execution_count": 227,
   "id": "3c15b0e1",
   "metadata": {},
   "outputs": [
    {
     "name": "stdout",
     "output_type": "stream",
     "text": [
      "The9rain in Spain\n",
      "The9rain9in Spain\n",
      "The9rain9in9Spain\n"
     ]
    }
   ],
   "source": [
    "txt = \"The rain in Spain\"\n",
    "print(re.sub(\"\\s\", \"9\", txt, 1))\n",
    "print(re.sub(\"\\s\", \"9\", txt, 2))\n",
    "print(re.sub(\"\\s\", \"9\", txt, 3))\n"
   ]
  },
  {
   "cell_type": "code",
   "execution_count": 220,
   "id": "786c27b2",
   "metadata": {},
   "outputs": [
    {
     "name": "stdout",
     "output_type": "stream",
     "text": [
      "The RAIN in Spain\n"
     ]
    }
   ],
   "source": [
    "txt = \"The rain in Spain\"\n",
    "x = re.sub(\"rain\", \"RAIN\", txt)\n",
    "print(x)"
   ]
  },
  {
   "cell_type": "markdown",
   "id": "c4d1d5ef",
   "metadata": {},
   "source": [
    "# Match Object"
   ]
  },
  {
   "cell_type": "code",
   "execution_count": 228,
   "id": "7ed7f3ea",
   "metadata": {},
   "outputs": [
    {
     "name": "stdout",
     "output_type": "stream",
     "text": [
      "<re.Match object; span=(5, 7), match='ai'>\n"
     ]
    }
   ],
   "source": [
    "txt = \"The rain in Spain\"\n",
    "x = re.search(\"ai\", txt)\n",
    "print(x) #this will print an object"
   ]
  },
  {
   "cell_type": "markdown",
   "id": "eb85204a",
   "metadata": {},
   "source": [
    "#### .span() this will print index of \\w wordstarts with S till end of that particular word"
   ]
  },
  {
   "cell_type": "code",
   "execution_count": 234,
   "id": "c368caa5",
   "metadata": {},
   "outputs": [
    {
     "name": "stdout",
     "output_type": "stream",
     "text": [
      "(12, 17)\n"
     ]
    }
   ],
   "source": [
    "txt = \"The rain in Spain was heavy\"\n",
    "x = re.search(r\"\\bS\\w+\", txt)\n",
    "print(x.span()) #this will print index of \\w wordstarts with S till end of that particular word"
   ]
  },
  {
   "cell_type": "markdown",
   "id": "34fa3d5a",
   "metadata": {},
   "source": [
    "#### .string   this will print the string if given search word is present in that"
   ]
  },
  {
   "cell_type": "code",
   "execution_count": 244,
   "id": "1730d5ec",
   "metadata": {},
   "outputs": [
    {
     "name": "stdout",
     "output_type": "stream",
     "text": [
      "The rain in Spain\n"
     ]
    }
   ],
   "source": [
    "txt = \"The rain in Spain\"\n",
    "x = re.search(r\"\\bS\\w+\", txt)\n",
    "print(x.string) # this will print the string if given search word is present in that"
   ]
  },
  {
   "cell_type": "markdown",
   "id": "be2b7841",
   "metadata": {},
   "source": [
    "#### .group() this will print the word from string according to our regex pattern"
   ]
  },
  {
   "cell_type": "code",
   "execution_count": 238,
   "id": "69cd75c1",
   "metadata": {},
   "outputs": [
    {
     "name": "stdout",
     "output_type": "stream",
     "text": [
      "Spain\n"
     ]
    }
   ],
   "source": [
    "txt = \"The rain in Spain\"\n",
    "x = re.search(r\"\\bS\\w+\", txt)\n",
    "print(x.group()) # this will print the word from string according to our regex pattern"
   ]
  }
 ],
 "metadata": {
  "kernelspec": {
   "display_name": "Python 3",
   "language": "python",
   "name": "python3"
  },
  "language_info": {
   "codemirror_mode": {
    "name": "ipython",
    "version": 3
   },
   "file_extension": ".py",
   "mimetype": "text/x-python",
   "name": "python",
   "nbconvert_exporter": "python",
   "pygments_lexer": "ipython3",
   "version": "3.8.8"
  }
 },
 "nbformat": 4,
 "nbformat_minor": 5
}
