{
 "cells": [
  {
   "cell_type": "code",
   "execution_count": 2,
   "id": "6e75aa1b",
   "metadata": {},
   "outputs": [],
   "source": [
    "# Data Manipulattion\n",
    "import numpy as np\n",
    "import pandas as pd\n",
    "\n",
    "# Visualization\n",
    "import matplotlib.pyplot as plt\n",
    "import seaborn as sns\n",
    "sns.set()\n",
    "\n",
    "# Importing Dependencies\n",
    "%matplotlib inline"
   ]
  },
  {
   "cell_type": "code",
   "execution_count": 3,
   "id": "210f0eb7",
   "metadata": {},
   "outputs": [
    {
     "data": {
      "text/html": [
       "<div>\n",
       "<style scoped>\n",
       "    .dataframe tbody tr th:only-of-type {\n",
       "        vertical-align: middle;\n",
       "    }\n",
       "\n",
       "    .dataframe tbody tr th {\n",
       "        vertical-align: top;\n",
       "    }\n",
       "\n",
       "    .dataframe thead th {\n",
       "        text-align: right;\n",
       "    }\n",
       "</style>\n",
       "<table border=\"1\" class=\"dataframe\">\n",
       "  <thead>\n",
       "    <tr style=\"text-align: right;\">\n",
       "      <th></th>\n",
       "      <th>PassengerId</th>\n",
       "      <th>Survived</th>\n",
       "      <th>Pclass</th>\n",
       "      <th>Name</th>\n",
       "      <th>Sex</th>\n",
       "      <th>Age</th>\n",
       "      <th>SibSp</th>\n",
       "      <th>Parch</th>\n",
       "      <th>Ticket</th>\n",
       "      <th>Fare</th>\n",
       "      <th>Cabin</th>\n",
       "      <th>Embarked</th>\n",
       "    </tr>\n",
       "  </thead>\n",
       "  <tbody>\n",
       "    <tr>\n",
       "      <th>0</th>\n",
       "      <td>1</td>\n",
       "      <td>0</td>\n",
       "      <td>3</td>\n",
       "      <td>Braund, Mr. Owen Harris</td>\n",
       "      <td>male</td>\n",
       "      <td>22.0</td>\n",
       "      <td>1</td>\n",
       "      <td>0</td>\n",
       "      <td>A/5 21171</td>\n",
       "      <td>7.2500</td>\n",
       "      <td>NaN</td>\n",
       "      <td>S</td>\n",
       "    </tr>\n",
       "    <tr>\n",
       "      <th>1</th>\n",
       "      <td>2</td>\n",
       "      <td>1</td>\n",
       "      <td>1</td>\n",
       "      <td>Cumings, Mrs. John Bradley (Florence Briggs Th...</td>\n",
       "      <td>female</td>\n",
       "      <td>38.0</td>\n",
       "      <td>1</td>\n",
       "      <td>0</td>\n",
       "      <td>PC 17599</td>\n",
       "      <td>71.2833</td>\n",
       "      <td>C85</td>\n",
       "      <td>C</td>\n",
       "    </tr>\n",
       "    <tr>\n",
       "      <th>2</th>\n",
       "      <td>3</td>\n",
       "      <td>1</td>\n",
       "      <td>3</td>\n",
       "      <td>Heikkinen, Miss. Laina</td>\n",
       "      <td>female</td>\n",
       "      <td>26.0</td>\n",
       "      <td>0</td>\n",
       "      <td>0</td>\n",
       "      <td>STON/O2. 3101282</td>\n",
       "      <td>7.9250</td>\n",
       "      <td>NaN</td>\n",
       "      <td>S</td>\n",
       "    </tr>\n",
       "  </tbody>\n",
       "</table>\n",
       "</div>"
      ],
      "text/plain": [
       "   PassengerId  Survived  Pclass  \\\n",
       "0            1         0       3   \n",
       "1            2         1       1   \n",
       "2            3         1       3   \n",
       "\n",
       "                                                Name     Sex   Age  SibSp  \\\n",
       "0                            Braund, Mr. Owen Harris    male  22.0      1   \n",
       "1  Cumings, Mrs. John Bradley (Florence Briggs Th...  female  38.0      1   \n",
       "2                             Heikkinen, Miss. Laina  female  26.0      0   \n",
       "\n",
       "   Parch            Ticket     Fare Cabin Embarked  \n",
       "0      0         A/5 21171   7.2500   NaN        S  \n",
       "1      0          PC 17599  71.2833   C85        C  \n",
       "2      0  STON/O2. 3101282   7.9250   NaN        S  "
      ]
     },
     "execution_count": 3,
     "metadata": {},
     "output_type": "execute_result"
    }
   ],
   "source": [
    "# Read and preview the train data from csv file.\n",
    "train = pd.read_csv('Titanic/titanic_train.csv')\n",
    "train.head(3)"
   ]
  },
  {
   "cell_type": "code",
   "execution_count": 4,
   "id": "8a20b6cd",
   "metadata": {},
   "outputs": [
    {
     "data": {
      "text/html": [
       "<div>\n",
       "<style scoped>\n",
       "    .dataframe tbody tr th:only-of-type {\n",
       "        vertical-align: middle;\n",
       "    }\n",
       "\n",
       "    .dataframe tbody tr th {\n",
       "        vertical-align: top;\n",
       "    }\n",
       "\n",
       "    .dataframe thead th {\n",
       "        text-align: right;\n",
       "    }\n",
       "</style>\n",
       "<table border=\"1\" class=\"dataframe\">\n",
       "  <thead>\n",
       "    <tr style=\"text-align: right;\">\n",
       "      <th></th>\n",
       "      <th>PassengerId</th>\n",
       "      <th>Survived</th>\n",
       "      <th>Pclass</th>\n",
       "      <th>Name</th>\n",
       "      <th>Sex</th>\n",
       "      <th>Age</th>\n",
       "      <th>SibSp</th>\n",
       "      <th>Parch</th>\n",
       "      <th>Ticket</th>\n",
       "      <th>Fare</th>\n",
       "      <th>Cabin</th>\n",
       "      <th>Embarked</th>\n",
       "    </tr>\n",
       "  </thead>\n",
       "  <tbody>\n",
       "    <tr>\n",
       "      <th>0</th>\n",
       "      <td>1</td>\n",
       "      <td>0</td>\n",
       "      <td>3</td>\n",
       "      <td>Braund, Mr. Owen Harris</td>\n",
       "      <td>male</td>\n",
       "      <td>22.0</td>\n",
       "      <td>1</td>\n",
       "      <td>0</td>\n",
       "      <td>A/5 21171</td>\n",
       "      <td>7.2500</td>\n",
       "      <td>NaN</td>\n",
       "      <td>S</td>\n",
       "    </tr>\n",
       "    <tr>\n",
       "      <th>1</th>\n",
       "      <td>2</td>\n",
       "      <td>1</td>\n",
       "      <td>1</td>\n",
       "      <td>Cumings, Mrs. John Bradley (Florence Briggs Th...</td>\n",
       "      <td>female</td>\n",
       "      <td>38.0</td>\n",
       "      <td>1</td>\n",
       "      <td>0</td>\n",
       "      <td>PC 17599</td>\n",
       "      <td>71.2833</td>\n",
       "      <td>C85</td>\n",
       "      <td>C</td>\n",
       "    </tr>\n",
       "    <tr>\n",
       "      <th>2</th>\n",
       "      <td>3</td>\n",
       "      <td>1</td>\n",
       "      <td>3</td>\n",
       "      <td>Heikkinen, Miss. Laina</td>\n",
       "      <td>female</td>\n",
       "      <td>26.0</td>\n",
       "      <td>0</td>\n",
       "      <td>0</td>\n",
       "      <td>STON/O2. 3101282</td>\n",
       "      <td>7.9250</td>\n",
       "      <td>NaN</td>\n",
       "      <td>S</td>\n",
       "    </tr>\n",
       "  </tbody>\n",
       "</table>\n",
       "</div>"
      ],
      "text/plain": [
       "   PassengerId  Survived  Pclass  \\\n",
       "0            1         0       3   \n",
       "1            2         1       1   \n",
       "2            3         1       3   \n",
       "\n",
       "                                                Name     Sex   Age  SibSp  \\\n",
       "0                            Braund, Mr. Owen Harris    male  22.0      1   \n",
       "1  Cumings, Mrs. John Bradley (Florence Briggs Th...  female  38.0      1   \n",
       "2                             Heikkinen, Miss. Laina  female  26.0      0   \n",
       "\n",
       "   Parch            Ticket     Fare Cabin Embarked  \n",
       "0      0         A/5 21171   7.2500   NaN        S  \n",
       "1      0          PC 17599  71.2833   C85        C  \n",
       "2      0  STON/O2. 3101282   7.9250   NaN        S  "
      ]
     },
     "execution_count": 4,
     "metadata": {},
     "output_type": "execute_result"
    }
   ],
   "source": [
    "# Read and preview the test data from csv file.\n",
    "test = pd.read_csv('Titanic/titanic_test.csv')\n",
    "train.head(3)\n"
   ]
  },
  {
   "cell_type": "code",
   "execution_count": 5,
   "id": "f8070673",
   "metadata": {},
   "outputs": [
    {
     "data": {
      "text/html": [
       "<div>\n",
       "<style scoped>\n",
       "    .dataframe tbody tr th:only-of-type {\n",
       "        vertical-align: middle;\n",
       "    }\n",
       "\n",
       "    .dataframe tbody tr th {\n",
       "        vertical-align: top;\n",
       "    }\n",
       "\n",
       "    .dataframe thead th {\n",
       "        text-align: right;\n",
       "    }\n",
       "</style>\n",
       "<table border=\"1\" class=\"dataframe\">\n",
       "  <thead>\n",
       "    <tr style=\"text-align: right;\">\n",
       "      <th></th>\n",
       "      <th>PassengerId</th>\n",
       "      <th>Survived</th>\n",
       "      <th>Pclass</th>\n",
       "      <th>Name</th>\n",
       "      <th>Sex</th>\n",
       "      <th>Age</th>\n",
       "      <th>SibSp</th>\n",
       "      <th>Parch</th>\n",
       "      <th>Ticket</th>\n",
       "      <th>Fare</th>\n",
       "      <th>Cabin</th>\n",
       "      <th>Embarked</th>\n",
       "    </tr>\n",
       "  </thead>\n",
       "  <tbody>\n",
       "    <tr>\n",
       "      <th>0</th>\n",
       "      <td>1</td>\n",
       "      <td>0.0</td>\n",
       "      <td>3</td>\n",
       "      <td>Braund, Mr. Owen Harris</td>\n",
       "      <td>male</td>\n",
       "      <td>22.0</td>\n",
       "      <td>1</td>\n",
       "      <td>0</td>\n",
       "      <td>A/5 21171</td>\n",
       "      <td>7.2500</td>\n",
       "      <td>NaN</td>\n",
       "      <td>S</td>\n",
       "    </tr>\n",
       "    <tr>\n",
       "      <th>1</th>\n",
       "      <td>2</td>\n",
       "      <td>1.0</td>\n",
       "      <td>1</td>\n",
       "      <td>Cumings, Mrs. John Bradley (Florence Briggs Th...</td>\n",
       "      <td>female</td>\n",
       "      <td>38.0</td>\n",
       "      <td>1</td>\n",
       "      <td>0</td>\n",
       "      <td>PC 17599</td>\n",
       "      <td>71.2833</td>\n",
       "      <td>C85</td>\n",
       "      <td>C</td>\n",
       "    </tr>\n",
       "    <tr>\n",
       "      <th>2</th>\n",
       "      <td>3</td>\n",
       "      <td>1.0</td>\n",
       "      <td>3</td>\n",
       "      <td>Heikkinen, Miss. Laina</td>\n",
       "      <td>female</td>\n",
       "      <td>26.0</td>\n",
       "      <td>0</td>\n",
       "      <td>0</td>\n",
       "      <td>STON/O2. 3101282</td>\n",
       "      <td>7.9250</td>\n",
       "      <td>NaN</td>\n",
       "      <td>S</td>\n",
       "    </tr>\n",
       "  </tbody>\n",
       "</table>\n",
       "</div>"
      ],
      "text/plain": [
       "   PassengerId  Survived  Pclass  \\\n",
       "0            1       0.0       3   \n",
       "1            2       1.0       1   \n",
       "2            3       1.0       3   \n",
       "\n",
       "                                                Name     Sex   Age  SibSp  \\\n",
       "0                            Braund, Mr. Owen Harris    male  22.0      1   \n",
       "1  Cumings, Mrs. John Bradley (Florence Briggs Th...  female  38.0      1   \n",
       "2                             Heikkinen, Miss. Laina  female  26.0      0   \n",
       "\n",
       "   Parch            Ticket     Fare Cabin Embarked  \n",
       "0      0         A/5 21171   7.2500   NaN        S  \n",
       "1      0          PC 17599  71.2833   C85        C  \n",
       "2      0  STON/O2. 3101282   7.9250   NaN        S  "
      ]
     },
     "execution_count": 5,
     "metadata": {},
     "output_type": "execute_result"
    }
   ],
   "source": [
    "# Merge train and test data together. This eliminates the hassle of handling train and test data seperately for various analysis.\n",
    "merged = pd.concat([train,test], sort = False)\n",
    "merged.head(3)"
   ]
  },
  {
   "cell_type": "code",
   "execution_count": 6,
   "id": "ba35ffbe",
   "metadata": {},
   "outputs": [
    {
     "data": {
      "text/plain": [
       "(1309, 12)"
      ]
     },
     "execution_count": 6,
     "metadata": {},
     "output_type": "execute_result"
    }
   ],
   "source": [
    "# Let's see the shape of the combined data\n",
    "merged.shape"
   ]
  },
  {
   "cell_type": "code",
   "execution_count": 7,
   "id": "42801d27",
   "metadata": {},
   "outputs": [
    {
     "data": {
      "text/plain": [
       "Index(['PassengerId', 'Survived', 'Pclass', 'Name', 'Sex', 'Age', 'SibSp',\n",
       "       'Parch', 'Ticket', 'Fare', 'Cabin', 'Embarked'],\n",
       "      dtype='object')"
      ]
     },
     "execution_count": 7,
     "metadata": {},
     "output_type": "execute_result"
    }
   ],
   "source": [
    "# variable in the combined data\n",
    "merged.columns"
   ]
  },
  {
   "cell_type": "markdown",
   "id": "71288744",
   "metadata": {},
   "source": [
    "#### Here comes the description of all variables:\n",
    "- PassengerId is a unique identifying number assigned to each passenger.\n",
    "- Survived is a flag that indicates if a passenger survived or died ( i.e., 0 = No, 1 = Yes).\n",
    "- Pclass is the passenger class (i.e., 1 = 1st class, 2 = 2nd class, 3 = 3rd class).\n",
    "- Name is the name of the passenger.\n",
    "- Sex indicates the gender of the passenger (i.e., Male or female).\n",
    "- Age indicates the age of the passenger.\n",
    "- Sibsp is the number of siblings/spouses aboard.\n",
    "- Parch is the number of parents/children aboard.\n",
    "- Ticket indicates the ticket number issued to the passenger.\n",
    "- Fare indicates the amount of money spent on their ticket.\n",
    "- Cabin indicates the cabin category occupied by the passenger.\n",
    "- Embarked indicates the port where the passenger embarked from (i.e., C = Cherbourg, Q = Queenstown, S = Southampton).\n",
    "\n",
    "#### Here, Survived is the target variable and rest of the variables are predictor variables."
   ]
  },
  {
   "cell_type": "markdown",
   "id": "0d6ac4a0",
   "metadata": {},
   "source": [
    "### Variable Data Types "
   ]
  },
  {
   "cell_type": "code",
   "execution_count": 8,
   "id": "1c5c1a16",
   "metadata": {},
   "outputs": [
    {
     "name": "stdout",
     "output_type": "stream",
     "text": [
      "<class 'pandas.core.frame.DataFrame'>\n",
      "Int64Index: 1309 entries, 0 to 417\n",
      "Data columns (total 12 columns):\n",
      " #   Column       Non-Null Count  Dtype  \n",
      "---  ------       --------------  -----  \n",
      " 0   PassengerId  1309 non-null   int64  \n",
      " 1   Survived     891 non-null    float64\n",
      " 2   Pclass       1309 non-null   int64  \n",
      " 3   Name         1309 non-null   object \n",
      " 4   Sex          1309 non-null   object \n",
      " 5   Age          1046 non-null   float64\n",
      " 6   SibSp        1309 non-null   int64  \n",
      " 7   Parch        1309 non-null   int64  \n",
      " 8   Ticket       1309 non-null   object \n",
      " 9   Fare         1308 non-null   float64\n",
      " 10  Cabin        295 non-null    object \n",
      " 11  Embarked     1307 non-null   object \n",
      "dtypes: float64(3), int64(4), object(5)\n",
      "memory usage: 132.9+ KB\n"
     ]
    }
   ],
   "source": [
    "# data types of different variables\n",
    "merged.info()"
   ]
  },
  {
   "cell_type": "markdown",
   "id": "0610b575",
   "metadata": {},
   "source": [
    "\n",
    "- Three float variables: - Age, Fare, and Survived.\n",
    "- Four int variables: - Pclass, SibSp, Parch and PassengerId\n",
    "- Five Object(number+strings) variables: - Name, Sex, Ticket, Cabin, and Embarked."
   ]
  },
  {
   "cell_type": "code",
   "execution_count": 9,
   "id": "6940a6bb",
   "metadata": {},
   "outputs": [
    {
     "data": {
      "text/html": [
       "<div>\n",
       "<style scoped>\n",
       "    .dataframe tbody tr th:only-of-type {\n",
       "        vertical-align: middle;\n",
       "    }\n",
       "\n",
       "    .dataframe tbody tr th {\n",
       "        vertical-align: top;\n",
       "    }\n",
       "\n",
       "    .dataframe thead th {\n",
       "        text-align: right;\n",
       "    }\n",
       "</style>\n",
       "<table border=\"1\" class=\"dataframe\">\n",
       "  <thead>\n",
       "    <tr style=\"text-align: right;\">\n",
       "      <th></th>\n",
       "      <th>PassengerId</th>\n",
       "      <th>Survived</th>\n",
       "      <th>Pclass</th>\n",
       "      <th>Age</th>\n",
       "      <th>SibSp</th>\n",
       "      <th>Parch</th>\n",
       "      <th>Fare</th>\n",
       "    </tr>\n",
       "  </thead>\n",
       "  <tbody>\n",
       "    <tr>\n",
       "      <th>count</th>\n",
       "      <td>1309.000000</td>\n",
       "      <td>891.000000</td>\n",
       "      <td>1309.000000</td>\n",
       "      <td>1046.000000</td>\n",
       "      <td>1309.000000</td>\n",
       "      <td>1309.000000</td>\n",
       "      <td>1308.000000</td>\n",
       "    </tr>\n",
       "    <tr>\n",
       "      <th>mean</th>\n",
       "      <td>655.000000</td>\n",
       "      <td>0.383838</td>\n",
       "      <td>2.294882</td>\n",
       "      <td>29.881138</td>\n",
       "      <td>0.498854</td>\n",
       "      <td>0.385027</td>\n",
       "      <td>33.295479</td>\n",
       "    </tr>\n",
       "    <tr>\n",
       "      <th>std</th>\n",
       "      <td>378.020061</td>\n",
       "      <td>0.486592</td>\n",
       "      <td>0.837836</td>\n",
       "      <td>14.413493</td>\n",
       "      <td>1.041658</td>\n",
       "      <td>0.865560</td>\n",
       "      <td>51.758668</td>\n",
       "    </tr>\n",
       "    <tr>\n",
       "      <th>min</th>\n",
       "      <td>1.000000</td>\n",
       "      <td>0.000000</td>\n",
       "      <td>1.000000</td>\n",
       "      <td>0.170000</td>\n",
       "      <td>0.000000</td>\n",
       "      <td>0.000000</td>\n",
       "      <td>0.000000</td>\n",
       "    </tr>\n",
       "    <tr>\n",
       "      <th>25%</th>\n",
       "      <td>328.000000</td>\n",
       "      <td>0.000000</td>\n",
       "      <td>2.000000</td>\n",
       "      <td>21.000000</td>\n",
       "      <td>0.000000</td>\n",
       "      <td>0.000000</td>\n",
       "      <td>7.895800</td>\n",
       "    </tr>\n",
       "    <tr>\n",
       "      <th>50%</th>\n",
       "      <td>655.000000</td>\n",
       "      <td>0.000000</td>\n",
       "      <td>3.000000</td>\n",
       "      <td>28.000000</td>\n",
       "      <td>0.000000</td>\n",
       "      <td>0.000000</td>\n",
       "      <td>14.454200</td>\n",
       "    </tr>\n",
       "    <tr>\n",
       "      <th>75%</th>\n",
       "      <td>982.000000</td>\n",
       "      <td>1.000000</td>\n",
       "      <td>3.000000</td>\n",
       "      <td>39.000000</td>\n",
       "      <td>1.000000</td>\n",
       "      <td>0.000000</td>\n",
       "      <td>31.275000</td>\n",
       "    </tr>\n",
       "    <tr>\n",
       "      <th>max</th>\n",
       "      <td>1309.000000</td>\n",
       "      <td>1.000000</td>\n",
       "      <td>3.000000</td>\n",
       "      <td>80.000000</td>\n",
       "      <td>8.000000</td>\n",
       "      <td>9.000000</td>\n",
       "      <td>512.329200</td>\n",
       "    </tr>\n",
       "  </tbody>\n",
       "</table>\n",
       "</div>"
      ],
      "text/plain": [
       "       PassengerId    Survived       Pclass          Age        SibSp  \\\n",
       "count  1309.000000  891.000000  1309.000000  1046.000000  1309.000000   \n",
       "mean    655.000000    0.383838     2.294882    29.881138     0.498854   \n",
       "std     378.020061    0.486592     0.837836    14.413493     1.041658   \n",
       "min       1.000000    0.000000     1.000000     0.170000     0.000000   \n",
       "25%     328.000000    0.000000     2.000000    21.000000     0.000000   \n",
       "50%     655.000000    0.000000     3.000000    28.000000     0.000000   \n",
       "75%     982.000000    1.000000     3.000000    39.000000     1.000000   \n",
       "max    1309.000000    1.000000     3.000000    80.000000     8.000000   \n",
       "\n",
       "             Parch         Fare  \n",
       "count  1309.000000  1308.000000  \n",
       "mean      0.385027    33.295479  \n",
       "std       0.865560    51.758668  \n",
       "min       0.000000     0.000000  \n",
       "25%       0.000000     7.895800  \n",
       "50%       0.000000    14.454200  \n",
       "75%       0.000000    31.275000  \n",
       "max       9.000000   512.329200  "
      ]
     },
     "execution_count": 9,
     "metadata": {},
     "output_type": "execute_result"
    }
   ],
   "source": [
    "# Description of the data variables\n",
    "merged.describe()"
   ]
  },
  {
   "cell_type": "markdown",
   "id": "82c87c75",
   "metadata": {},
   "source": [
    "#### Missing Variables"
   ]
  },
  {
   "cell_type": "code",
   "execution_count": 10,
   "id": "21254cce",
   "metadata": {},
   "outputs": [
    {
     "data": {
      "text/plain": [
       "<AxesSubplot:>"
      ]
     },
     "execution_count": 10,
     "metadata": {},
     "output_type": "execute_result"
    },
    {
     "data": {
      "image/png": "[encoded data removed]",
      "text/plain": [
       "<Figure size 576x288 with 1 Axes>"
      ]
     },
     "metadata": {
      "needs_background": "light"
     },
     "output_type": "display_data"
    }
   ],
   "source": [
    "# Visualization of Missing variables\n",
    "plt.figure(figsize=(8,4))\n",
    "sns.heatmap(merged.isnull(), yticklabels=False, cbar=False, cmap='plasma')"
   ]
  },
  {
   "cell_type": "code",
   "execution_count": 11,
   "id": "140fc5a1",
   "metadata": {},
   "outputs": [
    {
     "data": {
      "text/plain": [
       "PassengerId       0\n",
       "Survived        418\n",
       "Pclass            0\n",
       "Name              0\n",
       "Sex               0\n",
       "Age             263\n",
       "SibSp             0\n",
       "Parch             0\n",
       "Ticket            0\n",
       "Fare              1\n",
       "Cabin          1014\n",
       "Embarked          2\n",
       "dtype: int64"
      ]
     },
     "execution_count": 11,
     "metadata": {},
     "output_type": "execute_result"
    }
   ],
   "source": [
    "# Count of missing variables\n",
    "merged.isnull().sum()"
   ]
  },
  {
   "cell_type": "markdown",
   "id": "6700b4ee",
   "metadata": {},
   "source": [
    "- Survived column is showing missing values becuase in test.csv don't have the survived column.\n",
    "- Age, Cabin, Fare and Embarked has missing values."
   ]
  },
  {
   "cell_type": "code",
   "execution_count": 12,
   "id": "444743a6",
   "metadata": {},
   "outputs": [
    {
     "name": "stdout",
     "output_type": "stream",
     "text": [
      "295\n"
     ]
    },
    {
     "data": {
      "text/plain": [
       "C23 C25 C27        6\n",
       "G6                 5\n",
       "B57 B59 B63 B66    5\n",
       "C78                4\n",
       "F4                 4\n",
       "Name: Cabin, dtype: int64"
      ]
     },
     "execution_count": 12,
     "metadata": {},
     "output_type": "execute_result"
    }
   ],
   "source": [
    "# Let's manully understand the Cabin column.\n",
    "print(merged['Cabin'].value_counts().sum())\n",
    "merged['Cabin'].value_counts().head()"
   ]
  },
  {
   "cell_type": "markdown",
   "id": "452f8a1a",
   "metadata": {},
   "source": [
    "- Cabin is alphanumeric type variable with no special characters (like ., /, % etc) between letters and numbers.\n",
    "- It has also 1014 missing obsevations.\n",
    "- It is reasonable to presume that those NaNs didn't have a cabin.\n",
    "- We will flag NaN as 'X' and keep only the 1st character where Cabin has alphanumeric values."
   ]
  },
  {
   "cell_type": "code",
   "execution_count": 13,
   "id": "cc7bec3c",
   "metadata": {},
   "outputs": [],
   "source": [
    "# let's fill all NaNs of cabin as 'X'\n",
    "merged['Cabin'].fillna(value = 'X', inplace=True)"
   ]
  },
  {
   "cell_type": "code",
   "execution_count": 14,
   "id": "c2a8f662",
   "metadata": {},
   "outputs": [
    {
     "data": {
      "text/plain": [
       "X    1014\n",
       "C      94\n",
       "B      65\n",
       "D      46\n",
       "E      41\n",
       "A      22\n",
       "F      21\n",
       "G       5\n",
       "T       1\n",
       "Name: Cabin, dtype: int64"
      ]
     },
     "execution_count": 14,
     "metadata": {},
     "output_type": "execute_result"
    }
   ],
   "source": [
    "# Keeping 1st charater from the Cabin\n",
    "merged['Cabin'] = merged['Cabin'].apply(lambda x: x[0])\n",
    "merged['Cabin'].value_counts()\n"
   ]
  },
  {
   "cell_type": "code",
   "execution_count": 15,
   "id": "36481440",
   "metadata": {},
   "outputs": [
    {
     "data": {
      "text/plain": [
       "0                              Braund, Mr. Owen Harris\n",
       "1    Cumings, Mrs. John Bradley (Florence Briggs Th...\n",
       "2                               Heikkinen, Miss. Laina\n",
       "3         Futrelle, Mrs. Jacques Heath (Lily May Peel)\n",
       "4                             Allen, Mr. William Henry\n",
       "5                                     Moran, Mr. James\n",
       "6                              McCarthy, Mr. Timothy J\n",
       "7                       Palsson, Master. Gosta Leonard\n",
       "8    Johnson, Mrs. Oscar W (Elisabeth Vilhelmina Berg)\n",
       "9                  Nasser, Mrs. Nicholas (Adele Achem)\n",
       "Name: Name, dtype: object"
      ]
     },
     "execution_count": 15,
     "metadata": {},
     "output_type": "execute_result"
    }
   ],
   "source": [
    "#Let's see the Name column.\n",
    "merged['Name'].head(10)"
   ]
  },
  {
   "cell_type": "code",
   "execution_count": 16,
   "id": "ee750025",
   "metadata": {},
   "outputs": [],
   "source": [
    "merged['Title'] = merged['Name'].str.extract('([A-Za-z]+)\\.')"
   ]
  },
  {
   "cell_type": "code",
   "execution_count": 17,
   "id": "ca1fc9a3",
   "metadata": {},
   "outputs": [
    {
     "data": {
      "text/plain": [
       "0          Mr\n",
       "1         Mrs\n",
       "2        Miss\n",
       "3         Mrs\n",
       "4          Mr\n",
       "        ...  \n",
       "413        Mr\n",
       "414      Dona\n",
       "415        Mr\n",
       "416        Mr\n",
       "417    Master\n",
       "Name: Title, Length: 1309, dtype: object"
      ]
     },
     "execution_count": 17,
     "metadata": {},
     "output_type": "execute_result"
    }
   ],
   "source": [
    "merged['Title']"
   ]
  },
  {
   "cell_type": "code",
   "execution_count": 18,
   "id": "675972f0",
   "metadata": {},
   "outputs": [
    {
     "data": {
      "text/plain": [
       "Mr          757\n",
       "Miss        260\n",
       "Mrs         197\n",
       "Master       61\n",
       "Rev           8\n",
       "Dr            8\n",
       "Col           4\n",
       "Ms            2\n",
       "Major         2\n",
       "Mlle          2\n",
       "Mme           1\n",
       "Sir           1\n",
       "Don           1\n",
       "Countess      1\n",
       "Lady          1\n",
       "Capt          1\n",
       "Jonkheer      1\n",
       "Dona          1\n",
       "Name: Title, dtype: int64"
      ]
     },
     "execution_count": 18,
     "metadata": {},
     "output_type": "execute_result"
    }
   ],
   "source": [
    "# let's see the different categories of Title from Name column.\n",
    "merged['Title'].value_counts()"
   ]
  },
  {
   "cell_type": "markdown",
   "id": "0f0537cd",
   "metadata": {},
   "source": [
    "- We can see there are several titles with the very least frequency. So, it makes sense to put them in fewer buckets.\n",
    "- Professionals like Dr, Rev, Col, Major, Capt will be put into 'Officer' bucket.\n",
    "- Titles such as Dona, Jonkheer, Countess, Sir, Lady, Don were usually entitled to the aristocrats.\n",
    "- We would also replace Mlle and Ms with Miss and Mme by Mrs as these are French titles."
   ]
  },
  {
   "cell_type": "code",
   "execution_count": 19,
   "id": "a0b016ca",
   "metadata": {},
   "outputs": [],
   "source": [
    "# Replacing  Dr, Rev, Col, Major, Capt with 'Officer'\n",
    "merged['Title'].replace(to_replace = ['Dr', 'Rev', 'Col', 'Major', 'Capt'], value = 'Officer', inplace=True)\n",
    "\n",
    "# Replacing Dona, Jonkheer, Countess, Sir, Lady with 'Aristocrate'\n",
    "merged['Title'].replace(to_replace = ['Dona', 'Jonkheer', 'Countess', 'Sir', 'Lady', 'Don'], value = 'Aristocrat', inplace = True)\n",
    "\n",
    "#  Replace Mlle and Ms with Miss. And Mme with Mrs.\n",
    "merged['Title'].replace({'Mlle':'Miss', 'Ms':'Miss', 'Mme':'Mrs'}, inplace = True)"
   ]
  },
  {
   "cell_type": "code",
   "execution_count": 20,
   "id": "d3a436b0",
   "metadata": {},
   "outputs": [
    {
     "data": {
      "text/plain": [
       "Mr            757\n",
       "Miss          264\n",
       "Mrs           198\n",
       "Master         61\n",
       "Officer        23\n",
       "Aristocrat      6\n",
       "Name: Title, dtype: int64"
      ]
     },
     "execution_count": 20,
     "metadata": {},
     "output_type": "execute_result"
    }
   ],
   "source": [
    "# let's see how Tittle looks now\n",
    "merged['Title'].value_counts()\n"
   ]
  },
  {
   "cell_type": "code",
   "execution_count": 21,
   "id": "122a3a6d",
   "metadata": {},
   "outputs": [
    {
     "data": {
      "text/plain": [
       "1     790\n",
       "2     235\n",
       "3     159\n",
       "4      43\n",
       "6      25\n",
       "5      22\n",
       "7      16\n",
       "11     11\n",
       "8       8\n",
       "Name: Family_size, dtype: int64"
      ]
     },
     "execution_count": 21,
     "metadata": {},
     "output_type": "execute_result"
    }
   ],
   "source": [
    "# Merging Sibsp and Parch and creating new variable called 'Family_size'\n",
    "merged['Family_size'] = merged.SibSp + merged.Parch + 1  # Adding 1 for single person\n",
    "merged['Family_size'].value_counts()"
   ]
  },
  {
   "cell_type": "markdown",
   "id": "e43a6c02",
   "metadata": {},
   "source": [
    "- We see there are several family sizes with the very least frequency like 2,3 and some have large frequency 7,8,11\n",
    "- We will create 4 buckets namely single, small, medium, and large for rest of them."
   ]
  },
  {
   "cell_type": "code",
   "execution_count": 22,
   "id": "5b6509b4",
   "metadata": {},
   "outputs": [],
   "source": [
    "# Create buckets of single, small, medium, and large and then put respective values into them.\n",
    "merged['Family_size'].replace(to_replace = [1], value = 'single', inplace = True)\n",
    "merged['Family_size'].replace(to_replace = [2,3], value = 'small', inplace = True)\n",
    "merged['Family_size'].replace(to_replace = [4,5], value = 'medium', inplace = True)\n",
    "merged['Family_size'].replace(to_replace = [6, 7, 8, 11], value = 'large', inplace = True)"
   ]
  },
  {
   "cell_type": "code",
   "execution_count": 23,
   "id": "da7db9df",
   "metadata": {},
   "outputs": [
    {
     "data": {
      "text/plain": [
       "single    790\n",
       "small     394\n",
       "medium     65\n",
       "large      60\n",
       "Name: Family_size, dtype: int64"
      ]
     },
     "execution_count": 23,
     "metadata": {},
     "output_type": "execute_result"
    }
   ],
   "source": [
    "# let's see how 'Family_size' looks now\n",
    "merged['Family_size'].value_counts()"
   ]
  },
  {
   "cell_type": "code",
   "execution_count": 24,
   "id": "27192699",
   "metadata": {},
   "outputs": [
    {
     "data": {
      "text/plain": [
       "0           A/5 21171\n",
       "1            PC 17599\n",
       "2    STON/O2. 3101282\n",
       "3              113803\n",
       "4              373450\n",
       "5              330877\n",
       "6               17463\n",
       "7              349909\n",
       "8              347742\n",
       "9              237736\n",
       "Name: Ticket, dtype: object"
      ]
     },
     "execution_count": 24,
     "metadata": {},
     "output_type": "execute_result"
    }
   ],
   "source": [
    "# let's preview the Ticket variable.\n",
    "merged['Ticket'].head(10)"
   ]
  },
  {
   "cell_type": "markdown",
   "id": "803e456e",
   "metadata": {},
   "source": [
    "- Ticket variable contains alphanumeric, only numbers and character type variables.\n",
    "- We will create two groups-one will contain just number and other will only contain character extracted from string.\n",
    "- And assign 'N' to the number type variable.\n",
    "- If a row contains both character and number, we will keep only character."
   ]
  },
  {
   "cell_type": "code",
   "execution_count": 25,
   "id": "418ccf8b",
   "metadata": {},
   "outputs": [],
   "source": [
    "# Assign N if there is only number and no character. If there is a character, extract the character only.\n",
    "ticket = []\n",
    "for x in list(merged['Ticket']):\n",
    "    if x.isdigit():\n",
    "        ticket.append('N')\n",
    "    else:\n",
    "         ticket.append(x.replace('.','').replace('/','').strip().split(' ')[0])\n",
    "# Swap values\n",
    "merged['Ticket'] = ticket"
   ]
  },
  {
   "cell_type": "code",
   "execution_count": 26,
   "id": "21aa3877",
   "metadata": {},
   "outputs": [
    {
     "data": {
      "text/plain": [
       "N          957\n",
       "PC          92\n",
       "CA          68\n",
       "A5          28\n",
       "SOTONOQ     24\n",
       "WC          15\n",
       "SCPARIS     14\n",
       "STONO       14\n",
       "A4          10\n",
       "FCC          9\n",
       "SOC          8\n",
       "C            8\n",
       "SOPP         7\n",
       "STONO2       7\n",
       "SCAH         5\n",
       "SCParis      5\n",
       "LINE         4\n",
       "WEP          4\n",
       "PP           4\n",
       "SOTONO2      3\n",
       "FC           3\n",
       "SWPP         2\n",
       "PPP          2\n",
       "SC           2\n",
       "SCA4         2\n",
       "SCOW         1\n",
       "LP           1\n",
       "A            1\n",
       "Fa           1\n",
       "AQ3          1\n",
       "SCA3         1\n",
       "CASOTON      1\n",
       "AS           1\n",
       "AQ4          1\n",
       "STONOQ       1\n",
       "SOP          1\n",
       "SP           1\n",
       "Name: Ticket, dtype: int64"
      ]
     },
     "execution_count": 26,
     "metadata": {},
     "output_type": "execute_result"
    }
   ],
   "source": [
    "# Let's count the categories in  Ticket\n",
    "merged['Ticket'].value_counts()"
   ]
  },
  {
   "cell_type": "code",
   "execution_count": 27,
   "id": "9d73228e",
   "metadata": {},
   "outputs": [
    {
     "data": {
      "text/plain": [
       "N    957\n",
       "P     98\n",
       "S     98\n",
       "C     77\n",
       "A     42\n",
       "W     19\n",
       "F     13\n",
       "L      5\n",
       "Name: Ticket, dtype: int64"
      ]
     },
     "execution_count": 27,
     "metadata": {},
     "output_type": "execute_result"
    }
   ],
   "source": [
    "# Keeping only the 1st character to reduce the Ticket categories\n",
    "merged['Ticket'] = merged['Ticket'].apply(lambda x : x[0])\n",
    "merged['Ticket'].value_counts()"
   ]
  },
  {
   "cell_type": "markdown",
   "id": "9f1dae4b",
   "metadata": {},
   "source": [
    "# Outliers Detection"
   ]
  },
  {
   "cell_type": "markdown",
   "id": "8b181c99",
   "metadata": {},
   "source": [
    "##### We will use IQR method to detect the outliers for variable Age and Fare though we won't remove them."
   ]
  },
  {
   "cell_type": "code",
   "execution_count": 28,
   "id": "93896554",
   "metadata": {},
   "outputs": [],
   "source": [
    "# Create a function to count total outliers.\n",
    "def outliers(variable):\n",
    "    global filtered # Global keyword is used inside a function only when we want to do assignments or when we want to change a variable.\n",
    "    \n",
    "    # Calculate 1st, 3rd quartiles and iqr.\n",
    "    q1, q3 = variable.quantile(0.25), variable.quantile(0.75)\n",
    "    iqr = q3 - q1\n",
    "    \n",
    "    # Calculate lower fence and upper fence for outliers\n",
    "    l_fence, u_fence = q1 - 1.5*iqr , q3 + 1.5*iqr   # Any values less than l_fence and greater than u_fence are outliers.\n",
    "    \n",
    "    # Observations that are outliers\n",
    "    outliers = variable[(variable<l_fence) | (variable>u_fence)]\n",
    "    print('Total Outliers of', variable.name,':', outliers.count())\n",
    "    \n",
    "    # Drop obsevations that are outliers\n",
    "    filtered = variable.drop(outliers.index, axis = 0)"
   ]
  },
  {
   "cell_type": "code",
   "execution_count": 29,
   "id": "6db8ebaf",
   "metadata": {},
   "outputs": [
    {
     "name": "stdout",
     "output_type": "stream",
     "text": [
      "Total Outliers of Fare : 171\n"
     ]
    }
   ],
   "source": [
    "# Total number of outliers in Fare\n",
    "outliers(merged['Fare'])"
   ]
  },
  {
   "cell_type": "code",
   "execution_count": 30,
   "id": "2db2e78f",
   "metadata": {},
   "outputs": [
    {
     "data": {
      "text/plain": [
       "Text(0.5, 1.0, 'Fare distribution with outliers')"
      ]
     },
     "execution_count": 30,
     "metadata": {},
     "output_type": "execute_result"
    },
    {
     "data": {
      "image/png": "[encoded data removed]",
      "text/plain": [
       "<Figure size 936x144 with 1 Axes>"
      ]
     },
     "metadata": {
      "needs_background": "light"
     },
     "output_type": "display_data"
    }
   ],
   "source": [
    "# Visualisation of Fare distribution with outliers\n",
    "plt.figure(figsize=(13, 2))\n",
    "sns.boxplot(x=merged[\"Fare\"],palette='Blues')\n",
    "plt.title('Fare distribution with outliers', fontsize=15 )"
   ]
  },
  {
   "cell_type": "code",
   "execution_count": 31,
   "id": "30b1a1ca",
   "metadata": {},
   "outputs": [
    {
     "data": {
      "text/plain": [
       "Text(0.5, 1.0, 'Fare distribution without outliers')"
      ]
     },
     "execution_count": 31,
     "metadata": {},
     "output_type": "execute_result"
    },
    {
     "data": {
      "image/png": "[encoded data removed]",
      "text/plain": [
       "<Figure size 936x144 with 1 Axes>"
      ]
     },
     "metadata": {
      "needs_background": "light"
     },
     "output_type": "display_data"
    }
   ],
   "source": [
    "# Visualisation of Fare distribution without outliers\n",
    "plt.figure(figsize=(13, 2))\n",
    "sns.boxplot(x=filtered,palette='Blues')\n",
    "plt.title('Fare distribution without outliers', fontsize=15 )"
   ]
  },
  {
   "cell_type": "code",
   "execution_count": 32,
   "id": "d7e4e585",
   "metadata": {},
   "outputs": [
    {
     "name": "stdout",
     "output_type": "stream",
     "text": [
      "Total Outliers of Age : 9\n"
     ]
    }
   ],
   "source": [
    "# Total number of outliers in Age\n",
    "outliers(merged['Age'])"
   ]
  },
  {
   "cell_type": "code",
   "execution_count": 33,
   "id": "0beb1e6e",
   "metadata": {},
   "outputs": [
    {
     "data": {
      "text/plain": [
       "Text(0.5, 1.0, 'Age distribution with outliers')"
      ]
     },
     "execution_count": 33,
     "metadata": {},
     "output_type": "execute_result"
    },
    {
     "data": {
      "image/png": "[encoded data removed]",
      "text/plain": [
       "<Figure size 936x144 with 1 Axes>"
      ]
     },
     "metadata": {
      "needs_background": "light"
     },
     "output_type": "display_data"
    }
   ],
   "source": [
    "# Visualisation of Age distribution with outliers\n",
    "plt.figure(figsize=(13, 2))\n",
    "sns.boxplot(x=merged[\"Age\"],palette='Blues')\n",
    "plt.title('Age distribution with outliers', fontsize=15)"
   ]
  },
  {
   "cell_type": "code",
   "execution_count": 34,
   "id": "c3f929aa",
   "metadata": {},
   "outputs": [
    {
     "data": {
      "text/plain": [
       "PassengerId      0\n",
       "Survived       418\n",
       "Pclass           0\n",
       "Name             0\n",
       "Sex              0\n",
       "Age            263\n",
       "SibSp            0\n",
       "Parch            0\n",
       "Ticket           0\n",
       "Fare             1\n",
       "Cabin            0\n",
       "Embarked         2\n",
       "Title            0\n",
       "Family_size      0\n",
       "dtype: int64"
      ]
     },
     "execution_count": 34,
     "metadata": {},
     "output_type": "execute_result"
    }
   ],
   "source": [
    "# let's count the missing values for each variable\n",
    "merged.isnull().sum()"
   ]
  },
  {
   "cell_type": "markdown",
   "id": "0cc44a26",
   "metadata": {},
   "source": [
    "- Survived column is showing missing values becuase in test.csv don't have the survived column.\n",
    "- Age, Cabin, Fare and Embarked has missing values."
   ]
  },
  {
   "cell_type": "markdown",
   "id": "b3f4787b",
   "metadata": {},
   "source": [
    "### Imputing Embarked and Fare "
   ]
  },
  {
   "cell_type": "code",
   "execution_count": 35,
   "id": "c6c6fc64",
   "metadata": {},
   "outputs": [
    {
     "data": {
      "text/plain": [
       "S    914\n",
       "C    270\n",
       "Q    123\n",
       "Name: Embarked, dtype: int64"
      ]
     },
     "execution_count": 35,
     "metadata": {},
     "output_type": "execute_result"
    }
   ],
   "source": [
    "# imputing Embarked with mode because Embarked is a categorical variable.\n",
    "merged['Embarked'].value_counts()"
   ]
  },
  {
   "cell_type": "code",
   "execution_count": 36,
   "id": "e265fc1a",
   "metadata": {},
   "outputs": [],
   "source": [
    "# Here S is the most frequent\n",
    "merged['Embarked'].fillna(value = 'S', inplace = True)"
   ]
  },
  {
   "cell_type": "code",
   "execution_count": 37,
   "id": "a12e0dc2",
   "metadata": {},
   "outputs": [],
   "source": [
    "# Impute missing values of Fare. Fare is a numerical variable with outliers. Hence it will be imputed by median.'''\n",
    "merged['Fare'].fillna(value = merged['Fare'].median(), inplace = True)"
   ]
  },
  {
   "cell_type": "markdown",
   "id": "6b91fca7",
   "metadata": {},
   "source": [
    "### Impute Age \n",
    "To impute Age with grouped median, we need to know which features are heavily correlated with Age. Let's find out the variables correlated with Age."
   ]
  },
  {
   "cell_type": "code",
   "execution_count": 38,
   "id": "adf6f48d",
   "metadata": {},
   "outputs": [
    {
     "data": {
      "text/html": [
       "<div>\n",
       "<style scoped>\n",
       "    .dataframe tbody tr th:only-of-type {\n",
       "        vertical-align: middle;\n",
       "    }\n",
       "\n",
       "    .dataframe tbody tr th {\n",
       "        vertical-align: top;\n",
       "    }\n",
       "\n",
       "    .dataframe thead th {\n",
       "        text-align: right;\n",
       "    }\n",
       "</style>\n",
       "<table border=\"1\" class=\"dataframe\">\n",
       "  <thead>\n",
       "    <tr style=\"text-align: right;\">\n",
       "      <th></th>\n",
       "      <th>Sex</th>\n",
       "      <th>Pclass</th>\n",
       "      <th>Embarked</th>\n",
       "      <th>Title</th>\n",
       "      <th>Family_size</th>\n",
       "      <th>Parch</th>\n",
       "      <th>SibSp</th>\n",
       "      <th>Cabin</th>\n",
       "      <th>Ticket</th>\n",
       "    </tr>\n",
       "  </thead>\n",
       "  <tbody>\n",
       "    <tr>\n",
       "      <th>0</th>\n",
       "      <td>1</td>\n",
       "      <td>2</td>\n",
       "      <td>2</td>\n",
       "      <td>3</td>\n",
       "      <td>3</td>\n",
       "      <td>0</td>\n",
       "      <td>1</td>\n",
       "      <td>8</td>\n",
       "      <td>0</td>\n",
       "    </tr>\n",
       "    <tr>\n",
       "      <th>1</th>\n",
       "      <td>0</td>\n",
       "      <td>0</td>\n",
       "      <td>0</td>\n",
       "      <td>4</td>\n",
       "      <td>3</td>\n",
       "      <td>0</td>\n",
       "      <td>1</td>\n",
       "      <td>2</td>\n",
       "      <td>5</td>\n",
       "    </tr>\n",
       "  </tbody>\n",
       "</table>\n",
       "</div>"
      ],
      "text/plain": [
       "   Sex  Pclass  Embarked  Title  Family_size  Parch  SibSp  Cabin  Ticket\n",
       "0    1       2         2      3            3      0      1      8       0\n",
       "1    0       0         0      4            3      0      1      2       5"
      ]
     },
     "execution_count": 38,
     "metadata": {},
     "output_type": "execute_result"
    }
   ],
   "source": [
    "# Let's plot correlation heatmap to see which variable is highly correlated with Age. We need to convert categorical variable into numerical to plot correlation heatmap. So convert categorical variables into numerical.\n",
    "df = merged.loc[:, ['Sex', 'Pclass', 'Embarked', 'Title', 'Family_size', 'Parch', 'SibSp', 'Cabin', 'Ticket']]\n",
    "from sklearn.preprocessing import LabelEncoder\n",
    "le = LabelEncoder()\n",
    "df = df.apply(le.fit_transform) # data is converted.\n",
    "df.head(2)"
   ]
  },
  {
   "cell_type": "code",
   "execution_count": 39,
   "id": "afebb1e4",
   "metadata": {},
   "outputs": [
    {
     "data": {
      "text/html": [
       "<div>\n",
       "<style scoped>\n",
       "    .dataframe tbody tr th:only-of-type {\n",
       "        vertical-align: middle;\n",
       "    }\n",
       "\n",
       "    .dataframe tbody tr th {\n",
       "        vertical-align: top;\n",
       "    }\n",
       "\n",
       "    .dataframe thead th {\n",
       "        text-align: right;\n",
       "    }\n",
       "</style>\n",
       "<table border=\"1\" class=\"dataframe\">\n",
       "  <thead>\n",
       "    <tr style=\"text-align: right;\">\n",
       "      <th></th>\n",
       "      <th>Age</th>\n",
       "      <th>Sex</th>\n",
       "      <th>Pclass</th>\n",
       "      <th>Embarked</th>\n",
       "      <th>Title</th>\n",
       "      <th>Family_size</th>\n",
       "      <th>Parch</th>\n",
       "      <th>SibSp</th>\n",
       "      <th>Cabin</th>\n",
       "      <th>Ticket</th>\n",
       "    </tr>\n",
       "  </thead>\n",
       "  <tbody>\n",
       "    <tr>\n",
       "      <th>0</th>\n",
       "      <td>22.0</td>\n",
       "      <td>1</td>\n",
       "      <td>2</td>\n",
       "      <td>2</td>\n",
       "      <td>3</td>\n",
       "      <td>3</td>\n",
       "      <td>0</td>\n",
       "      <td>1</td>\n",
       "      <td>8</td>\n",
       "      <td>0</td>\n",
       "    </tr>\n",
       "    <tr>\n",
       "      <th>1</th>\n",
       "      <td>38.0</td>\n",
       "      <td>0</td>\n",
       "      <td>0</td>\n",
       "      <td>0</td>\n",
       "      <td>4</td>\n",
       "      <td>3</td>\n",
       "      <td>0</td>\n",
       "      <td>1</td>\n",
       "      <td>2</td>\n",
       "      <td>5</td>\n",
       "    </tr>\n",
       "  </tbody>\n",
       "</table>\n",
       "</div>"
      ],
      "text/plain": [
       "    Age  Sex  Pclass  Embarked  Title  Family_size  Parch  SibSp  Cabin  \\\n",
       "0  22.0    1       2         2      3            3      0      1      8   \n",
       "1  38.0    0       0         0      4            3      0      1      2   \n",
       "\n",
       "   Ticket  \n",
       "0       0  \n",
       "1       5  "
      ]
     },
     "execution_count": 39,
     "metadata": {},
     "output_type": "execute_result"
    }
   ],
   "source": [
    "# Inserting Age in variable correlation.\n",
    "df['Age'] = merged['Age']\n",
    "# Move Age at index 0.\n",
    "df = df.set_index('Age').reset_index()\n",
    "df.head(2)"
   ]
  },
  {
   "cell_type": "code",
   "execution_count": 40,
   "id": "e0516213",
   "metadata": {},
   "outputs": [
    {
     "data": {
      "image/png": "[encoded data removed]",
      "text/plain": [
       "<Figure size 720x432 with 2 Axes>"
      ]
     },
     "metadata": {
      "needs_background": "light"
     },
     "output_type": "display_data"
    }
   ],
   "source": [
    "# Now create the heatmap correlation of df\n",
    "plt.figure(figsize=(10,6))\n",
    "sns.heatmap(df.corr(), cmap ='BrBG',annot = True)\n",
    "plt.title('Variables correlated with Age')\n",
    "plt.show()"
   ]
  },
  {
   "cell_type": "markdown",
   "id": "4661ac4a",
   "metadata": {},
   "source": [
    "- Sex, Embarked, and Ticket have the weakest correlation with Age.\n",
    "- Pclass and Title have strong correlation with age. So the tactic is to impute missing values of Age with the median age of similar rows according to Title and Pclass."
   ]
  },
  {
   "cell_type": "code",
   "execution_count": 41,
   "id": "d7b73fcb",
   "metadata": {},
   "outputs": [
    {
     "data": {
      "text/plain": [
       "<AxesSubplot:xlabel='Pclass', ylabel='Age'>"
      ]
     },
     "execution_count": 41,
     "metadata": {},
     "output_type": "execute_result"
    },
    {
     "data": {
      "image/png": "[encoded data removed]",
      "text/plain": [
       "<Figure size 432x288 with 1 Axes>"
      ]
     },
     "metadata": {
      "needs_background": "light"
     },
     "output_type": "display_data"
    }
   ],
   "source": [
    "# Create a boxplot to view the correlated and medium of the Pclass and Title variables with Age.\n",
    "# Boxplot b/w Pclass and Age\n",
    "sns.boxplot(y='Age', x='Pclass', data=merged)"
   ]
  },
  {
   "cell_type": "code",
   "execution_count": 42,
   "id": "6a851c1b",
   "metadata": {},
   "outputs": [
    {
     "data": {
      "text/plain": [
       "<AxesSubplot:xlabel='Title', ylabel='Age'>"
      ]
     },
     "execution_count": 42,
     "metadata": {},
     "output_type": "execute_result"
    },
    {
     "data": {
      "image/png": "[encoded data removed]",
      "text/plain": [
       "<Figure size 432x288 with 1 Axes>"
      ]
     },
     "metadata": {
      "needs_background": "light"
     },
     "output_type": "display_data"
    }
   ],
   "source": [
    "# Boxplot b/w Title and Age\n",
    "sns.boxplot(y='Age', x='Title', data=merged)"
   ]
  },
  {
   "cell_type": "code",
   "execution_count": 43,
   "id": "42fa3d4a",
   "metadata": {},
   "outputs": [],
   "source": [
    "# Impute Age with median of respective columns (i.e., Title and Pclass)\n",
    "merged['Age'] = merged.groupby(['Title', 'Pclass'])['Age'].transform(lambda x: x.fillna(x.median()))"
   ]
  },
  {
   "cell_type": "code",
   "execution_count": 44,
   "id": "1b097da3",
   "metadata": {},
   "outputs": [
    {
     "data": {
      "text/plain": [
       "PassengerId      0\n",
       "Survived       418\n",
       "Pclass           0\n",
       "Name             0\n",
       "Sex              0\n",
       "Age              0\n",
       "SibSp            0\n",
       "Parch            0\n",
       "Ticket           0\n",
       "Fare             0\n",
       "Cabin            0\n",
       "Embarked         0\n",
       "Title            0\n",
       "Family_size      0\n",
       "dtype: int64"
      ]
     },
     "execution_count": 44,
     "metadata": {},
     "output_type": "execute_result"
    }
   ],
   "source": [
    "# let's check the missing value again.\n",
    "merged.isnull().sum()"
   ]
  },
  {
   "cell_type": "markdown",
   "id": "fc11b61b",
   "metadata": {},
   "source": [
    "# Data Transformation \n",
    "In this section, we will transform our continuous variables. After that, redundant and useless features will be deleted. And finally categorical variables will be encoded into numerical to feed our machine learning models."
   ]
  },
  {
   "cell_type": "markdown",
   "id": "274f6674",
   "metadata": {},
   "source": [
    "#### Binning Age"
   ]
  },
  {
   "cell_type": "code",
   "execution_count": 45,
   "id": "4e03a16e",
   "metadata": {},
   "outputs": [
    {
     "data": {
      "text/html": [
       "<div>\n",
       "<style scoped>\n",
       "    .dataframe tbody tr th:only-of-type {\n",
       "        vertical-align: middle;\n",
       "    }\n",
       "\n",
       "    .dataframe tbody tr th {\n",
       "        vertical-align: top;\n",
       "    }\n",
       "\n",
       "    .dataframe thead th {\n",
       "        text-align: right;\n",
       "    }\n",
       "</style>\n",
       "<table border=\"1\" class=\"dataframe\">\n",
       "  <thead>\n",
       "    <tr style=\"text-align: right;\">\n",
       "      <th></th>\n",
       "      <th>Age</th>\n",
       "      <th>Age_binned</th>\n",
       "    </tr>\n",
       "  </thead>\n",
       "  <tbody>\n",
       "    <tr>\n",
       "      <th>0</th>\n",
       "      <td>22.0</td>\n",
       "      <td>young_adult</td>\n",
       "    </tr>\n",
       "    <tr>\n",
       "      <th>1</th>\n",
       "      <td>38.0</td>\n",
       "      <td>adult</td>\n",
       "    </tr>\n",
       "  </tbody>\n",
       "</table>\n",
       "</div>"
      ],
      "text/plain": [
       "    Age   Age_binned\n",
       "0  22.0  young_adult\n",
       "1  38.0        adult"
      ]
     },
     "execution_count": 45,
     "metadata": {},
     "output_type": "execute_result"
    }
   ],
   "source": [
    "# Creating bin categories for Age \n",
    "label_names = ['infant', 'child', 'teenager','young_adult', 'adult', 'aged']\n",
    "\n",
    "# Create range for each bin categrories of age\n",
    "cut_points = [0,5,12,18,35,60,81]\n",
    "\n",
    "#Create and view categorized Age with original Age.\n",
    "merged['Age_binned'] = pd.cut(merged['Age'], cut_points, labels = label_names)\n",
    "\n",
    "#Age with Categorized Age.\n",
    "merged[['Age', 'Age_binned']].head(2)"
   ]
  },
  {
   "cell_type": "markdown",
   "id": "6404d848",
   "metadata": {},
   "source": [
    "####  Binning Fare"
   ]
  },
  {
   "cell_type": "code",
   "execution_count": 46,
   "id": "768a86e1",
   "metadata": {},
   "outputs": [
    {
     "data": {
      "text/html": [
       "<div>\n",
       "<style scoped>\n",
       "    .dataframe tbody tr th:only-of-type {\n",
       "        vertical-align: middle;\n",
       "    }\n",
       "\n",
       "    .dataframe tbody tr th {\n",
       "        vertical-align: top;\n",
       "    }\n",
       "\n",
       "    .dataframe thead th {\n",
       "        text-align: right;\n",
       "    }\n",
       "</style>\n",
       "<table border=\"1\" class=\"dataframe\">\n",
       "  <thead>\n",
       "    <tr style=\"text-align: right;\">\n",
       "      <th></th>\n",
       "      <th>Fare</th>\n",
       "      <th>Fare_binned</th>\n",
       "    </tr>\n",
       "  </thead>\n",
       "  <tbody>\n",
       "    <tr>\n",
       "      <th>0</th>\n",
       "      <td>7.2500</td>\n",
       "      <td>low</td>\n",
       "    </tr>\n",
       "    <tr>\n",
       "      <th>1</th>\n",
       "      <td>71.2833</td>\n",
       "      <td>low</td>\n",
       "    </tr>\n",
       "  </tbody>\n",
       "</table>\n",
       "</div>"
      ],
      "text/plain": [
       "      Fare Fare_binned\n",
       "0   7.2500         low\n",
       "1  71.2833         low"
      ]
     },
     "execution_count": 46,
     "metadata": {},
     "output_type": "execute_result"
    }
   ],
   "source": [
    "# Create bin categories for Fare\n",
    "groups = ['low','medium','high','very_high']\n",
    "\n",
    "# Create range for each bin categories of Fare\n",
    "cut_points = [-1, 130, 260, 390, 520]\n",
    "\n",
    "#Create and view categorized Fare with original Fare\n",
    "merged['Fare_binned'] = pd.cut(merged.Fare, cut_points, labels = groups)\n",
    "\n",
    "# Fare with Categorized Fare\n",
    "merged[['Fare', 'Fare_binned']].head(2)"
   ]
  },
  {
   "cell_type": "code",
   "execution_count": 47,
   "id": "680cc078",
   "metadata": {},
   "outputs": [
    {
     "data": {
      "text/plain": [
       "PassengerId       int64\n",
       "Survived        float64\n",
       "Pclass            int64\n",
       "Name             object\n",
       "Sex              object\n",
       "Age             float64\n",
       "SibSp             int64\n",
       "Parch             int64\n",
       "Ticket           object\n",
       "Fare            float64\n",
       "Cabin            object\n",
       "Embarked         object\n",
       "Title            object\n",
       "Family_size      object\n",
       "Age_binned     category\n",
       "Fare_binned    category\n",
       "dtype: object"
      ]
     },
     "execution_count": 47,
     "metadata": {},
     "output_type": "execute_result"
    }
   ],
   "source": [
    "# checking the data type\n",
    "merged.dtypes"
   ]
  },
  {
   "cell_type": "code",
   "execution_count": 48,
   "id": "db3bdd35",
   "metadata": {},
   "outputs": [],
   "source": [
    "# Correcting data types, converting into categorical variables.\n",
    "merged.loc[:, ['Pclass', 'Sex', 'Embarked', 'Cabin', 'Title', 'Family_size', 'Ticket']] = merged.loc[:, ['Pclass', 'Sex', 'Embarked', 'Cabin', 'Title', 'Family_size', 'Ticket']].astype('category')"
   ]
  },
  {
   "cell_type": "code",
   "execution_count": 49,
   "id": "04858d14",
   "metadata": {},
   "outputs": [],
   "source": [
    "# Due to merging there are NaN values in Survived for test set observations.\n",
    "merged['Survived'] = merged['Survived'].dropna().astype('int') #Converting without dropping NaN throws an error"
   ]
  },
  {
   "cell_type": "code",
   "execution_count": 50,
   "id": "7f154eee",
   "metadata": {},
   "outputs": [
    {
     "data": {
      "text/plain": [
       "PassengerId       int64\n",
       "Survived          int32\n",
       "Pclass         category\n",
       "Name             object\n",
       "Sex            category\n",
       "Age             float64\n",
       "SibSp             int64\n",
       "Parch             int64\n",
       "Ticket         category\n",
       "Fare            float64\n",
       "Cabin          category\n",
       "Embarked       category\n",
       "Title          category\n",
       "Family_size    category\n",
       "Age_binned     category\n",
       "Fare_binned    category\n",
       "dtype: object"
      ]
     },
     "execution_count": 50,
     "metadata": {},
     "output_type": "execute_result"
    }
   ],
   "source": [
    "# Check if data types have been corrected\n",
    "merged.dtypes"
   ]
  },
  {
   "cell_type": "code",
   "execution_count": 51,
   "id": "244e3548",
   "metadata": {},
   "outputs": [
    {
     "data": {
      "text/html": [
       "<div>\n",
       "<style scoped>\n",
       "    .dataframe tbody tr th:only-of-type {\n",
       "        vertical-align: middle;\n",
       "    }\n",
       "\n",
       "    .dataframe tbody tr th {\n",
       "        vertical-align: top;\n",
       "    }\n",
       "\n",
       "    .dataframe thead th {\n",
       "        text-align: right;\n",
       "    }\n",
       "</style>\n",
       "<table border=\"1\" class=\"dataframe\">\n",
       "  <thead>\n",
       "    <tr style=\"text-align: right;\">\n",
       "      <th></th>\n",
       "      <th>PassengerId</th>\n",
       "      <th>Survived</th>\n",
       "      <th>Pclass</th>\n",
       "      <th>Name</th>\n",
       "      <th>Sex</th>\n",
       "      <th>Age</th>\n",
       "      <th>SibSp</th>\n",
       "      <th>Parch</th>\n",
       "      <th>Ticket</th>\n",
       "      <th>Fare</th>\n",
       "      <th>Cabin</th>\n",
       "      <th>Embarked</th>\n",
       "      <th>Title</th>\n",
       "      <th>Family_size</th>\n",
       "      <th>Age_binned</th>\n",
       "      <th>Fare_binned</th>\n",
       "    </tr>\n",
       "  </thead>\n",
       "  <tbody>\n",
       "    <tr>\n",
       "      <th>0</th>\n",
       "      <td>1</td>\n",
       "      <td>0</td>\n",
       "      <td>3</td>\n",
       "      <td>Braund, Mr. Owen Harris</td>\n",
       "      <td>male</td>\n",
       "      <td>22.0</td>\n",
       "      <td>1</td>\n",
       "      <td>0</td>\n",
       "      <td>A</td>\n",
       "      <td>7.2500</td>\n",
       "      <td>X</td>\n",
       "      <td>S</td>\n",
       "      <td>Mr</td>\n",
       "      <td>small</td>\n",
       "      <td>young_adult</td>\n",
       "      <td>low</td>\n",
       "    </tr>\n",
       "    <tr>\n",
       "      <th>1</th>\n",
       "      <td>2</td>\n",
       "      <td>1</td>\n",
       "      <td>1</td>\n",
       "      <td>Cumings, Mrs. John Bradley (Florence Briggs Th...</td>\n",
       "      <td>female</td>\n",
       "      <td>38.0</td>\n",
       "      <td>1</td>\n",
       "      <td>0</td>\n",
       "      <td>P</td>\n",
       "      <td>71.2833</td>\n",
       "      <td>C</td>\n",
       "      <td>C</td>\n",
       "      <td>Mrs</td>\n",
       "      <td>small</td>\n",
       "      <td>adult</td>\n",
       "      <td>low</td>\n",
       "    </tr>\n",
       "  </tbody>\n",
       "</table>\n",
       "</div>"
      ],
      "text/plain": [
       "   PassengerId  Survived Pclass  \\\n",
       "0            1         0      3   \n",
       "1            2         1      1   \n",
       "\n",
       "                                                Name     Sex   Age  SibSp  \\\n",
       "0                            Braund, Mr. Owen Harris    male  22.0      1   \n",
       "1  Cumings, Mrs. John Bradley (Florence Briggs Th...  female  38.0      1   \n",
       "\n",
       "   Parch Ticket     Fare Cabin Embarked Title Family_size   Age_binned  \\\n",
       "0      0      A   7.2500     X        S    Mr       small  young_adult   \n",
       "1      0      P  71.2833     C        C   Mrs       small        adult   \n",
       "\n",
       "  Fare_binned  \n",
       "0         low  \n",
       "1         low  "
      ]
     },
     "execution_count": 51,
     "metadata": {},
     "output_type": "execute_result"
    }
   ],
   "source": [
    "# let's see all the variables\n",
    "merged.head(2)"
   ]
  },
  {
   "cell_type": "code",
   "execution_count": 52,
   "id": "c5c5a859",
   "metadata": {},
   "outputs": [
    {
     "data": {
      "text/plain": [
       "Index(['PassengerId', 'Survived', 'Pclass', 'Sex', 'Ticket', 'Cabin',\n",
       "       'Embarked', 'Title', 'Family_size', 'Age_binned', 'Fare_binned'],\n",
       "      dtype='object')"
      ]
     },
     "execution_count": 52,
     "metadata": {},
     "output_type": "execute_result"
    }
   ],
   "source": [
    "# droping the feature that would not be useful anymore\n",
    "merged.drop(columns = ['Name', 'Age','SibSp', 'Parch','Fare'], inplace = True, axis = 1)\n",
    "merged.columns"
   ]
  },
  {
   "cell_type": "markdown",
   "id": "dd004e64",
   "metadata": {},
   "source": [
    "# Encoding Categorical Variables"
   ]
  },
  {
   "cell_type": "code",
   "execution_count": 53,
   "id": "3049b441",
   "metadata": {},
   "outputs": [
    {
     "data": {
      "text/html": [
       "<div>\n",
       "<style scoped>\n",
       "    .dataframe tbody tr th:only-of-type {\n",
       "        vertical-align: middle;\n",
       "    }\n",
       "\n",
       "    .dataframe tbody tr th {\n",
       "        vertical-align: top;\n",
       "    }\n",
       "\n",
       "    .dataframe thead th {\n",
       "        text-align: right;\n",
       "    }\n",
       "</style>\n",
       "<table border=\"1\" class=\"dataframe\">\n",
       "  <thead>\n",
       "    <tr style=\"text-align: right;\">\n",
       "      <th></th>\n",
       "      <th>PassengerId</th>\n",
       "      <th>Survived</th>\n",
       "      <th>Pclass_2</th>\n",
       "      <th>Pclass_3</th>\n",
       "      <th>Sex_male</th>\n",
       "      <th>Ticket_C</th>\n",
       "      <th>Ticket_F</th>\n",
       "      <th>Ticket_L</th>\n",
       "      <th>Ticket_N</th>\n",
       "      <th>Ticket_P</th>\n",
       "      <th>...</th>\n",
       "      <th>Family_size_single</th>\n",
       "      <th>Family_size_small</th>\n",
       "      <th>Age_binned_child</th>\n",
       "      <th>Age_binned_teenager</th>\n",
       "      <th>Age_binned_young_adult</th>\n",
       "      <th>Age_binned_adult</th>\n",
       "      <th>Age_binned_aged</th>\n",
       "      <th>Fare_binned_medium</th>\n",
       "      <th>Fare_binned_high</th>\n",
       "      <th>Fare_binned_very_high</th>\n",
       "    </tr>\n",
       "  </thead>\n",
       "  <tbody>\n",
       "    <tr>\n",
       "      <th>0</th>\n",
       "      <td>1</td>\n",
       "      <td>0</td>\n",
       "      <td>0</td>\n",
       "      <td>1</td>\n",
       "      <td>1</td>\n",
       "      <td>0</td>\n",
       "      <td>0</td>\n",
       "      <td>0</td>\n",
       "      <td>0</td>\n",
       "      <td>0</td>\n",
       "      <td>...</td>\n",
       "      <td>0</td>\n",
       "      <td>1</td>\n",
       "      <td>0</td>\n",
       "      <td>0</td>\n",
       "      <td>1</td>\n",
       "      <td>0</td>\n",
       "      <td>0</td>\n",
       "      <td>0</td>\n",
       "      <td>0</td>\n",
       "      <td>0</td>\n",
       "    </tr>\n",
       "    <tr>\n",
       "      <th>1</th>\n",
       "      <td>2</td>\n",
       "      <td>1</td>\n",
       "      <td>0</td>\n",
       "      <td>0</td>\n",
       "      <td>0</td>\n",
       "      <td>0</td>\n",
       "      <td>0</td>\n",
       "      <td>0</td>\n",
       "      <td>0</td>\n",
       "      <td>1</td>\n",
       "      <td>...</td>\n",
       "      <td>0</td>\n",
       "      <td>1</td>\n",
       "      <td>0</td>\n",
       "      <td>0</td>\n",
       "      <td>0</td>\n",
       "      <td>1</td>\n",
       "      <td>0</td>\n",
       "      <td>0</td>\n",
       "      <td>0</td>\n",
       "      <td>0</td>\n",
       "    </tr>\n",
       "  </tbody>\n",
       "</table>\n",
       "<p>2 rows × 38 columns</p>\n",
       "</div>"
      ],
      "text/plain": [
       "   PassengerId  Survived  Pclass_2  Pclass_3  Sex_male  Ticket_C  Ticket_F  \\\n",
       "0            1         0         0         1         1         0         0   \n",
       "1            2         1         0         0         0         0         0   \n",
       "\n",
       "   Ticket_L  Ticket_N  Ticket_P  ...  Family_size_single  Family_size_small  \\\n",
       "0         0         0         0  ...                   0                  1   \n",
       "1         0         0         1  ...                   0                  1   \n",
       "\n",
       "   Age_binned_child  Age_binned_teenager  Age_binned_young_adult  \\\n",
       "0                 0                    0                       1   \n",
       "1                 0                    0                       0   \n",
       "\n",
       "   Age_binned_adult  Age_binned_aged  Fare_binned_medium  Fare_binned_high  \\\n",
       "0                 0                0                   0                 0   \n",
       "1                 1                0                   0                 0   \n",
       "\n",
       "   Fare_binned_very_high  \n",
       "0                      0  \n",
       "1                      0  \n",
       "\n",
       "[2 rows x 38 columns]"
      ]
     },
     "execution_count": 53,
     "metadata": {},
     "output_type": "execute_result"
    }
   ],
   "source": [
    "# convert categotical data into dummies variables\n",
    "merged = pd.get_dummies(merged, drop_first=True)\n",
    "merged.head(2)"
   ]
  },
  {
   "cell_type": "markdown",
   "id": "5f7e84c6",
   "metadata": {},
   "source": [
    "### Model Building and Evaluation"
   ]
  },
  {
   "cell_type": "code",
   "execution_count": 54,
   "id": "5ba1364d",
   "metadata": {},
   "outputs": [
    {
     "name": "stdout",
     "output_type": "stream",
     "text": [
      "Input Matrix Dimension:   (891, 36)\n",
      "Output Vector Dimension:  (891,)\n",
      "Test Data Dimension:      (418, 36)\n"
     ]
    }
   ],
   "source": [
    "#Let's split the train and test set to feed machine learning algorithm.\n",
    "train = merged.iloc[:891, :]\n",
    "test  = merged.iloc[891:, :]\n",
    "\n",
    "#Drop passengerid from train set and Survived from test set.'''\n",
    "train = train.drop(columns = ['PassengerId'], axis = 1)\n",
    "test = test.drop(columns = ['Survived'], axis = 1)\n",
    "\n",
    "# setting the data as input and output for machine learning models\n",
    "X_train = train.drop(columns = ['Survived'], axis = 1) \n",
    "y_train = train['Survived']\n",
    "\n",
    "# Extract test set\n",
    "X_test  = test.drop(\"PassengerId\", axis = 1).copy()\n",
    "\n",
    "# See the dimensions of input and output data set.'''\n",
    "print('Input Matrix Dimension:  ', X_train.shape)\n",
    "print('Output Vector Dimension: ', y_train.shape)\n",
    "print('Test Data Dimension:     ', X_test.shape)"
   ]
  },
  {
   "cell_type": "markdown",
   "id": "f0449972",
   "metadata": {},
   "source": [
    "####  Training Model \n",
    "We would train 5 different classifiers for this binary classification problem."
   ]
  },
  {
   "cell_type": "code",
   "execution_count": 55,
   "id": "bcb48230",
   "metadata": {},
   "outputs": [],
   "source": [
    "# Now initialize all the classifiers object.\n",
    "\n",
    "#1.Logistic Regression\n",
    "from sklearn.linear_model import LogisticRegression\n",
    "lr = LogisticRegression()\n",
    "\n",
    "#2.KNN\n",
    "from sklearn.neighbors import KNeighborsClassifier\n",
    "knn = KNeighborsClassifier()\n",
    "\n",
    "#3.Decision Tree Classifier\n",
    "from sklearn.tree import DecisionTreeClassifier\n",
    "dt = DecisionTreeClassifier(random_state = 40)\n",
    "\n",
    "#4.Random Forest Classifier\n",
    "from sklearn.ensemble import RandomForestClassifier\n",
    "rf = RandomForestClassifier(random_state = 40, n_estimators = 100)\n",
    "\n",
    "#5.Support Vector Machines\n",
    "from sklearn.svm import SVC\n",
    "svc = SVC(gamma = 'auto')\n",
    "\n",
    "#6. XGBoost \n",
    "from xgboost import XGBClassifier\n",
    "xgb = XGBClassifier(n_job = -1, random_state = 40)"
   ]
  },
  {
   "cell_type": "code",
   "execution_count": 56,
   "id": "57f36fa5",
   "metadata": {},
   "outputs": [
    {
     "name": "stdout",
     "output_type": "stream",
     "text": [
      "[15:11:06] WARNING: C:/Users/Administrator/workspace/xgboost-win64_release_1.6.0/src/learner.cc:627: \n",
      "Parameters: { \"n_job\" } might not be used.\n",
      "\n",
      "  This could be a false alarm, with some parameters getting used by language bindings but\n",
      "  then being mistakenly passed down to XGBoost core, or some parameter actually being used\n",
      "  but getting flagged wrongly here. Please open an issue if you find any such cases.\n",
      "\n",
      "\n"
     ]
    },
    {
     "data": {
      "text/html": [
       "<div>\n",
       "<style scoped>\n",
       "    .dataframe tbody tr th:only-of-type {\n",
       "        vertical-align: middle;\n",
       "    }\n",
       "\n",
       "    .dataframe tbody tr th {\n",
       "        vertical-align: top;\n",
       "    }\n",
       "\n",
       "    .dataframe thead th {\n",
       "        text-align: right;\n",
       "    }\n",
       "</style>\n",
       "<table border=\"1\" class=\"dataframe\">\n",
       "  <thead>\n",
       "    <tr style=\"text-align: right;\">\n",
       "      <th></th>\n",
       "      <th>Train_accuracy(%)</th>\n",
       "    </tr>\n",
       "  </thead>\n",
       "  <tbody>\n",
       "    <tr>\n",
       "      <th>DT</th>\n",
       "      <td>89.79</td>\n",
       "    </tr>\n",
       "    <tr>\n",
       "      <th>RF</th>\n",
       "      <td>89.79</td>\n",
       "    </tr>\n",
       "    <tr>\n",
       "      <th>XGB</th>\n",
       "      <td>89.00</td>\n",
       "    </tr>\n",
       "    <tr>\n",
       "      <th>KNN</th>\n",
       "      <td>84.85</td>\n",
       "    </tr>\n",
       "    <tr>\n",
       "      <th>LR</th>\n",
       "      <td>83.95</td>\n",
       "    </tr>\n",
       "    <tr>\n",
       "      <th>SVC</th>\n",
       "      <td>79.91</td>\n",
       "    </tr>\n",
       "  </tbody>\n",
       "</table>\n",
       "</div>"
      ],
      "text/plain": [
       "     Train_accuracy(%)\n",
       "DT               89.79\n",
       "RF               89.79\n",
       "XGB              89.00\n",
       "KNN              84.85\n",
       "LR               83.95\n",
       "SVC              79.91"
      ]
     },
     "execution_count": 56,
     "metadata": {},
     "output_type": "execute_result"
    }
   ],
   "source": [
    "# Create a function that returns train accuracy of different models.\n",
    "\n",
    "def train_accuracy(model):\n",
    "    model.fit(X_train, y_train)\n",
    "    train_accuracy = model.score(X_train, y_train)\n",
    "    train_accuracy = np.round(train_accuracy*100, 2)\n",
    "    return train_accuracy\n",
    "    \n",
    "# making the summary table of train accuracy.\n",
    "train_accuracy = pd.DataFrame({'Train_accuracy(%)':[train_accuracy(lr), train_accuracy(knn), train_accuracy(dt), train_accuracy(rf), train_accuracy(svc), train_accuracy(xgb)]})\n",
    "train_accuracy.index = ['LR', 'KNN','DT', 'RF', 'SVC', 'XGB']\n",
    "sorted_train_accuracy = train_accuracy.sort_values(by = 'Train_accuracy(%)', ascending = False)\n",
    "\n",
    "#Training Accuracy of the Classifiers\n",
    "sorted_train_accuracy"
   ]
  },
  {
   "cell_type": "markdown",
   "id": "6d12aa65",
   "metadata": {},
   "source": [
    "- IN the above table, DT, RF, XGB, KNN models have highest train accuracy. But train accuracy of a model is not enough to tell if a model can be able to generalize the unseen data or not. we can't use training accuracy for our model evaluation rather we must know how our model will perform on the data our model is yet to see."
   ]
  },
  {
   "cell_type": "code",
   "execution_count": 57,
   "id": "c3ae54f5",
   "metadata": {},
   "outputs": [
    {
     "name": "stdout",
     "output_type": "stream",
     "text": [
      "[15:11:15] WARNING: C:/Users/Administrator/workspace/xgboost-win64_release_1.6.0/src/learner.cc:627: \n",
      "Parameters: { \"n_job\" } might not be used.\n",
      "\n",
      "  This could be a false alarm, with some parameters getting used by language bindings but\n",
      "  then being mistakenly passed down to XGBoost core, or some parameter actually being used\n",
      "  but getting flagged wrongly here. Please open an issue if you find any such cases.\n",
      "\n",
      "\n",
      "[15:11:16] WARNING: C:/Users/Administrator/workspace/xgboost-win64_release_1.6.0/src/learner.cc:627: \n",
      "Parameters: { \"n_job\" } might not be used.\n",
      "\n",
      "  This could be a false alarm, with some parameters getting used by language bindings but\n",
      "  then being mistakenly passed down to XGBoost core, or some parameter actually being used\n",
      "  but getting flagged wrongly here. Please open an issue if you find any such cases.\n",
      "\n",
      "\n",
      "[15:11:16] WARNING: C:/Users/Administrator/workspace/xgboost-win64_release_1.6.0/src/learner.cc:627: \n",
      "Parameters: { \"n_job\" } might not be used.\n",
      "\n",
      "  This could be a false alarm, with some parameters getting used by language bindings but\n",
      "  then being mistakenly passed down to XGBoost core, or some parameter actually being used\n",
      "  but getting flagged wrongly here. Please open an issue if you find any such cases.\n",
      "\n",
      "\n",
      "[15:11:17] WARNING: C:/Users/Administrator/workspace/xgboost-win64_release_1.6.0/src/learner.cc:627: \n",
      "Parameters: { \"n_job\" } might not be used.\n",
      "\n",
      "  This could be a false alarm, with some parameters getting used by language bindings but\n",
      "  then being mistakenly passed down to XGBoost core, or some parameter actually being used\n",
      "  but getting flagged wrongly here. Please open an issue if you find any such cases.\n",
      "\n",
      "\n",
      "[15:11:17] WARNING: C:/Users/Administrator/workspace/xgboost-win64_release_1.6.0/src/learner.cc:627: \n",
      "Parameters: { \"n_job\" } might not be used.\n",
      "\n",
      "  This could be a false alarm, with some parameters getting used by language bindings but\n",
      "  then being mistakenly passed down to XGBoost core, or some parameter actually being used\n",
      "  but getting flagged wrongly here. Please open an issue if you find any such cases.\n",
      "\n",
      "\n",
      "[15:11:18] WARNING: C:/Users/Administrator/workspace/xgboost-win64_release_1.6.0/src/learner.cc:627: \n",
      "Parameters: { \"n_job\" } might not be used.\n",
      "\n",
      "  This could be a false alarm, with some parameters getting used by language bindings but\n",
      "  then being mistakenly passed down to XGBoost core, or some parameter actually being used\n",
      "  but getting flagged wrongly here. Please open an issue if you find any such cases.\n",
      "\n",
      "\n",
      "[15:11:18] WARNING: C:/Users/Administrator/workspace/xgboost-win64_release_1.6.0/src/learner.cc:627: \n",
      "Parameters: { \"n_job\" } might not be used.\n",
      "\n",
      "  This could be a false alarm, with some parameters getting used by language bindings but\n",
      "  then being mistakenly passed down to XGBoost core, or some parameter actually being used\n",
      "  but getting flagged wrongly here. Please open an issue if you find any such cases.\n",
      "\n",
      "\n",
      "[15:11:19] WARNING: C:/Users/Administrator/workspace/xgboost-win64_release_1.6.0/src/learner.cc:627: \n",
      "Parameters: { \"n_job\" } might not be used.\n",
      "\n",
      "  This could be a false alarm, with some parameters getting used by language bindings but\n",
      "  then being mistakenly passed down to XGBoost core, or some parameter actually being used\n",
      "  but getting flagged wrongly here. Please open an issue if you find any such cases.\n",
      "\n",
      "\n",
      "[15:11:19] WARNING: C:/Users/Administrator/workspace/xgboost-win64_release_1.6.0/src/learner.cc:627: \n",
      "Parameters: { \"n_job\" } might not be used.\n",
      "\n",
      "  This could be a false alarm, with some parameters getting used by language bindings but\n",
      "  then being mistakenly passed down to XGBoost core, or some parameter actually being used\n",
      "  but getting flagged wrongly here. Please open an issue if you find any such cases.\n",
      "\n",
      "\n",
      "[15:11:20] WARNING: C:/Users/Administrator/workspace/xgboost-win64_release_1.6.0/src/learner.cc:627: \n",
      "Parameters: { \"n_job\" } might not be used.\n",
      "\n",
      "  This could be a false alarm, with some parameters getting used by language bindings but\n",
      "  then being mistakenly passed down to XGBoost core, or some parameter actually being used\n",
      "  but getting flagged wrongly here. Please open an issue if you find any such cases.\n",
      "\n",
      "\n"
     ]
    },
    {
     "data": {
      "text/html": [
       "<div>\n",
       "<style scoped>\n",
       "    .dataframe tbody tr th:only-of-type {\n",
       "        vertical-align: middle;\n",
       "    }\n",
       "\n",
       "    .dataframe tbody tr th {\n",
       "        vertical-align: top;\n",
       "    }\n",
       "\n",
       "    .dataframe thead th {\n",
       "        text-align: right;\n",
       "    }\n",
       "</style>\n",
       "<table border=\"1\" class=\"dataframe\">\n",
       "  <thead>\n",
       "    <tr style=\"text-align: right;\">\n",
       "      <th></th>\n",
       "      <th>val_score(%)</th>\n",
       "    </tr>\n",
       "  </thead>\n",
       "  <tbody>\n",
       "    <tr>\n",
       "      <th>LR</th>\n",
       "      <td>82.72</td>\n",
       "    </tr>\n",
       "    <tr>\n",
       "      <th>XGB</th>\n",
       "      <td>81.71</td>\n",
       "    </tr>\n",
       "    <tr>\n",
       "      <th>DT</th>\n",
       "      <td>81.26</td>\n",
       "    </tr>\n",
       "    <tr>\n",
       "      <th>RF</th>\n",
       "      <td>81.26</td>\n",
       "    </tr>\n",
       "    <tr>\n",
       "      <th>KNN</th>\n",
       "      <td>80.93</td>\n",
       "    </tr>\n",
       "    <tr>\n",
       "      <th>SVC</th>\n",
       "      <td>79.57</td>\n",
       "    </tr>\n",
       "  </tbody>\n",
       "</table>\n",
       "</div>"
      ],
      "text/plain": [
       "     val_score(%)\n",
       "LR          82.72\n",
       "XGB         81.71\n",
       "DT          81.26\n",
       "RF          81.26\n",
       "KNN         80.93\n",
       "SVC         79.57"
      ]
     },
     "execution_count": 57,
     "metadata": {},
     "output_type": "execute_result"
    }
   ],
   "source": [
    "# Create a function that returns mean cross validation score for different models.\n",
    "def val_score(model):\n",
    "    from sklearn.model_selection import cross_val_score\n",
    "    val_score = cross_val_score(model, X_train, y_train, cv = 10, scoring = 'accuracy').mean()\n",
    "    val_score = np.round(val_score*100, 2)\n",
    "    return val_score\n",
    "\n",
    "# making the summary table of cross validation accuracy.\n",
    "val_score = pd.DataFrame({'val_score(%)':[val_score(lr), val_score(knn), val_score(dt), val_score(rf), val_score(svc), val_score(xgb)]})\n",
    "val_score.index = ['LR', 'KNN','DT', 'RF', 'SVC', 'XGB']\n",
    "sorted_val_score = val_score.sort_values(by = 'val_score(%)', ascending = False)\n",
    "\n",
    "#cross validation accuracy of the Classifiers\n",
    "sorted_val_score"
   ]
  },
  {
   "cell_type": "markdown",
   "id": "a38eefb1",
   "metadata": {},
   "source": [
    "- In the above tabel, LR and KNN have the highest cross validation accuracy among the remaining models."
   ]
  },
  {
   "cell_type": "markdown",
   "id": "c8d97954",
   "metadata": {},
   "source": [
    "## Tuning Hyperparameters \n",
    "Now let's add Grid Search to all the classifiers with the hopes of optimizing their hyperparameters and thus improving their accuracy. Are the default model parameters the best bet? Let's find out."
   ]
  },
  {
   "cell_type": "code",
   "execution_count": 58,
   "id": "0e7a383c",
   "metadata": {},
   "outputs": [],
   "source": [
    "# define all the model hyperparameters one by one first\n",
    "\n",
    "# 1. For logistic regression\n",
    "lr_params = {'penalty':['l1', 'l2'],\n",
    "             'C': np.logspace(0, 2, 4, 8 ,10)}\n",
    "\n",
    "# 2. For KNN\n",
    "knn_params = {'n_neighbors':[4,5,6,7,8,9,10],\n",
    "              'weights':['uniform', 'distance'],\n",
    "              'algorithm':['auto', 'ball_tree','kd_tree','brute'],\n",
    "              'p':[1,2]}\n",
    "\n",
    "# 3. For DT\n",
    "dt_params = {'max_features': ['auto', 'sqrt', 'log2'],\n",
    "             'min_samples_split': [2, 3, 4, 5, 6, 7, 8, 9, 10, 11, 12, 13, 14, 15], \n",
    "             'min_samples_leaf':[1, 2, 3, 4, 5, 6, 7, 8, 9, 10, 11],\n",
    "             'random_state':[46]}\n",
    "# 4. For RF\n",
    "rf_params = {'criterion':['gini','entropy'],\n",
    "             'n_estimators':[ 10, 30, 200, 400],\n",
    "             'min_samples_leaf':[1, 2, 3],\n",
    "             'min_samples_split':[3, 4, 6, 7], \n",
    "             'max_features':['sqrt', 'auto', 'log2'],\n",
    "             'random_state':[46]}\n",
    "# 5. For SVC\n",
    "svc_params = {'C': [0.1, 1, 10,100], \n",
    "              'kernel': ['linear', 'rbf', 'poly', 'sigmoid'],\n",
    "              'gamma': [ 1, 0.1, 0.001, 0.0001]}\n",
    "\n",
    "#6. For XGB\n",
    "xgb_params = xgb_params_grid = {'min_child_weight': [1, 5],\n",
    "                   'gamma': [0.04, 0, 0.1, 1.5],\n",
    "                   'subsample': [0.6, 0.8, 1.0],\n",
    "                   'colsample_bytree': [0.46, 1.0],\n",
    "                   'max_depth': [3, 7]}"
   ]
  },
  {
   "cell_type": "code",
   "execution_count": 59,
   "id": "adad2bbd",
   "metadata": {},
   "outputs": [],
   "source": [
    "# Create a function to tune hyperparameters of the selected models.\n",
    "def tune_hyperparameters(model, param_grid):\n",
    "    from sklearn.model_selection import GridSearchCV\n",
    "    global best_params, best_score #if you want to know best parametes and best score\n",
    "    \n",
    "    # Construct grid search object with 10 fold cross validation.\n",
    "    grid = GridSearchCV(model, param_grid, verbose = 3, cv = 10, scoring = 'accuracy', n_jobs = -1)\n",
    "    # Fit using grid search.\n",
    "    grid.fit(X_train, y_train)\n",
    "    best_params, best_score = grid.best_params_, np.round(grid.best_score_*100, 2)\n",
    "    return best_params, best_score"
   ]
  },
  {
   "cell_type": "code",
   "execution_count": 60,
   "id": "5e09bae8",
   "metadata": {},
   "outputs": [
    {
     "name": "stdout",
     "output_type": "stream",
     "text": [
      "Fitting 10 folds for each of 8 candidates, totalling 80 fits\n",
      "LR Best Score: 82.95\n",
      "And Best Parameters: {'C': 4.641588833612778, 'penalty': 'l2'}\n"
     ]
    },
    {
     "name": "stderr",
     "output_type": "stream",
     "text": [
      "C:\\Users\\MANOHAR\\anaconda3\\lib\\site-packages\\sklearn\\model_selection\\_search.py:918: UserWarning: One or more of the test scores are non-finite: [       nan 0.82719101        nan 0.82945069        nan 0.8249563\n",
      "        nan 0.8260799 ]\n",
      "  warnings.warn(\n"
     ]
    }
   ],
   "source": [
    "# Appling tune hyperparameters in the created funtion\n",
    "\n",
    "# Tune LR hyperparameters.\n",
    "tune_hyperparameters(lr, param_grid=lr_params)\n",
    "lr_best_params, lr_best_score =  best_params, best_score\n",
    "print('LR Best Score:', lr_best_score)\n",
    "print('And Best Parameters:', lr_best_params)"
   ]
  },
  {
   "cell_type": "code",
   "execution_count": 61,
   "id": "2121b1ef",
   "metadata": {},
   "outputs": [
    {
     "name": "stdout",
     "output_type": "stream",
     "text": [
      "Fitting 10 folds for each of 112 candidates, totalling 1120 fits\n"
     ]
    }
   ],
   "source": [
    "# Tune KNN hyperparameters\n",
    "tune_hyperparameters(knn, param_grid=knn_params)\n",
    "knn_best_params, knn_best_score =  best_params, best_score\n"
   ]
  },
  {
   "cell_type": "code",
   "execution_count": 62,
   "id": "5a8d4f51",
   "metadata": {},
   "outputs": [
    {
     "name": "stdout",
     "output_type": "stream",
     "text": [
      "Fitting 10 folds for each of 462 candidates, totalling 4620 fits\n"
     ]
    }
   ],
   "source": [
    "# Tune DT hyperparameters\n",
    "tune_hyperparameters(dt, param_grid=dt_params)\n",
    "dt_best_params, dt_best_score =  best_params, best_score"
   ]
  },
  {
   "cell_type": "code",
   "execution_count": 63,
   "id": "0b0447f5",
   "metadata": {},
   "outputs": [
    {
     "name": "stdout",
     "output_type": "stream",
     "text": [
      "Fitting 10 folds for each of 288 candidates, totalling 2880 fits\n"
     ]
    }
   ],
   "source": [
    "# Tune RF hyperparameters\n",
    "tune_hyperparameters(rf, param_grid=rf_params)\n",
    "rf_best_params, rf_best_score =  best_params, best_score"
   ]
  },
  {
   "cell_type": "code",
   "execution_count": 64,
   "id": "bba81ddb",
   "metadata": {},
   "outputs": [
    {
     "name": "stdout",
     "output_type": "stream",
     "text": [
      "Fitting 10 folds for each of 64 candidates, totalling 640 fits\n"
     ]
    }
   ],
   "source": [
    "# Tune SVC hyperparameters\n",
    "tune_hyperparameters(svc, param_grid=svc_params)\n",
    "svc_best_params, svc_best_score =  best_params, best_score"
   ]
  },
  {
   "cell_type": "code",
   "execution_count": 65,
   "id": "bd9910fc",
   "metadata": {},
   "outputs": [
    {
     "name": "stdout",
     "output_type": "stream",
     "text": [
      "Fitting 10 folds for each of 96 candidates, totalling 960 fits\n",
      "[15:44:52] WARNING: C:/Users/Administrator/workspace/xgboost-win64_release_1.6.0/src/learner.cc:627: \n",
      "Parameters: { \"silent\" } might not be used.\n",
      "\n",
      "  This could be a false alarm, with some parameters getting used by language bindings but\n",
      "  then being mistakenly passed down to XGBoost core, or some parameter actually being used\n",
      "  but getting flagged wrongly here. Please open an issue if you find any such cases.\n",
      "\n",
      "\n"
     ]
    }
   ],
   "source": [
    "# Tune XGB hyperparameters\n",
    "xgb_opt = XGBClassifier(learning_rate = 0.04, n_estimators = 500, \n",
    "                       silent = 1, nthread = -1, random_state = 101)\n",
    "tune_hyperparameters(xgb_opt, param_grid=xgb_params)\n",
    "xgb_best_params, xgb_best_score =  best_params, best_score"
   ]
  },
  {
   "cell_type": "markdown",
   "id": "96502728",
   "metadata": {},
   "source": [
    "#### Retrain and Predict Using Optimized Hyperparameters "
   ]
  },
  {
   "cell_type": "code",
   "execution_count": 66,
   "id": "ecbbfbed",
   "metadata": {},
   "outputs": [],
   "source": [
    "# Instantiate the models with optimized hyperparameters.\n",
    "lr  = LogisticRegression(**lr_best_params)\n",
    "knn = KNeighborsClassifier(**knn_best_params)\n",
    "dt  = DecisionTreeClassifier(**dt_best_params)\n",
    "rf  = RandomForestClassifier(**rf_best_params)\n",
    "svc = SVC(**svc_best_params)\n",
    "xgb = XGBClassifier(**xgb_best_params)"
   ]
  },
  {
   "cell_type": "code",
   "execution_count": 67,
   "id": "be4a18b8",
   "metadata": {},
   "outputs": [
    {
     "name": "stderr",
     "output_type": "stream",
     "text": [
      "C:\\Users\\MANOHAR\\anaconda3\\lib\\site-packages\\sklearn\\linear_model\\_logistic.py:763: ConvergenceWarning: lbfgs failed to converge (status=1):\n",
      "STOP: TOTAL NO. of ITERATIONS REACHED LIMIT.\n",
      "\n",
      "Increase the number of iterations (max_iter) or scale the data as shown in:\n",
      "    https://scikit-learn.org/stable/modules/preprocessing.html\n",
      "Please also refer to the documentation for alternative solver options:\n",
      "    https://scikit-learn.org/stable/modules/linear_model.html#logistic-regression\n",
      "  n_iter_i = _check_optimize_result(\n"
     ]
    },
    {
     "name": "stdout",
     "output_type": "stream",
     "text": [
      "Mean Accuracy: 82.9451 (+/- 3.4820) [LR]\n",
      "Mean Accuracy: 82.1573 (+/- 2.7544) [KNN]\n",
      "Mean Accuracy: 82.1536 (+/- 3.1626) [DT]\n",
      "Mean Accuracy: 83.6155 (+/- 4.2922) [RF]\n",
      "Mean Accuracy: 83.2784 (+/- 3.1887) [SVC]\n",
      "Mean Accuracy: 83.0512 (+/- 3.3570) [XGB]\n"
     ]
    }
   ],
   "source": [
    "# Train all the models with optimised hyperparameters\n",
    "models = { 'LR': lr, 'KNN':knn,'DT':dt,'RF':rf, 'SVC':svc, 'XGB':xgb}\n",
    "\n",
    "# 10-fold Cross Validation after Optimization\n",
    "score = []\n",
    "for x, (keys, items) in enumerate(models.items()):\n",
    "    # Train the models with optimized parameters using cross validation.\n",
    "    # No need to fit the data. cross_val_score does that for us.\n",
    "    # But we need to fit train data for prediction in the follow session.\n",
    "    from sklearn.model_selection import cross_val_score\n",
    "    items.fit(X_train, y_train)\n",
    "    scores = cross_val_score(items, X_train, y_train, cv = 10, scoring = 'accuracy')*100\n",
    "    score.append(scores.mean())\n",
    "    print('Mean Accuracy: %0.4f (+/- %0.4f) [%s]'  % (scores.mean(), scores.std(), keys))"
   ]
  },
  {
   "cell_type": "code",
   "execution_count": 68,
   "id": "df4d3801",
   "metadata": {},
   "outputs": [
    {
     "data": {
      "text/html": [
       "<div>\n",
       "<style scoped>\n",
       "    .dataframe tbody tr th:only-of-type {\n",
       "        vertical-align: middle;\n",
       "    }\n",
       "\n",
       "    .dataframe tbody tr th {\n",
       "        vertical-align: top;\n",
       "    }\n",
       "\n",
       "    .dataframe thead th {\n",
       "        text-align: right;\n",
       "    }\n",
       "</style>\n",
       "<table border=\"1\" class=\"dataframe\">\n",
       "  <thead>\n",
       "    <tr style=\"text-align: right;\">\n",
       "      <th></th>\n",
       "      <th>LR</th>\n",
       "      <th>KNN</th>\n",
       "      <th>DT</th>\n",
       "      <th>RF</th>\n",
       "      <th>SVC</th>\n",
       "      <th>XGB</th>\n",
       "    </tr>\n",
       "  </thead>\n",
       "  <tbody>\n",
       "    <tr>\n",
       "      <th>0</th>\n",
       "      <td>0</td>\n",
       "      <td>0</td>\n",
       "      <td>0</td>\n",
       "      <td>0</td>\n",
       "      <td>0</td>\n",
       "      <td>0</td>\n",
       "    </tr>\n",
       "    <tr>\n",
       "      <th>1</th>\n",
       "      <td>1</td>\n",
       "      <td>0</td>\n",
       "      <td>1</td>\n",
       "      <td>0</td>\n",
       "      <td>1</td>\n",
       "      <td>0</td>\n",
       "    </tr>\n",
       "    <tr>\n",
       "      <th>2</th>\n",
       "      <td>0</td>\n",
       "      <td>0</td>\n",
       "      <td>0</td>\n",
       "      <td>0</td>\n",
       "      <td>0</td>\n",
       "      <td>0</td>\n",
       "    </tr>\n",
       "    <tr>\n",
       "      <th>3</th>\n",
       "      <td>0</td>\n",
       "      <td>0</td>\n",
       "      <td>0</td>\n",
       "      <td>0</td>\n",
       "      <td>0</td>\n",
       "      <td>0</td>\n",
       "    </tr>\n",
       "    <tr>\n",
       "      <th>4</th>\n",
       "      <td>1</td>\n",
       "      <td>1</td>\n",
       "      <td>1</td>\n",
       "      <td>1</td>\n",
       "      <td>1</td>\n",
       "      <td>0</td>\n",
       "    </tr>\n",
       "  </tbody>\n",
       "</table>\n",
       "</div>"
      ],
      "text/plain": [
       "   LR  KNN  DT  RF  SVC  XGB\n",
       "0   0    0   0   0    0    0\n",
       "1   1    0   1   0    1    0\n",
       "2   0    0   0   0    0    0\n",
       "3   0    0   0   0    0    0\n",
       "4   1    1   1   1    1    0"
      ]
     },
     "execution_count": 68,
     "metadata": {},
     "output_type": "execute_result"
    }
   ],
   "source": [
    "# Make prediction using all the trained models\n",
    "model_prediction = pd.DataFrame({'LR':lr.predict(X_test), 'KNN':knn.predict(X_test), 'DT':dt.predict(X_test),'RF':rf.predict(X_test), 'SVC':svc.predict(X_test), 'XGB': xgb.predict(X_test)})\n",
    "\n",
    "#All the Models Prediction \n",
    "model_prediction.head()"
   ]
  },
  {
   "cell_type": "code",
   "execution_count": 69,
   "id": "8024b818",
   "metadata": {},
   "outputs": [
    {
     "data": {
      "text/html": [
       "<div>\n",
       "<style scoped>\n",
       "    .dataframe tbody tr th:only-of-type {\n",
       "        vertical-align: middle;\n",
       "    }\n",
       "\n",
       "    .dataframe tbody tr th {\n",
       "        vertical-align: top;\n",
       "    }\n",
       "\n",
       "    .dataframe thead th {\n",
       "        text-align: right;\n",
       "    }\n",
       "</style>\n",
       "<table border=\"1\" class=\"dataframe\">\n",
       "  <thead>\n",
       "    <tr style=\"text-align: right;\">\n",
       "      <th></th>\n",
       "      <th>LR</th>\n",
       "      <th>KNN</th>\n",
       "      <th>DT</th>\n",
       "      <th>RF</th>\n",
       "      <th>SVC</th>\n",
       "      <th>XGB</th>\n",
       "    </tr>\n",
       "  </thead>\n",
       "  <tbody>\n",
       "    <tr>\n",
       "      <th>0</th>\n",
       "      <td>0</td>\n",
       "      <td>0</td>\n",
       "      <td>0</td>\n",
       "      <td>0</td>\n",
       "      <td>0</td>\n",
       "      <td>0</td>\n",
       "    </tr>\n",
       "    <tr>\n",
       "      <th>1</th>\n",
       "      <td>1</td>\n",
       "      <td>0</td>\n",
       "      <td>1</td>\n",
       "      <td>0</td>\n",
       "      <td>1</td>\n",
       "      <td>0</td>\n",
       "    </tr>\n",
       "    <tr>\n",
       "      <th>2</th>\n",
       "      <td>0</td>\n",
       "      <td>0</td>\n",
       "      <td>0</td>\n",
       "      <td>0</td>\n",
       "      <td>0</td>\n",
       "      <td>0</td>\n",
       "    </tr>\n",
       "    <tr>\n",
       "      <th>3</th>\n",
       "      <td>0</td>\n",
       "      <td>0</td>\n",
       "      <td>0</td>\n",
       "      <td>0</td>\n",
       "      <td>0</td>\n",
       "      <td>0</td>\n",
       "    </tr>\n",
       "    <tr>\n",
       "      <th>4</th>\n",
       "      <td>1</td>\n",
       "      <td>1</td>\n",
       "      <td>1</td>\n",
       "      <td>1</td>\n",
       "      <td>1</td>\n",
       "      <td>0</td>\n",
       "    </tr>\n",
       "  </tbody>\n",
       "</table>\n",
       "</div>"
      ],
      "text/plain": [
       "   LR  KNN  DT  RF  SVC  XGB\n",
       "0   0    0   0   0    0    0\n",
       "1   1    0   1   0    1    0\n",
       "2   0    0   0   0    0    0\n",
       "3   0    0   0   0    0    0\n",
       "4   1    1   1   1    1    0"
      ]
     },
     "execution_count": 69,
     "metadata": {},
     "output_type": "execute_result"
    }
   ],
   "source": [
    "#Create a data frame to store base modles prediction \n",
    "base_prediction = model_prediction # we have already make the data frame above of all the models prediction\n",
    "\n",
    "base_prediction.head()"
   ]
  },
  {
   "cell_type": "code",
   "execution_count": 70,
   "id": "faf1d765",
   "metadata": {},
   "outputs": [
    {
     "data": {
      "text/plain": [
       "Text(0.5, 1.0, 'Prediction correlation ammong the Base Models')"
      ]
     },
     "execution_count": 70,
     "metadata": {},
     "output_type": "execute_result"
    },
    {
     "data": {
      "image/png": "[encoded data removed]",
      "text/plain": [
       "<Figure size 1080x576 with 2 Axes>"
      ]
     },
     "metadata": {
      "needs_background": "light"
     },
     "output_type": "display_data"
    }
   ],
   "source": [
    "#Let's visualize the correlations among the predictions of base models.\n",
    "plt.figure(figsize = (15,8))\n",
    "sns.heatmap(base_prediction.corr(), annot=True)\n",
    "plt.title('Prediction correlation ammong the Base Models', fontsize = 18)"
   ]
  },
  {
   "cell_type": "markdown",
   "id": "0732b63c",
   "metadata": {},
   "source": [
    "#### Findings: The prediction looks quite similar for the 6 classifiers except when DT is compared to the others classifiers. Now we will create an ensemble with the base models RF, XGB, DT, KNN, and LR. This ensemble can be called heterogeneous ensemble since we have three tree based, one kernel based and one linear models. We would use EnsembleVotingClassifier method from mlxtend.classifier module for both hard and soft voting ensembles. The advantage is it requires lesser codes to plot decision regions and I find it a bit faster than sklearn's voting classifier."
   ]
  },
  {
   "cell_type": "code",
   "execution_count": 71,
   "id": "1f8e1be2",
   "metadata": {},
   "outputs": [],
   "source": [
    "# We will use mlxtend library to train, predict and plot decision regions of hard voting ensemble classifier\n",
    "# Define base models for hard voting ensemble.\n",
    "base_models = [lr, knn, dt, rf, xgb]\n"
   ]
  },
  {
   "cell_type": "code",
   "execution_count": 80,
   "id": "2768d421",
   "metadata": {},
   "outputs": [],
   "source": [
    "# Import ensemble classifier from mlxtend\n",
    "from mlxtend.classifier import EnsembleVoteClassifier"
   ]
  },
  {
   "cell_type": "code",
   "execution_count": 78,
   "id": "b8571e7b",
   "metadata": {},
   "outputs": [
    {
     "name": "stdout",
     "output_type": "stream",
     "text": [
      "Collecting mlxtend\n",
      "  Using cached mlxtend-0.20.0-py2.py3-none-any.whl (1.3 MB)\n",
      "Requirement already satisfied: setuptools in c:\\users\\manohar\\anaconda3\\lib\\site-packages (from mlxtend) (52.0.0.post20210125)\n",
      "Requirement already satisfied: joblib>=0.13.2 in c:\\users\\manohar\\anaconda3\\lib\\site-packages (from mlxtend) (1.0.1)\n",
      "Requirement already satisfied: numpy>=1.16.2 in c:\\users\\manohar\\anaconda3\\lib\\site-packages (from mlxtend) (1.20.1)\n",
      "Requirement already satisfied: pandas>=0.24.2 in c:\\users\\manohar\\anaconda3\\lib\\site-packages (from mlxtend) (1.2.4)\n",
      "Requirement already satisfied: matplotlib>=3.0.0 in c:\\users\\manohar\\anaconda3\\lib\\site-packages (from mlxtend) (3.3.4)\n",
      "Requirement already satisfied: scikit-learn>=1.0.2 in c:\\users\\manohar\\anaconda3\\lib\\site-packages (from mlxtend) (1.1.2)\n",
      "Requirement already satisfied: scipy>=1.2.1 in c:\\users\\manohar\\anaconda3\\lib\\site-packages (from mlxtend) (1.6.2)\n",
      "Requirement already satisfied: cycler>=0.10 in c:\\users\\manohar\\anaconda3\\lib\\site-packages (from matplotlib>=3.0.0->mlxtend) (0.10.0)\n",
      "Requirement already satisfied: kiwisolver>=1.0.1 in c:\\users\\manohar\\anaconda3\\lib\\site-packages (from matplotlib>=3.0.0->mlxtend) (1.3.1)\n",
      "Requirement already satisfied: pillow>=6.2.0 in c:\\users\\manohar\\anaconda3\\lib\\site-packages (from matplotlib>=3.0.0->mlxtend) (8.2.0)\n",
      "Requirement already satisfied: python-dateutil>=2.1 in c:\\users\\manohar\\anaconda3\\lib\\site-packages (from matplotlib>=3.0.0->mlxtend) (2.8.1)\n",
      "Requirement already satisfied: pyparsing!=2.0.4,!=2.1.2,!=2.1.6,>=2.0.3 in c:\\users\\manohar\\anaconda3\\lib\\site-packages (from matplotlib>=3.0.0->mlxtend) (2.4.7)\n",
      "Requirement already satisfied: six in c:\\users\\manohar\\anaconda3\\lib\\site-packages (from cycler>=0.10->matplotlib>=3.0.0->mlxtend) (1.15.0)\n",
      "Requirement already satisfied: pytz>=2017.3 in c:\\users\\manohar\\anaconda3\\lib\\site-packages (from pandas>=0.24.2->mlxtend) (2021.1)\n",
      "Requirement already satisfied: threadpoolctl>=2.0.0 in c:\\users\\manohar\\anaconda3\\lib\\site-packages (from scikit-learn>=1.0.2->mlxtend) (2.1.0)\n",
      "Installing collected packages: mlxtend\n",
      "Successfully installed mlxtend-0.20.0\n"
     ]
    }
   ],
   "source": [
    "!pip install mlxtend"
   ]
  },
  {
   "cell_type": "code",
   "execution_count": 81,
   "id": "8679dc8e",
   "metadata": {},
   "outputs": [
    {
     "name": "stdout",
     "output_type": "stream",
     "text": [
      "Training Hard Voting Emsemble Classification\n"
     ]
    },
    {
     "data": {
      "text/plain": [
       "EnsembleVoteClassifier(clfs=[LogisticRegression(C=4.641588833612778),\n",
       "                             KNeighborsClassifier(algorithm='ball_tree',\n",
       "                                                  n_neighbors=9, p=1),\n",
       "                             DecisionTreeClassifier(max_features='log2',\n",
       "                                                    min_samples_leaf=3,\n",
       "                                                    min_samples_split=14,\n",
       "                                                    random_state=46),\n",
       "                             RandomForestClassifier(max_features='log2',\n",
       "                                                    min_samples_leaf=2,\n",
       "                                                    min_samples_split=6,\n",
       "                                                    n_estimators=30,\n",
       "                                                    random_state=46),\n",
       "                             XGBC...\n",
       "                                           eval_metric=None, gamma=1.5,\n",
       "                                           gpu_id=-1, grow_policy='depthwise',\n",
       "                                           importance_type=None,\n",
       "                                           interaction_constraints='',\n",
       "                                           learning_rate=0.300000012,\n",
       "                                           max_bin=256, max_cat_to_onehot=4,\n",
       "                                           max_delta_step=0, max_depth=3,\n",
       "                                           max_leaves=0, min_child_weight=5,\n",
       "                                           missing=nan,\n",
       "                                           monotone_constraints='()',\n",
       "                                           n_estimators=100, n_jobs=0,\n",
       "                                           num_parallel_tree=1,\n",
       "                                           predictor='auto', random_state=0,\n",
       "                                           reg_alpha=0, reg_lambda=1, ...)])"
      ]
     },
     "metadata": {},
     "output_type": "display_data"
    },
    {
     "name": "stdout",
     "output_type": "stream",
     "text": [
      "-----Done-----\n",
      "\n",
      "Computing Hard Voting Cross Val Score\n"
     ]
    },
    {
     "name": "stderr",
     "output_type": "stream",
     "text": [
      "C:\\Users\\MANOHAR\\anaconda3\\lib\\site-packages\\sklearn\\linear_model\\_logistic.py:763: ConvergenceWarning: lbfgs failed to converge (status=1):\n",
      "STOP: TOTAL NO. of ITERATIONS REACHED LIMIT.\n",
      "\n",
      "Increase the number of iterations (max_iter) or scale the data as shown in:\n",
      "    https://scikit-learn.org/stable/modules/preprocessing.html\n",
      "Please also refer to the documentation for alternative solver options:\n",
      "    https://scikit-learn.org/stable/modules/linear_model.html#logistic-regression\n",
      "  n_iter_i = _check_optimize_result(\n"
     ]
    },
    {
     "name": "stdout",
     "output_type": "stream",
     "text": [
      "----Done----\n"
     ]
    },
    {
     "data": {
      "text/html": [
       "<div>\n",
       "<style scoped>\n",
       "    .dataframe tbody tr th:only-of-type {\n",
       "        vertical-align: middle;\n",
       "    }\n",
       "\n",
       "    .dataframe tbody tr th {\n",
       "        vertical-align: top;\n",
       "    }\n",
       "\n",
       "    .dataframe thead th {\n",
       "        text-align: right;\n",
       "    }\n",
       "</style>\n",
       "<table border=\"1\" class=\"dataframe\">\n",
       "  <thead>\n",
       "    <tr style=\"text-align: right;\">\n",
       "      <th></th>\n",
       "      <th>Hard_vs_base_score(%)</th>\n",
       "    </tr>\n",
       "  </thead>\n",
       "  <tbody>\n",
       "    <tr>\n",
       "      <th>HARD_VAL_SCORE</th>\n",
       "      <td>83.95</td>\n",
       "    </tr>\n",
       "    <tr>\n",
       "      <th>LR</th>\n",
       "      <td>82.95</td>\n",
       "    </tr>\n",
       "    <tr>\n",
       "      <th>KNN</th>\n",
       "      <td>82.16</td>\n",
       "    </tr>\n",
       "    <tr>\n",
       "      <th>DT</th>\n",
       "      <td>82.15</td>\n",
       "    </tr>\n",
       "    <tr>\n",
       "      <th>RF</th>\n",
       "      <td>83.62</td>\n",
       "    </tr>\n",
       "    <tr>\n",
       "      <th>XGB</th>\n",
       "      <td>83.16</td>\n",
       "    </tr>\n",
       "  </tbody>\n",
       "</table>\n",
       "</div>"
      ],
      "text/plain": [
       "                Hard_vs_base_score(%)\n",
       "HARD_VAL_SCORE                  83.95\n",
       "LR                              82.95\n",
       "KNN                             82.16\n",
       "DT                              82.15\n",
       "RF                              83.62\n",
       "XGB                             83.16"
      ]
     },
     "metadata": {},
     "output_type": "display_data"
    }
   ],
   "source": [
    "# Initialize hard voting ensemble\n",
    "hard_evc = EnsembleVoteClassifier(clfs= base_models, voting = 'hard')\n",
    "print('Training Hard Voting Emsemble Classification')\n",
    "display(hard_evc.fit(X_train, y_train))\n",
    "print('-----Done-----')\n",
    "\n",
    "# Predict with hard voting ensemble.\n",
    "y_pred_hard_ecv = pd.DataFrame(hard_evc.predict(X_test), columns = ['HARD_ECV'])\n",
    "\n",
    "# Hard voting cross validation score.\n",
    "print('\\nComputing Hard Voting Cross Val Score')\n",
    "hard_x_val_score = cross_val_score(hard_evc, X_train, y_train, cv=10,  scoring = 'accuracy')\n",
    "hard_x_val_score = np.round(hard_x_val_score.mean()*100,2)\n",
    "print('----Done----')\n",
    "\n",
    "# Compare hard voting score with best base models scores.\n",
    "hard_vs_base_score = pd.DataFrame({'Hard_vs_base_score(%)': [hard_x_val_score, lr_best_score, knn_best_score, dt_best_score, rf_best_score, xgb_best_score]})\n",
    "hard_vs_base_score.index = ['HARD_VAL_SCORE', 'LR', 'KNN', 'DT', 'RF', 'XGB']\n",
    "display(hard_vs_base_score)"
   ]
  },
  {
   "cell_type": "code",
   "execution_count": 82,
   "id": "a395e978",
   "metadata": {},
   "outputs": [
    {
     "data": {
      "text/html": [
       "<div>\n",
       "<style scoped>\n",
       "    .dataframe tbody tr th:only-of-type {\n",
       "        vertical-align: middle;\n",
       "    }\n",
       "\n",
       "    .dataframe tbody tr th {\n",
       "        vertical-align: top;\n",
       "    }\n",
       "\n",
       "    .dataframe thead th {\n",
       "        text-align: right;\n",
       "    }\n",
       "</style>\n",
       "<table border=\"1\" class=\"dataframe\">\n",
       "  <thead>\n",
       "    <tr style=\"text-align: right;\">\n",
       "      <th></th>\n",
       "      <th>LR</th>\n",
       "      <th>KNN</th>\n",
       "      <th>DT</th>\n",
       "      <th>RF</th>\n",
       "      <th>XGB</th>\n",
       "      <th>HARD_ECV</th>\n",
       "    </tr>\n",
       "  </thead>\n",
       "  <tbody>\n",
       "    <tr>\n",
       "      <th>0</th>\n",
       "      <td>0</td>\n",
       "      <td>0</td>\n",
       "      <td>0</td>\n",
       "      <td>0</td>\n",
       "      <td>0</td>\n",
       "      <td>0</td>\n",
       "    </tr>\n",
       "    <tr>\n",
       "      <th>1</th>\n",
       "      <td>1</td>\n",
       "      <td>0</td>\n",
       "      <td>1</td>\n",
       "      <td>0</td>\n",
       "      <td>0</td>\n",
       "      <td>0</td>\n",
       "    </tr>\n",
       "    <tr>\n",
       "      <th>2</th>\n",
       "      <td>0</td>\n",
       "      <td>0</td>\n",
       "      <td>0</td>\n",
       "      <td>0</td>\n",
       "      <td>0</td>\n",
       "      <td>0</td>\n",
       "    </tr>\n",
       "    <tr>\n",
       "      <th>3</th>\n",
       "      <td>0</td>\n",
       "      <td>0</td>\n",
       "      <td>0</td>\n",
       "      <td>0</td>\n",
       "      <td>0</td>\n",
       "      <td>0</td>\n",
       "    </tr>\n",
       "    <tr>\n",
       "      <th>4</th>\n",
       "      <td>1</td>\n",
       "      <td>1</td>\n",
       "      <td>1</td>\n",
       "      <td>1</td>\n",
       "      <td>0</td>\n",
       "      <td>1</td>\n",
       "    </tr>\n",
       "    <tr>\n",
       "      <th>5</th>\n",
       "      <td>0</td>\n",
       "      <td>0</td>\n",
       "      <td>0</td>\n",
       "      <td>0</td>\n",
       "      <td>0</td>\n",
       "      <td>0</td>\n",
       "    </tr>\n",
       "    <tr>\n",
       "      <th>6</th>\n",
       "      <td>1</td>\n",
       "      <td>1</td>\n",
       "      <td>1</td>\n",
       "      <td>1</td>\n",
       "      <td>1</td>\n",
       "      <td>1</td>\n",
       "    </tr>\n",
       "  </tbody>\n",
       "</table>\n",
       "</div>"
      ],
      "text/plain": [
       "   LR  KNN  DT  RF  XGB  HARD_ECV\n",
       "0   0    0   0   0    0         0\n",
       "1   1    0   1   0    0         0\n",
       "2   0    0   0   0    0         0\n",
       "3   0    0   0   0    0         0\n",
       "4   1    1   1   1    0         1\n",
       "5   0    0   0   0    0         0\n",
       "6   1    1   1   1    1         1"
      ]
     },
     "metadata": {},
     "output_type": "display_data"
    }
   ],
   "source": [
    "# See base models prediction with hard voting prediction.\n",
    "df_hard_base = pd.concat([base_prediction.drop('SVC', axis=1),y_pred_hard_ecv], sort = False, axis = 1)\n",
    "display(df_hard_base.head(7))"
   ]
  },
  {
   "cell_type": "markdown",
   "id": "bb56cd88",
   "metadata": {},
   "source": [
    "### Soft Voting"
   ]
  },
  {
   "cell_type": "code",
   "execution_count": 83,
   "id": "4c4faf3c",
   "metadata": {},
   "outputs": [
    {
     "data": {
      "text/html": [
       "<div>\n",
       "<style scoped>\n",
       "    .dataframe tbody tr th:only-of-type {\n",
       "        vertical-align: middle;\n",
       "    }\n",
       "\n",
       "    .dataframe tbody tr th {\n",
       "        vertical-align: top;\n",
       "    }\n",
       "\n",
       "    .dataframe thead th {\n",
       "        text-align: right;\n",
       "    }\n",
       "</style>\n",
       "<table border=\"1\" class=\"dataframe\">\n",
       "  <thead>\n",
       "    <tr style=\"text-align: right;\">\n",
       "      <th></th>\n",
       "      <th>RF</th>\n",
       "      <th>LR</th>\n",
       "      <th>KNN</th>\n",
       "      <th>Average</th>\n",
       "      <th>Soft Voting</th>\n",
       "    </tr>\n",
       "  </thead>\n",
       "  <tbody>\n",
       "    <tr>\n",
       "      <th>0</th>\n",
       "      <td>0.49</td>\n",
       "      <td>0.99</td>\n",
       "      <td>0.49</td>\n",
       "      <td>0.66</td>\n",
       "      <td>1</td>\n",
       "    </tr>\n",
       "    <tr>\n",
       "      <th>1</th>\n",
       "      <td>0.51</td>\n",
       "      <td>0.01</td>\n",
       "      <td>0.51</td>\n",
       "      <td>0.34</td>\n",
       "      <td>0</td>\n",
       "    </tr>\n",
       "  </tbody>\n",
       "</table>\n",
       "</div>"
      ],
      "text/plain": [
       "     RF    LR   KNN  Average  Soft Voting\n",
       "0  0.49  0.99  0.49     0.66            1\n",
       "1  0.51  0.01  0.51     0.34            0"
      ]
     },
     "metadata": {},
     "output_type": "display_data"
    }
   ],
   "source": [
    "# Example: how soft voting works\n",
    "data = [[0.49, 0.99, 0.49, 0.66, 1],\n",
    "        [0.51, 0.01, 0.51, 0.34, 0]]\n",
    "display(pd.DataFrame(data, columns=['RF', 'LR', 'KNN', 'Average', 'Soft Voting']))"
   ]
  },
  {
   "cell_type": "code",
   "execution_count": 84,
   "id": "e2bc4011",
   "metadata": {},
   "outputs": [
    {
     "name": "stdout",
     "output_type": "stream",
     "text": [
      "fitting soft voting ensemble\n"
     ]
    },
    {
     "data": {
      "text/plain": [
       "EnsembleVoteClassifier(clfs=[LogisticRegression(C=4.641588833612778),\n",
       "                             KNeighborsClassifier(algorithm='ball_tree',\n",
       "                                                  n_neighbors=9, p=1),\n",
       "                             DecisionTreeClassifier(max_features='log2',\n",
       "                                                    min_samples_leaf=3,\n",
       "                                                    min_samples_split=14,\n",
       "                                                    random_state=46),\n",
       "                             RandomForestClassifier(max_features='log2',\n",
       "                                                    min_samples_leaf=2,\n",
       "                                                    min_samples_split=6,\n",
       "                                                    n_estimators=30,\n",
       "                                                    random_state=46),\n",
       "                             XGBC...\n",
       "                                           gpu_id=-1, grow_policy='depthwise',\n",
       "                                           importance_type=None,\n",
       "                                           interaction_constraints='',\n",
       "                                           learning_rate=0.300000012,\n",
       "                                           max_bin=256, max_cat_to_onehot=4,\n",
       "                                           max_delta_step=0, max_depth=3,\n",
       "                                           max_leaves=0, min_child_weight=5,\n",
       "                                           missing=nan,\n",
       "                                           monotone_constraints='()',\n",
       "                                           n_estimators=100, n_jobs=0,\n",
       "                                           num_parallel_tree=1,\n",
       "                                           predictor='auto', random_state=0,\n",
       "                                           reg_alpha=0, reg_lambda=1, ...)],\n",
       "                       voting='soft')"
      ]
     },
     "metadata": {},
     "output_type": "display_data"
    }
   ],
   "source": [
    "#Let's implement soft voting ensemble in mlxtend.\n",
    "\n",
    "# Base models for soft voting is the base models of hard voting\n",
    "# Initialize soft voting ensemble\n",
    "base_model = [lr, knn, dt, rf, xgb]\n",
    "soft_evc = EnsembleVoteClassifier(clfs = base_model, voting = 'soft')\n",
    "print('fitting soft voting ensemble')\n",
    "display(soft_evc.fit(X_train, y_train))"
   ]
  },
  {
   "cell_type": "code",
   "execution_count": 85,
   "id": "0615c977",
   "metadata": {},
   "outputs": [],
   "source": [
    "#Predict with soft voting ensemble\n",
    "y_pred_soft_evc = pd.DataFrame(soft_evc.predict(X_test), columns = ['SOFT_EVC'])"
   ]
  },
  {
   "cell_type": "code",
   "execution_count": 86,
   "id": "543069b3",
   "metadata": {},
   "outputs": [
    {
     "name": "stdout",
     "output_type": "stream",
     "text": [
      "\n",
      "Computing Soft Voting X Val Score...\n"
     ]
    },
    {
     "name": "stderr",
     "output_type": "stream",
     "text": [
      "C:\\Users\\MANOHAR\\anaconda3\\lib\\site-packages\\sklearn\\linear_model\\_logistic.py:763: ConvergenceWarning: lbfgs failed to converge (status=1):\n",
      "STOP: TOTAL NO. of ITERATIONS REACHED LIMIT.\n",
      "\n",
      "Increase the number of iterations (max_iter) or scale the data as shown in:\n",
      "    https://scikit-learn.org/stable/modules/preprocessing.html\n",
      "Please also refer to the documentation for alternative solver options:\n",
      "    https://scikit-learn.org/stable/modules/linear_model.html#logistic-regression\n",
      "  n_iter_i = _check_optimize_result(\n"
     ]
    },
    {
     "name": "stdout",
     "output_type": "stream",
     "text": [
      "----Done----\n"
     ]
    },
    {
     "data": {
      "text/html": [
       "<div>\n",
       "<style scoped>\n",
       "    .dataframe tbody tr th:only-of-type {\n",
       "        vertical-align: middle;\n",
       "    }\n",
       "\n",
       "    .dataframe tbody tr th {\n",
       "        vertical-align: top;\n",
       "    }\n",
       "\n",
       "    .dataframe thead th {\n",
       "        text-align: right;\n",
       "    }\n",
       "</style>\n",
       "<table border=\"1\" class=\"dataframe\">\n",
       "  <thead>\n",
       "    <tr style=\"text-align: right;\">\n",
       "      <th></th>\n",
       "      <th>Hard_vs_base_score(%)</th>\n",
       "    </tr>\n",
       "  </thead>\n",
       "  <tbody>\n",
       "    <tr>\n",
       "      <th>HARD_VAL_SCORE</th>\n",
       "      <td>83.95</td>\n",
       "    </tr>\n",
       "    <tr>\n",
       "      <th>LR</th>\n",
       "      <td>82.95</td>\n",
       "    </tr>\n",
       "    <tr>\n",
       "      <th>KNN</th>\n",
       "      <td>82.16</td>\n",
       "    </tr>\n",
       "    <tr>\n",
       "      <th>DT</th>\n",
       "      <td>82.15</td>\n",
       "    </tr>\n",
       "    <tr>\n",
       "      <th>RF</th>\n",
       "      <td>83.62</td>\n",
       "    </tr>\n",
       "    <tr>\n",
       "      <th>XGB</th>\n",
       "      <td>83.16</td>\n",
       "    </tr>\n",
       "  </tbody>\n",
       "</table>\n",
       "</div>"
      ],
      "text/plain": [
       "                Hard_vs_base_score(%)\n",
       "HARD_VAL_SCORE                  83.95\n",
       "LR                              82.95\n",
       "KNN                             82.16\n",
       "DT                              82.15\n",
       "RF                              83.62\n",
       "XGB                             83.16"
      ]
     },
     "metadata": {},
     "output_type": "display_data"
    }
   ],
   "source": [
    "# Hard voting cross validation score\n",
    "print('\\nComputing Soft Voting X Val Score...')\n",
    "soft_x_val_score = cross_val_score(soft_evc, X_train, y_train, cv = 10, scoring = 'accuracy')\n",
    "soft_x_val_score = np.round(soft_x_val_score.mean()*100, 2)\n",
    "print('----Done----')\n",
    "\n",
    "# Compare Soft voting score with best base models scores.\n",
    "soft_vs_base_score = pd.DataFrame({'Soft_Vs_Base_Score': [soft_x_val_score, lr_best_score, knn_best_score, dt_best_score, rf_best_score, xgb_best_score]})\n",
    "soft_vs_base_score.index = ['SOFT_VAL_SCORE', 'LR', 'KNN', 'DT', 'RF', 'XGB']\n",
    "display(hard_vs_base_score)"
   ]
  },
  {
   "cell_type": "markdown",
   "id": "2cf8c467",
   "metadata": {},
   "source": [
    "### Soft voting perform better than all base model."
   ]
  },
  {
   "cell_type": "code",
   "execution_count": null,
   "id": "06e281c4",
   "metadata": {},
   "outputs": [],
   "source": []
  },
  {
   "cell_type": "code",
   "execution_count": null,
   "id": "b92cefd6",
   "metadata": {},
   "outputs": [],
   "source": []
  },
  {
   "cell_type": "code",
   "execution_count": null,
   "id": "578bf50b",
   "metadata": {},
   "outputs": [],
   "source": []
  },
  {
   "cell_type": "code",
   "execution_count": null,
   "id": "988adb4c",
   "metadata": {},
   "outputs": [],
   "source": []
  },
  {
   "cell_type": "code",
   "execution_count": null,
   "id": "aa9d7506",
   "metadata": {},
   "outputs": [],
   "source": []
  }
 ],
 "metadata": {
  "kernelspec": {
   "display_name": "Python 3",
   "language": "python",
   "name": "python3"
  },
  "language_info": {
   "codemirror_mode": {
    "name": "ipython",
    "version": 3
   },
   "file_extension": ".py",
   "mimetype": "text/x-python",
   "name": "python",
   "nbconvert_exporter": "python",
   "pygments_lexer": "ipython3",
   "version": "3.8.8"
  }
 },
 "nbformat": 4,
 "nbformat_minor": 5
}
