{
 "cells": [
  {
   "cell_type": "markdown",
   "id": "370f50ff-85f2-4b92-a58b-82743dc74948",
   "metadata": {},
   "source": [
    "<div class=\"alert alert-success\">\n",
    "    <h1>Assignment 1</h1>\n",
    "    <h3>All interesting Python List function</h3>\n",
    "</div>\n",
    "\n",
    "- list().clear()\n",
    "- list().copy()\n",
    "- list().append()\n",
    "- list().insert()\n",
    "- list().extend()\n",
    "- list().pop()\n",
    "- list().remove()\n",
    "- list().index()\n",
    "- list().count()\n",
    "- list().reverse()\n",
    "- list().sort()\n"
   ]
  },
  {
   "cell_type": "markdown",
   "id": "8dce68a3",
   "metadata": {},
   "source": [
    "#### list().clear() Remove all items from list."
   ]
  },
  {
   "cell_type": "code",
   "execution_count": 17,
   "id": "b37ad420",
   "metadata": {},
   "outputs": [
    {
     "data": {
      "text/plain": [
       "[]"
      ]
     },
     "execution_count": 17,
     "metadata": {},
     "output_type": "execute_result"
    }
   ],
   "source": [
    "b = [1, 2, 3, 4, 5, 6, 7, 8, 9, 10, 11, 12, 13]\n",
    "b.clear()\n",
    "b"
   ]
  },
  {
   "cell_type": "markdown",
   "id": "d429db74",
   "metadata": {},
   "source": [
    "#### list().copy()  Return a shallow copy of the list."
   ]
  },
  {
   "cell_type": "code",
   "execution_count": 27,
   "id": "6b877c08",
   "metadata": {},
   "outputs": [
    {
     "data": {
      "text/plain": [
       "[1, 2, 3, 4, 5, 6, 7, 8, 9, 10, 11, 12, 13]"
      ]
     },
     "execution_count": 27,
     "metadata": {},
     "output_type": "execute_result"
    }
   ],
   "source": [
    "b = [1, 2, 3, 4, 5, 6, 7, 8, 9, 10, 11, 12, 13]\n",
    "a=b.copy()\n",
    "a"
   ]
  },
  {
   "cell_type": "markdown",
   "id": "e37614d1",
   "metadata": {},
   "source": [
    "#### list().append()  Append object to the end of the list."
   ]
  },
  {
   "cell_type": "code",
   "execution_count": 31,
   "id": "4f591f87",
   "metadata": {},
   "outputs": [
    {
     "data": {
      "text/plain": [
       "[1, 2, 3, 4, 5, 6, 7, 8, 9, 10, 11, 12, 13, [1, 2, 3, 4, 5]]"
      ]
     },
     "execution_count": 31,
     "metadata": {},
     "output_type": "execute_result"
    }
   ],
   "source": [
    "b = [1, 2, 3, 4, 5, 6, 7, 8, 9, 10, 11, 12, 13]\n",
    "a=[1, 2, 3, 4, 5]\n",
    "b.append(a)\n",
    "b"
   ]
  },
  {
   "cell_type": "code",
   "execution_count": 36,
   "id": "faa86639",
   "metadata": {},
   "outputs": [
    {
     "data": {
      "text/plain": [
       "[1, 2, 3, 4, 5, 6, 7, 8, 9, 10, 11, 12, 13, {'g': 1}, 'l', 100, (2, 5)]"
      ]
     },
     "execution_count": 36,
     "metadata": {},
     "output_type": "execute_result"
    }
   ],
   "source": [
    "b = [1, 2, 3, 4, 5, 6, 7, 8, 9, 10, 11, 12, 13]\n",
    "b.append({'g':1})\n",
    "b.append('l')\n",
    "b.append(100)\n",
    "b.append((2,5))\n",
    "b"
   ]
  },
  {
   "cell_type": "markdown",
   "id": "a20025b5",
   "metadata": {},
   "source": [
    "#### list().insert()  Insert object before index."
   ]
  },
  {
   "cell_type": "code",
   "execution_count": 47,
   "id": "9af76fcd",
   "metadata": {},
   "outputs": [
    {
     "data": {
      "text/plain": [
       "[[100, 200, 300], 'apple', 1, 2, 3, 4, 5, 6, 7, 8, 9, 10, 11, 12, 13]"
      ]
     },
     "execution_count": 47,
     "metadata": {},
     "output_type": "execute_result"
    }
   ],
   "source": [
    "b = [1, 2, 3, 4, 5, 6, 7, 8, 9, 10, 11, 12, 13]\n",
    "a=[100,200,300]\n",
    "b.insert(0,a)\n",
    "b.insert(1,'apple')\n",
    "b"
   ]
  },
  {
   "cell_type": "markdown",
   "id": "8bfa4cb7",
   "metadata": {},
   "source": [
    "#### list().extend() Extend list by appending elements from the iterable."
   ]
  },
  {
   "cell_type": "code",
   "execution_count": 49,
   "id": "173730f0",
   "metadata": {},
   "outputs": [
    {
     "data": {
      "text/plain": [
       "[1, 2, 3, 4, 5, 6, 7, 8, 9, 10, 11, 12, 13, 1, 2, 3, 4, 5]"
      ]
     },
     "execution_count": 49,
     "metadata": {},
     "output_type": "execute_result"
    }
   ],
   "source": [
    "b = [1, 2, 3, 4, 5, 6, 7, 8, 9, 10, 11, 12, 13]\n",
    "a=[1, 2, 3, 4, 5]\n",
    "b.extend(a)\n",
    "b"
   ]
  },
  {
   "cell_type": "markdown",
   "id": "67ab4175",
   "metadata": {},
   "source": [
    "#### list().pop() Remove and return item at index (default last)."
   ]
  },
  {
   "cell_type": "code",
   "execution_count": 51,
   "id": "9a409283",
   "metadata": {},
   "outputs": [
    {
     "data": {
      "text/plain": [
       "13"
      ]
     },
     "execution_count": 51,
     "metadata": {},
     "output_type": "execute_result"
    }
   ],
   "source": [
    "b = [1, 2, 3, 4, 5, 6, 7, 8, 9, 10, 11, 12, 13]\n",
    "b.pop()\n"
   ]
  },
  {
   "cell_type": "code",
   "execution_count": 52,
   "id": "89709fe8",
   "metadata": {},
   "outputs": [
    {
     "data": {
      "text/plain": [
       "[1, 2, 3, 4, 5, 6, 7, 8, 9, 10, 11, 12]"
      ]
     },
     "execution_count": 52,
     "metadata": {},
     "output_type": "execute_result"
    }
   ],
   "source": [
    "b"
   ]
  },
  {
   "cell_type": "code",
   "execution_count": 53,
   "id": "9f26464f",
   "metadata": {},
   "outputs": [
    {
     "data": {
      "text/plain": [
       "1"
      ]
     },
     "execution_count": 53,
     "metadata": {},
     "output_type": "execute_result"
    }
   ],
   "source": [
    "b.pop(0)"
   ]
  },
  {
   "cell_type": "code",
   "execution_count": 54,
   "id": "337a8916",
   "metadata": {},
   "outputs": [
    {
     "data": {
      "text/plain": [
       "[2, 3, 4, 5, 6, 7, 8, 9, 10, 11, 12]"
      ]
     },
     "execution_count": 54,
     "metadata": {},
     "output_type": "execute_result"
    }
   ],
   "source": [
    "b"
   ]
  },
  {
   "cell_type": "markdown",
   "id": "f583538a",
   "metadata": {},
   "source": [
    "#### list().remove()  Remove first occurrence of value."
   ]
  },
  {
   "cell_type": "code",
   "execution_count": 55,
   "id": "8fb45856",
   "metadata": {},
   "outputs": [
    {
     "data": {
      "text/plain": [
       "[1, 2, 3, 4, 5, 6, 7, 8, 9, 10, 12, 13]"
      ]
     },
     "execution_count": 55,
     "metadata": {},
     "output_type": "execute_result"
    }
   ],
   "source": [
    "b = [1, 2, 3, 4, 5, 6, 7, 8, 9, 10, 11, 12, 13]\n",
    "b.remove(11)\n",
    "b\n"
   ]
  },
  {
   "cell_type": "code",
   "execution_count": 56,
   "id": "48cc2ab7",
   "metadata": {},
   "outputs": [
    {
     "data": {
      "text/plain": [
       "[1, 2, 3, 1, 2, 3, 4]"
      ]
     },
     "execution_count": 56,
     "metadata": {},
     "output_type": "execute_result"
    }
   ],
   "source": [
    "b = [1, 2, 3, 4, 1, 2, 3, 4]\n",
    "b.remove(4)\n",
    "b\n",
    "#Remove first occurrence of value."
   ]
  },
  {
   "cell_type": "markdown",
   "id": "29e25ffb",
   "metadata": {},
   "source": [
    "#### list().index()  Return first index of value."
   ]
  },
  {
   "cell_type": "code",
   "execution_count": 59,
   "id": "c01332e3",
   "metadata": {},
   "outputs": [
    {
     "data": {
      "text/plain": [
       "12"
      ]
     },
     "execution_count": 59,
     "metadata": {},
     "output_type": "execute_result"
    }
   ],
   "source": [
    "b = [1, 2, 3, 4, 5, 6, 7, 8, 9, 10, 11, 12, 13]\n",
    "b.index(13)"
   ]
  },
  {
   "cell_type": "markdown",
   "id": "248b09c5",
   "metadata": {},
   "source": [
    "#### list().count()  Return number of occurrences of value."
   ]
  },
  {
   "cell_type": "code",
   "execution_count": 65,
   "id": "26159093",
   "metadata": {},
   "outputs": [
    {
     "data": {
      "text/plain": [
       "4"
      ]
     },
     "execution_count": 65,
     "metadata": {},
     "output_type": "execute_result"
    }
   ],
   "source": [
    "b = [1, 2, 5, 4, 5, 5, 5, 3]\n",
    "b.count(5)"
   ]
  },
  {
   "cell_type": "markdown",
   "id": "3b89b535",
   "metadata": {},
   "source": [
    "#### list().reverse() Reverse *IN PLACE*"
   ]
  },
  {
   "cell_type": "code",
   "execution_count": 75,
   "id": "37570fd2",
   "metadata": {},
   "outputs": [
    {
     "data": {
      "text/plain": [
       "[13, 12, 11, 10, 9, 8, 7, 6, 5, 4, 3, 2, 1]"
      ]
     },
     "execution_count": 75,
     "metadata": {},
     "output_type": "execute_result"
    }
   ],
   "source": [
    "b = [1, 2, 3, 4, 5, 6, 7, 8, 9, 10, 11, 12, 13]\n",
    "b.reverse()\n",
    "b"
   ]
  },
  {
   "cell_type": "markdown",
   "id": "c3011474",
   "metadata": {},
   "source": [
    "#### list().sort()  Sort the list in ascending order and return None."
   ]
  },
  {
   "cell_type": "code",
   "execution_count": 84,
   "id": "b4578a69",
   "metadata": {},
   "outputs": [
    {
     "name": "stdout",
     "output_type": "stream",
     "text": [
      "None\n"
     ]
    }
   ],
   "source": [
    "b = [1, 2, 3, 4, 5, 6, 7, 8, 9, 10, 11, 12, 13]\n",
    "a = b.sort(reverse = True)\n",
    "print(a)"
   ]
  },
  {
   "cell_type": "code",
   "execution_count": 86,
   "id": "9291e7f9",
   "metadata": {},
   "outputs": [
    {
     "name": "stdout",
     "output_type": "stream",
     "text": [
      "[13, 12, 11, 10, 9, 8, 7, 6, 5, 4, 3, 2, 1]\n"
     ]
    }
   ],
   "source": [
    "b = [1, 2, 3, 4, 5, 6, 7, 8, 9, 10, 11, 12, 13]\n",
    "b.sort(reverse = True)\n",
    "print(b)"
   ]
  },
  {
   "cell_type": "markdown",
   "id": "c45befb4-e3e3-4a71-b301-635ba0a0ed31",
   "metadata": {},
   "source": [
    "<div class=\"alert alert-success\">\n",
    "    <h1>Assignment 2</h1>\n",
    "    <h3>All interesting Python Dict function</h3>\n",
    "</div>\n",
    "\n",
    "- dict().pop()\n",
    "- dict().get()\n",
    "- dict().setdefault()\n",
    "- dict().popitem()\n",
    "- dict().keys()\n",
    "- dict().items()\n",
    "- dict().values()\n",
    "- dict().update()\n",
    "- dict().clear()\n",
    "- dict().copy()\n"
   ]
  },
  {
   "cell_type": "markdown",
   "id": "63205538",
   "metadata": {},
   "source": [
    "#### dict().pop() remove specified key and return the corresponding value."
   ]
  },
  {
   "cell_type": "code",
   "execution_count": 1,
   "id": "65ef2942",
   "metadata": {},
   "outputs": [
    {
     "data": {
      "text/plain": [
       "{'a': 10, 'c': 30}"
      ]
     },
     "execution_count": 1,
     "metadata": {},
     "output_type": "execute_result"
    }
   ],
   "source": [
    "x = {'a':10,'b':20,'c':30}\n",
    "\n",
    "x.pop('b')\n",
    "x"
   ]
  },
  {
   "cell_type": "code",
   "execution_count": 8,
   "id": "e180cee9",
   "metadata": {},
   "outputs": [
    {
     "name": "stdout",
     "output_type": "stream",
     "text": [
      "dict_items([('a', 10), ('b', 20), ('c', 30)])\n",
      "<class 'dict_items'>\n",
      "[('a', 10), ('b', 20), ('c', 30)]\n",
      "<class 'list'>\n",
      "[('a', 10), ('c', 30)]\n"
     ]
    }
   ],
   "source": [
    "x = {'a':10,'b':20,'c':30}\n",
    "a=x.items()\n",
    "print(a)\n",
    "print(type(a))\n",
    "\n",
    "b = list(a)\n",
    "print(b)\n",
    "print(type(b))\n",
    "\n",
    "b.pop(1)\n",
    "print(b)"
   ]
  },
  {
   "cell_type": "markdown",
   "id": "832c7b7f",
   "metadata": {},
   "source": [
    "#### dict().get() Return the value for key if key is in the dictionary, else default."
   ]
  },
  {
   "cell_type": "code",
   "execution_count": 18,
   "id": "503ff6a8",
   "metadata": {},
   "outputs": [
    {
     "name": "stdout",
     "output_type": "stream",
     "text": [
      "20\n"
     ]
    }
   ],
   "source": [
    "x = {'a':10,'b':20,'c':30}\n",
    "\n",
    "print(x.get('b'))"
   ]
  },
  {
   "cell_type": "markdown",
   "id": "cc179dac",
   "metadata": {},
   "source": [
    "#### dict().setdefault()  \n",
    "Insert key with a value of default if key is not in the dictionary.\n",
    "    \n",
    "Return the value for key if key is in the dictionary, else default."
   ]
  },
  {
   "cell_type": "code",
   "execution_count": 25,
   "id": "8662c269",
   "metadata": {},
   "outputs": [
    {
     "name": "stdout",
     "output_type": "stream",
     "text": [
      "10\n",
      "100\n"
     ]
    }
   ],
   "source": [
    "x = {'a':10,'b':20,'c':30}\n",
    "print(x.setdefault('a',100))\n",
    "print(x.setdefault('d',100))"
   ]
  },
  {
   "cell_type": "markdown",
   "id": "2f716c5e",
   "metadata": {},
   "source": [
    "#### dict().popitem() Remove and return a (key, value) pair as a 2-tuple."
   ]
  },
  {
   "cell_type": "code",
   "execution_count": 26,
   "id": "d0af5b69",
   "metadata": {},
   "outputs": [
    {
     "data": {
      "text/plain": [
       "('c', 30)"
      ]
     },
     "execution_count": 26,
     "metadata": {},
     "output_type": "execute_result"
    }
   ],
   "source": [
    "x = {'a':10,'b':20,'c':30}\n",
    "x.popitem()"
   ]
  },
  {
   "cell_type": "markdown",
   "id": "d7d0ad9d",
   "metadata": {},
   "source": [
    "##### dict().keys() D.keys() -> a set-like object providing a view on D's keys"
   ]
  },
  {
   "cell_type": "code",
   "execution_count": 27,
   "id": "941c0d0e",
   "metadata": {},
   "outputs": [
    {
     "data": {
      "text/plain": [
       "dict_keys(['a', 'b', 'c'])"
      ]
     },
     "execution_count": 27,
     "metadata": {},
     "output_type": "execute_result"
    }
   ],
   "source": [
    "x = {'a':10,'b':20,'c':30}\n",
    "x.keys()"
   ]
  },
  {
   "cell_type": "markdown",
   "id": "05fef4f9",
   "metadata": {},
   "source": [
    "#### dict().values() D.values() -> an object providing a view on D's values"
   ]
  },
  {
   "cell_type": "code",
   "execution_count": 31,
   "id": "06f85c21",
   "metadata": {},
   "outputs": [
    {
     "data": {
      "text/plain": [
       "dict_values([10, 20, 30])"
      ]
     },
     "execution_count": 31,
     "metadata": {},
     "output_type": "execute_result"
    }
   ],
   "source": [
    "x = {'a':10,'b':20,'c':30}\n",
    "x.values()"
   ]
  },
  {
   "cell_type": "markdown",
   "id": "69c78065",
   "metadata": {},
   "source": [
    "#### dict().items() D.items() -> a set-like object providing a view on D's items"
   ]
  },
  {
   "cell_type": "code",
   "execution_count": 32,
   "id": "7185698c",
   "metadata": {},
   "outputs": [
    {
     "data": {
      "text/plain": [
       "dict_items([('a', 10), ('b', 20), ('c', 30)])"
      ]
     },
     "execution_count": 32,
     "metadata": {},
     "output_type": "execute_result"
    }
   ],
   "source": [
    "x = {'a':10,'b':20,'c':30}\n",
    "x.items()"
   ]
  },
  {
   "cell_type": "markdown",
   "id": "01d18a9c",
   "metadata": {},
   "source": [
    "#### dict().update()   \n",
    "- The update() method takes either a dictionary or an iterable object of key/value pairs (generally tuples).\n",
    "\n",
    "If update() is called without passing parameters, the dictionary remains unchanged."
   ]
  },
  {
   "cell_type": "code",
   "execution_count": 37,
   "id": "534a69b3",
   "metadata": {},
   "outputs": [
    {
     "data": {
      "text/plain": [
       "{'a': 10, 'b': 20, 'c': 30, 'd': 40, 'e': 50, 'f': 60}"
      ]
     },
     "execution_count": 37,
     "metadata": {},
     "output_type": "execute_result"
    }
   ],
   "source": [
    "x = {'a':10,'b':20,'c':30}\n",
    "y = {'d':40, 'e':50,'f':60}\n",
    "\n",
    "x.update(y)\n",
    "x"
   ]
  },
  {
   "cell_type": "markdown",
   "id": "e0dafa0b",
   "metadata": {},
   "source": [
    "#### dict().clear()  D.clear() -> None.  Remove all items from D."
   ]
  },
  {
   "cell_type": "code",
   "execution_count": 38,
   "id": "ff4267c4",
   "metadata": {},
   "outputs": [
    {
     "data": {
      "text/plain": [
       "{}"
      ]
     },
     "execution_count": 38,
     "metadata": {},
     "output_type": "execute_result"
    }
   ],
   "source": [
    "x = {'a':10,'b':20,'c':30}\n",
    "x.clear()\n",
    "x"
   ]
  },
  {
   "cell_type": "markdown",
   "id": "66ad3b24",
   "metadata": {},
   "source": [
    "#### dict().copy()  D.copy() -> a shallow copy of D"
   ]
  },
  {
   "cell_type": "code",
   "execution_count": 42,
   "id": "f1e63f01",
   "metadata": {},
   "outputs": [
    {
     "name": "stdout",
     "output_type": "stream",
     "text": [
      "x :  {'a': 10, 'b': 20, 'c': 30}\n",
      "x_copy :  {'a': 10, 'b': 20, 'c': 30}\n"
     ]
    }
   ],
   "source": [
    "x = {'a':10,'b':20,'c':30}\n",
    "x_copy = x.copy()\n",
    "print('x : ',x)\n",
    "print('x_copy : ',x_copy)"
   ]
  },
  {
   "cell_type": "code",
   "execution_count": null,
   "id": "979f3ac5",
   "metadata": {},
   "outputs": [],
   "source": []
  },
  {
   "cell_type": "markdown",
   "id": "6d2c299b",
   "metadata": {},
   "source": [
    "#### tuple().index() \n",
    "index(self, value, start=0, stop=9223372036854775807, /)\n",
    "Return first index of value."
   ]
  },
  {
   "cell_type": "code",
   "execution_count": 52,
   "id": "731817fa",
   "metadata": {},
   "outputs": [
    {
     "data": {
      "text/plain": [
       "3"
      ]
     },
     "execution_count": 52,
     "metadata": {},
     "output_type": "execute_result"
    }
   ],
   "source": [
    "a = ('a',1,5.5,(2,4))\n",
    "a.index((2,4))"
   ]
  },
  {
   "cell_type": "markdown",
   "id": "22edd1cb",
   "metadata": {},
   "source": [
    "#### tuple().count() Return number of occurrences of value."
   ]
  },
  {
   "cell_type": "code",
   "execution_count": 53,
   "id": "8c925b07",
   "metadata": {},
   "outputs": [
    {
     "data": {
      "text/plain": [
       "2"
      ]
     },
     "execution_count": 53,
     "metadata": {},
     "output_type": "execute_result"
    }
   ],
   "source": [
    "a = ('a',1,5.5,(2,4),5.5,0,2)\n",
    "a.index(5.5)"
   ]
  },
  {
   "cell_type": "markdown",
   "id": "6912bb61-83b8-420c-a328-2bd583a70206",
   "metadata": {},
   "source": [
    "<div class=\"alert alert-success\">\n",
    "    <h1>Assignment 4</h1>\n",
    "    <h3>All interesting Python set function</h3>\n",
    "</div>\n",
    "\n",
    "- set().pop()\n",
    "- set().add()\n",
    "- set().clear()\n",
    "- set().copy()\n",
    "- set().discard()\n",
    "- set().difference()\n",
    "- set().difference_update()\n",
    "- set().intersection()\n",
    "- set().intersection_update()\n",
    "- set().isdisjoint()\n",
    "- set().issubset()\n",
    "- set().issuperset()\n",
    "- set().remove()\n",
    "- set().symmetric_difference()\n",
    "- set().symmetric_difference_update()\n",
    "- set().union()\n",
    "- set().update()\n"
   ]
  },
  {
   "cell_type": "markdown",
   "id": "59e4ca3e",
   "metadata": {},
   "source": [
    "#### set().pop() \n",
    "- Remove and return an arbitrary set element.\n",
    "- Raises KeyError if the set is empty."
   ]
  },
  {
   "cell_type": "code",
   "execution_count": 68,
   "id": "8ab86018",
   "metadata": {},
   "outputs": [
    {
     "name": "stdout",
     "output_type": "stream",
     "text": [
      "{1, 2, 3, 'c', 'b', 'a'}\n",
      "1\n"
     ]
    }
   ],
   "source": [
    "w={'a','b','c',1,2,3}\n",
    "print(w)\n",
    "print(w.pop())\n"
   ]
  },
  {
   "cell_type": "code",
   "execution_count": 85,
   "id": "b5354ef4",
   "metadata": {},
   "outputs": [
    {
     "ename": "TypeError",
     "evalue": "pop expected at least 1 argument, got 0",
     "output_type": "error",
     "traceback": [
      "\u001b[1;31m---------------------------------------------------------------------------\u001b[0m",
      "\u001b[1;31mTypeError\u001b[0m                                 Traceback (most recent call last)",
      "\u001b[1;32m<ipython-input-85-63ecdea18026>\u001b[0m in \u001b[0;36m<module>\u001b[1;34m\u001b[0m\n\u001b[0;32m      1\u001b[0m \u001b[0mc\u001b[0m\u001b[1;33m=\u001b[0m\u001b[1;33m{\u001b[0m\u001b[1;33m}\u001b[0m\u001b[1;33m\u001b[0m\u001b[1;33m\u001b[0m\u001b[0m\n\u001b[1;32m----> 2\u001b[1;33m \u001b[0mprint\u001b[0m\u001b[1;33m(\u001b[0m\u001b[0mc\u001b[0m\u001b[1;33m.\u001b[0m\u001b[0mpop\u001b[0m\u001b[1;33m(\u001b[0m\u001b[1;33m)\u001b[0m\u001b[1;33m)\u001b[0m\u001b[1;33m\u001b[0m\u001b[1;33m\u001b[0m\u001b[0m\n\u001b[0m",
      "\u001b[1;31mTypeError\u001b[0m: pop expected at least 1 argument, got 0"
     ]
    }
   ],
   "source": [
    "c={}\n",
    "print(c.pop())\n"
   ]
  },
  {
   "cell_type": "markdown",
   "id": "45117e1d",
   "metadata": {},
   "source": [
    "#### set().add()\n",
    "- Add an element to a set.\n",
    "- This has no effect if the element is already present."
   ]
  },
  {
   "cell_type": "code",
   "execution_count": 87,
   "id": "da7d0113",
   "metadata": {},
   "outputs": [
    {
     "data": {
      "text/plain": [
       "{1, 2, 3, 5, 'a', 'b', 'c'}"
      ]
     },
     "execution_count": 87,
     "metadata": {},
     "output_type": "execute_result"
    }
   ],
   "source": [
    "set_1={'a','b','c',1,2,3}\n",
    "set_1.add(5)\n",
    "set_1"
   ]
  },
  {
   "cell_type": "markdown",
   "id": "8d4eb336",
   "metadata": {},
   "source": [
    "#### set().clear() Remove all elements from this set.`"
   ]
  },
  {
   "cell_type": "code",
   "execution_count": 88,
   "id": "ac3875e7",
   "metadata": {},
   "outputs": [
    {
     "data": {
      "text/plain": [
       "set()"
      ]
     },
     "execution_count": 88,
     "metadata": {},
     "output_type": "execute_result"
    }
   ],
   "source": [
    "set_1={'a','b','c',1,2,3}\n",
    "set_1.clear()\n",
    "set_1"
   ]
  },
  {
   "cell_type": "markdown",
   "id": "58e189bb",
   "metadata": {},
   "source": [
    "#### set().copy()  Return a shallow copy of a set."
   ]
  },
  {
   "cell_type": "code",
   "execution_count": 89,
   "id": "8f642bf5",
   "metadata": {},
   "outputs": [
    {
     "name": "stdout",
     "output_type": "stream",
     "text": [
      "{1, 2, 3, 'c', 'b', 'a'}\n",
      "{1, 2, 3, 'a', 'c', 'b'}\n"
     ]
    }
   ],
   "source": [
    "set_1={'a','b','c',1,2,3}\n",
    "new_set = set_1.copy()\n",
    "print(set_1)\n",
    "print(new_set)"
   ]
  },
  {
   "cell_type": "markdown",
   "id": "cccd89b8",
   "metadata": {},
   "source": [
    "#### set().discard()\n",
    "- Remove an element from a set if it is a member.\n",
    "- If the element is not a member, do nothing."
   ]
  },
  {
   "cell_type": "code",
   "execution_count": 95,
   "id": "3cbe127e",
   "metadata": {},
   "outputs": [
    {
     "name": "stdout",
     "output_type": "stream",
     "text": [
      "{1, 3, 'c', 'b', 'a'}\n",
      "{1, 3, 'c', 'b', 'a'}\n"
     ]
    }
   ],
   "source": [
    "set_1={'a','b','c',1,2,3}\n",
    "set_1.discard(2)\n",
    "print(set_1)\n",
    "set_1.discard(5)\n",
    "print(set_1)"
   ]
  },
  {
   "cell_type": "markdown",
   "id": "8adf4b70",
   "metadata": {},
   "source": [
    "#### set().difference() \n",
    "- Return the difference of two or more sets as a new set.\n",
    "- (i.e. all elements that are in this set but not the others.)\n",
    "\n",
    "\n"
   ]
  },
  {
   "cell_type": "code",
   "execution_count": 109,
   "id": "ba95a3ed",
   "metadata": {},
   "outputs": [
    {
     "name": "stdout",
     "output_type": "stream",
     "text": [
      "{'c', 'a', 'b'}\n",
      "{1, 2, 3, 'c', 'b', 'a'}\n"
     ]
    }
   ],
   "source": [
    "set_1={'a','b','c',1,2,3}\n",
    "set_2={1,2,3}\n",
    "new_set = set_1.difference(set_2)\n",
    "print(new_set)\n",
    "print(set_1)"
   ]
  },
  {
   "cell_type": "markdown",
   "id": "6330b158",
   "metadata": {},
   "source": [
    "#### set().difference_update() Remove all elements of another set from this set."
   ]
  },
  {
   "cell_type": "code",
   "execution_count": 148,
   "id": "81c197ea",
   "metadata": {},
   "outputs": [
    {
     "name": "stdout",
     "output_type": "stream",
     "text": [
      "None\n",
      "{'c', 'b', 'a'}\n"
     ]
    }
   ],
   "source": [
    "set_1={'a','b','c',1,2,3}\n",
    "set_2={1,2,3}\n",
    "new_set=set_1.difference_update(set_2)\n",
    "print(new_set)\n",
    "print(set_1)"
   ]
  },
  {
   "cell_type": "markdown",
   "id": "43f280d0",
   "metadata": {},
   "source": [
    "#### set().symmetric_difference() Return the symmetric difference of two sets as a new set."
   ]
  },
  {
   "cell_type": "code",
   "execution_count": 149,
   "id": "63d045d6",
   "metadata": {},
   "outputs": [
    {
     "name": "stdout",
     "output_type": "stream",
     "text": [
      "{4, 5, 6, 'c', 'b', 'a', 'e', 'd', 'f'}\n",
      "{1, 2, 3, 4, 5, 6, 'c', 'b', 'a', 'e', 'd', 'f'}\n",
      "{1, 2, 3}\n"
     ]
    }
   ],
   "source": [
    "set_1={'a','b','c',4,5,6,1,2,3,'d','e','f'}\n",
    "set_2={1,2,3}\n",
    "new_set = set_1.symmetric_difference(set_2)\n",
    "print(new_set)\n",
    "print(set_1)\n",
    "print(set_2)"
   ]
  },
  {
   "cell_type": "markdown",
   "id": "6d57a8c7",
   "metadata": {},
   "source": [
    "#### set().intersection()\n",
    "- Return the intersection of two sets as a new set.\n",
    "- (i.e. all elements that are in both sets.)"
   ]
  },
  {
   "cell_type": "code",
   "execution_count": 118,
   "id": "d5006641",
   "metadata": {},
   "outputs": [
    {
     "name": "stdout",
     "output_type": "stream",
     "text": [
      "{1, 2, 3}\n",
      "{1, 2, 3, 'c', 'b', 'a'}\n",
      "{1, 2, 3}\n"
     ]
    }
   ],
   "source": [
    "set_1={'a','b','c',1,2,3}\n",
    "set_2={1,2,3}\n",
    "a = set_1.intersection(set_2)\n",
    "print(a)\n",
    "print(set_1)\n",
    "print(set_2)\n"
   ]
  },
  {
   "cell_type": "markdown",
   "id": "a1dcc6f5",
   "metadata": {},
   "source": [
    "#### set().intersection_update() Update a set with the intersection of itself and another."
   ]
  },
  {
   "cell_type": "code",
   "execution_count": 117,
   "id": "1820dc7d",
   "metadata": {},
   "outputs": [
    {
     "name": "stdout",
     "output_type": "stream",
     "text": [
      "None\n",
      "{1, 2, 3}\n",
      "{1, 2, 3}\n"
     ]
    }
   ],
   "source": [
    "set_1={'a','b','c',1,2,3}\n",
    "set_2={1,2,3}\n",
    "a = set_1.intersection_update(set_2)\n",
    "print(a)\n",
    "print(set_1)\n",
    "print(set_2)\n"
   ]
  },
  {
   "cell_type": "markdown",
   "id": "2a3d0411",
   "metadata": {},
   "source": [
    "#### set().union()\n",
    "- Return the union of sets as a new set.\n",
    "- (i.e. all elements that are in either set.)"
   ]
  },
  {
   "cell_type": "code",
   "execution_count": 152,
   "id": "85b69384",
   "metadata": {},
   "outputs": [
    {
     "name": "stdout",
     "output_type": "stream",
     "text": [
      "{1, 2, 3, 'c', 'b', 'a'}\n",
      "{1, 2, 3, 'c', 'b', 'a'}\n",
      "{1, 2, 3}\n"
     ]
    }
   ],
   "source": [
    "set_1={'a','b','c',1,2,3}\n",
    "set_2={1,2,3}\n",
    "a=set_1.union(set_2)\n",
    "print(a)\n",
    "print(set_1)\n",
    "print(set_2)"
   ]
  },
  {
   "cell_type": "markdown",
   "id": "0bd0040f",
   "metadata": {},
   "source": [
    "#### set().isdisjoint() Return True if two sets have a null intersection."
   ]
  },
  {
   "cell_type": "code",
   "execution_count": 119,
   "id": "90bd1b9b",
   "metadata": {},
   "outputs": [
    {
     "data": {
      "text/plain": [
       "False"
      ]
     },
     "execution_count": 119,
     "metadata": {},
     "output_type": "execute_result"
    }
   ],
   "source": [
    "set_1={'a','b','c',1,2,3}\n",
    "set_2={1,2,3}\n",
    "set_1.isdisjoint(set_2)"
   ]
  },
  {
   "cell_type": "code",
   "execution_count": 120,
   "id": "b7f63a28",
   "metadata": {},
   "outputs": [
    {
     "data": {
      "text/plain": [
       "True"
      ]
     },
     "execution_count": 120,
     "metadata": {},
     "output_type": "execute_result"
    }
   ],
   "source": [
    "set_1={'a','b','c',1,2,3}\n",
    "set_2={7,8,9}\n",
    "set_1.isdisjoint(set_2)"
   ]
  },
  {
   "cell_type": "markdown",
   "id": "2d25dd5f",
   "metadata": {},
   "source": [
    "#### set().issubset() Report whether another set contains this set."
   ]
  },
  {
   "cell_type": "code",
   "execution_count": 128,
   "id": "994ba11b",
   "metadata": {},
   "outputs": [
    {
     "data": {
      "text/plain": [
       "False"
      ]
     },
     "execution_count": 128,
     "metadata": {},
     "output_type": "execute_result"
    }
   ],
   "source": [
    "set_1={'a','b','c',1,2,3}\n",
    "set_2={1,2,3}\n",
    "set_1.issubset(set_2)"
   ]
  },
  {
   "cell_type": "code",
   "execution_count": 127,
   "id": "e36c975f",
   "metadata": {},
   "outputs": [
    {
     "data": {
      "text/plain": [
       "True"
      ]
     },
     "execution_count": 127,
     "metadata": {},
     "output_type": "execute_result"
    }
   ],
   "source": [
    "set_1={'a','b','c',1,2,3}\n",
    "set_2={1,2,3}\n",
    "set_2.issubset(set_1)"
   ]
  },
  {
   "cell_type": "markdown",
   "id": "9aa723aa",
   "metadata": {},
   "source": [
    "#### set().issuperset()  Report whether this set contains another set."
   ]
  },
  {
   "cell_type": "code",
   "execution_count": 129,
   "id": "526f1489",
   "metadata": {},
   "outputs": [
    {
     "data": {
      "text/plain": [
       "False"
      ]
     },
     "execution_count": 129,
     "metadata": {},
     "output_type": "execute_result"
    }
   ],
   "source": [
    "set_1={'a','b','c',1,2,3}\n",
    "set_2={1,2,3}\n",
    "set_2.issuperset(set_1)"
   ]
  },
  {
   "cell_type": "code",
   "execution_count": 130,
   "id": "b0d6d8e3",
   "metadata": {},
   "outputs": [
    {
     "data": {
      "text/plain": [
       "True"
      ]
     },
     "execution_count": 130,
     "metadata": {},
     "output_type": "execute_result"
    }
   ],
   "source": [
    "set_1={'a','b','c',1,2,3}\n",
    "set_2={1,2,3}\n",
    "set_1.issuperset(set_2)"
   ]
  },
  {
   "cell_type": "markdown",
   "id": "0c0475ed",
   "metadata": {},
   "source": [
    "#### set().remove() Remove an element from a set; it must be a member."
   ]
  },
  {
   "cell_type": "code",
   "execution_count": 132,
   "id": "ef0d4393",
   "metadata": {},
   "outputs": [
    {
     "data": {
      "text/plain": [
       "{1, 2, 3, 'a', 'c'}"
      ]
     },
     "execution_count": 132,
     "metadata": {},
     "output_type": "execute_result"
    }
   ],
   "source": [
    "set_1={'a','b','c',1,2,3}\n",
    "set_1.remove('b')\n",
    "set_1"
   ]
  },
  {
   "cell_type": "markdown",
   "id": "fc752ad9",
   "metadata": {},
   "source": [
    "#### set().update() Update a set with the union of itself and others."
   ]
  },
  {
   "cell_type": "code",
   "execution_count": 157,
   "id": "465bb18a",
   "metadata": {},
   "outputs": [
    {
     "name": "stdout",
     "output_type": "stream",
     "text": [
      "{1, 2, 3, 'c', 'b', 'a', 'd'}\n",
      "{'7', 4, 5, 6}\n"
     ]
    }
   ],
   "source": [
    "set_1={'a','b','c',1,2,3}\n",
    "set_2={4,5,6}\n",
    "set_1.update('d')\n",
    "print(set_1)\n",
    "set_2.update('7')\n",
    "print(set_2)"
   ]
  },
  {
   "cell_type": "code",
   "execution_count": 25,
   "id": "4f5e0ea5-866c-49ec-a8bf-e333fca67ef1",
   "metadata": {
    "collapsed": true
   },
   "outputs": [
    {
     "data": {
      "text/plain": [
       "['__repr__',\n",
       " '__hash__',\n",
       " '__getattribute__',\n",
       " '__lt__',\n",
       " '__le__',\n",
       " '__eq__',\n",
       " '__ne__',\n",
       " '__gt__',\n",
       " '__ge__',\n",
       " '__iter__',\n",
       " '__init__',\n",
       " '__sub__',\n",
       " '__rsub__',\n",
       " '__and__',\n",
       " '__rand__',\n",
       " '__xor__',\n",
       " '__rxor__',\n",
       " '__or__',\n",
       " '__ror__',\n",
       " '__isub__',\n",
       " '__iand__',\n",
       " '__ixor__',\n",
       " '__ior__',\n",
       " '__len__',\n",
       " '__contains__',\n",
       " '__new__',\n",
       " 'add',\n",
       " 'clear',\n",
       " 'copy',\n",
       " 'discard',\n",
       " 'difference',\n",
       " 'difference_update',\n",
       " 'intersection',\n",
       " 'intersection_update',\n",
       " 'isdisjoint',\n",
       " 'issubset',\n",
       " 'issuperset',\n",
       " 'pop',\n",
       " '__reduce__',\n",
       " 'remove',\n",
       " '__sizeof__',\n",
       " 'symmetric_difference',\n",
       " 'symmetric_difference_update',\n",
       " 'union',\n",
       " 'update',\n",
       " '__doc__',\n",
       " '__str__',\n",
       " '__setattr__',\n",
       " '__delattr__',\n",
       " '__reduce_ex__',\n",
       " '__subclasshook__',\n",
       " '__init_subclass__',\n",
       " '__format__',\n",
       " '__dir__',\n",
       " '__class__']"
      ]
     },
     "execution_count": 25,
     "metadata": {},
     "output_type": "execute_result"
    }
   ],
   "source": [
    "set().__dir__()"
   ]
  },
  {
   "cell_type": "markdown",
   "id": "324fbcd4-fcc0-48a5-8185-5e8e5912794d",
   "metadata": {},
   "source": [
    "#### List Overlap   \n",
    "\n",
    "Take two lists, say for example these two:\n",
    "\n",
    "\ta = [1, 1, 2, 3, 5, 8, 13, 21, 34, 55, 89]\n",
    "\tb = [1, 2, 3, 4, 5, 6, 7, 8, 9, 10, 11, 12, 13]\n",
    "and write a program that returns a list that contains only the elements that are common between the lists (without duplicates). Make sure your program works on two lists of different sizes."
   ]
  },
  {
   "cell_type": "code",
   "execution_count": 97,
   "id": "1917cef5",
   "metadata": {},
   "outputs": [
    {
     "name": "stdout",
     "output_type": "stream",
     "text": [
      "[1, 2, 3, 5, 8, 13]\n"
     ]
    }
   ],
   "source": [
    "a = [1, 1, 2, 3, 5, 8, 13, 21, 34, 55, 89]\n",
    "b = [1, 2, 3, 4, 5, 6, 7, 8, 9, 10, 11, 12, 13]\n",
    "\n",
    "c=[]\n",
    "for i in a and b:\n",
    "    if i in a and i in b:\n",
    "        c.append(i)\n",
    "print(c)"
   ]
  },
  {
   "cell_type": "markdown",
   "id": "ce3e15fe-eaab-4ea5-b788-3c500740ed61",
   "metadata": {},
   "source": [
    "#### List Comprehensions\n",
    "\n",
    "Let’s say I give you a list saved in a variable: \n",
    "\n",
    "\ta = [1, 4, 9, 16, 25, 36, 49, 64, 81, 100]. \n",
    "    \n",
    "Write one line of Python that takes this list a and makes a new list that has only the even elements of this list in it."
   ]
  },
  {
   "cell_type": "code",
   "execution_count": 101,
   "id": "da9ba372-dbe7-437a-a68d-2ebab3406318",
   "metadata": {},
   "outputs": [
    {
     "name": "stdout",
     "output_type": "stream",
     "text": [
      "[4, 16, 36, 64, 100]\n"
     ]
    }
   ],
   "source": [
    "a = [1, 4, 9, 16, 25, 36, 49, 64, 81, 100]\n",
    "\n",
    "print([i for i in a if i%2==0])"
   ]
  },
  {
   "cell_type": "markdown",
   "id": "2d9b014a-80b4-441c-b362-afc6d3c669d0",
   "metadata": {},
   "source": [
    "#### List Overlap Comprehensions \n",
    "\n",
    "Take two lists, say for example these two:\n",
    "\n",
    "\ta = [1, 1, 2, 3, 5, 8, 13, 21, 34, 55, 89]\n",
    "\tb = [1, 2, 3, 4, 5, 6, 7, 8, 9, 10, 11, 12, 13]\n",
    "\n",
    "and write a program that returns a list that contains only the elements that are common between the lists (without duplicates). Make sure your program works on two lists of different sizes. Write this using at least one list comprehension. \n",
    "\n",
    "Extra:\n",
    "\n",
    "Randomly generate two lists to test this"
   ]
  },
  {
   "cell_type": "code",
   "execution_count": 357,
   "id": "7e044e24-50a1-415a-b6ad-c83411d0bb40",
   "metadata": {},
   "outputs": [
    {
     "name": "stdout",
     "output_type": "stream",
     "text": [
      "[1, 2, 3, 5, 8, 13]\n"
     ]
    }
   ],
   "source": [
    "a = [1, 1, 2, 3, 5, 8, 13, 21, 34, 55, 89]\n",
    "b = [1, 2, 3, 4, 5, 6, 7, 8, 9, 10, 11, 12, 13]\n",
    "\n",
    "print([i for i in a and b if i in a and b])"
   ]
  },
  {
   "cell_type": "code",
   "execution_count": 379,
   "id": "364226f2",
   "metadata": {},
   "outputs": [
    {
     "name": "stdout",
     "output_type": "stream",
     "text": [
      "a :  [7, 5, 11, 16, 3, 10, 9, 18, 11, 19, 14]\n",
      "b :  [7, 19, 21, 7, 15, 14, 29, 14, 13, 27, 20, 27, 2, 9]\n",
      "new_list :  [7, 19, 7, 14, 14, 9]\n"
     ]
    }
   ],
   "source": [
    "import random\n",
    "a=[]\n",
    "b=[]\n",
    "\n",
    "\n",
    "list_1=list(range(11))\n",
    "list_2=list(range(14))\n",
    "for i in list_1:\n",
    "    x=random.randint(1,20)\n",
    "    a.append(x)\n",
    "    \n",
    "    \n",
    "\n",
    "for j in list_2:\n",
    "    y=random.randint(1,30)\n",
    "    b.append(y)\n",
    "    \n",
    "print('a : ',a )\n",
    "print('b : ',b)\n",
    "\n",
    "\n",
    "print('new_list : ', [x for x in a and b if x in a and b])"
   ]
  },
  {
   "cell_type": "markdown",
   "id": "89a9e1e1-e43b-43da-9a3d-558dab0f2220",
   "metadata": {},
   "source": [
    "#### List Ends Solutions\n",
    "\n",
    "Write a program that takes a list of numbers (for example, a = [5, 10, 15, 20, 25]) and makes a new list of only the first and last elements of the given list. For practice, write this code inside a function."
   ]
  },
  {
   "cell_type": "code",
   "execution_count": 11,
   "id": "8d5b7c08-048c-4bb7-8296-f8fc0877d22f",
   "metadata": {},
   "outputs": [
    {
     "name": "stdout",
     "output_type": "stream",
     "text": [
      "[5, 25]\n"
     ]
    }
   ],
   "source": [
    "a = [5, 10, 15, 20, 25]\n",
    "\n",
    "for i in a:\n",
    "    b=a[0::4]\n",
    "    \n",
    "    \n",
    "print(b)    "
   ]
  },
  {
   "cell_type": "code",
   "execution_count": 18,
   "id": "f0ef9a10",
   "metadata": {},
   "outputs": [
    {
     "data": {
      "text/plain": [
       "[5, 25]"
      ]
     },
     "execution_count": 18,
     "metadata": {},
     "output_type": "execute_result"
    }
   ],
   "source": [
    "a_lst = [5, 10, 15, 20, 25]\n",
    "def slicing():\n",
    "    for x in a_lst:\n",
    "        y=a[0::4]\n",
    "    return y\n",
    "\n",
    "slicing()"
   ]
  },
  {
   "cell_type": "markdown",
   "id": "e65325b4-940e-40bf-95a7-0da1d529e72b",
   "metadata": {},
   "source": [
    "#### List Remove Duplicates Solutions\n",
    "\n",
    "Write a program (function!) that takes a list and returns a new list that contains all the elements of the first list minus all the duplicates.\n",
    "\n",
    "Extras:\n",
    "\n",
    " - Write two different functions to do this - one using a loop and constructing a list, and another using sets.\n",
    " - Go back and do Exercise 5 using sets, and write the solution for that in a different function."
   ]
  },
  {
   "cell_type": "code",
   "execution_count": 35,
   "id": "f6c29b50-3c25-4026-a75a-c266e0095f3e",
   "metadata": {},
   "outputs": [
    {
     "data": {
      "text/plain": [
       "[1, 2, 3, 5, 9]"
      ]
     },
     "execution_count": 35,
     "metadata": {},
     "output_type": "execute_result"
    }
   ],
   "source": [
    "# removing duplicates using set\n",
    "\n",
    "def list_1():\n",
    "    a = list(set(b))\n",
    "    return a\n",
    "\n",
    "\n",
    "b=[1,5,9,9,5,1,2,3,2]\n",
    "list_1()"
   ]
  },
  {
   "cell_type": "code",
   "execution_count": 43,
   "id": "fedfc11a-a721-474b-af98-668860f80a19",
   "metadata": {},
   "outputs": [
    {
     "name": "stdout",
     "output_type": "stream",
     "text": [
      "[1, 5, 9, 2, 3]\n"
     ]
    }
   ],
   "source": [
    "# removing duplicates using loop\n",
    "\n",
    "def remove_duplicates(x):\n",
    "    final_list = []\n",
    "    for num in x:\n",
    "        if num not in final_list:\n",
    "            final_list.append(num)\n",
    "    return final_list\n",
    "\n",
    "x=[1,5,9,9,5,1,2,3,2]\n",
    "print(remove_duplicates(num))"
   ]
  },
  {
   "cell_type": "markdown",
   "id": "e813eedd-e875-4c47-8c0f-80df7cf1c6c6",
   "metadata": {},
   "source": [
    "#### calculating min from given list without using predefined functions"
   ]
  },
  {
   "cell_type": "code",
   "execution_count": 80,
   "id": "10521105-44f9-4158-abbd-3e4ac2cc2563",
   "metadata": {},
   "outputs": [
    {
     "name": "stdout",
     "output_type": "stream",
     "text": [
      "minimum_value :  3\n"
     ]
    }
   ],
   "source": [
    "def min_value():\n",
    "    minimum_value = given_list[0]\n",
    "    for i in given_list:\n",
    "        if i < minimum_value:\n",
    "            minimum_value = i\n",
    "    print('minimum_value : ',minimum_value)\n",
    "    \n",
    "given_list = [9, 16, 100, 25, 3, 36, 49, 4, 81, 64]\n",
    "min_value()"
   ]
  },
  {
   "cell_type": "markdown",
   "id": "bf7ce8a7-b64c-4732-8ca7-3c49bdd2abca",
   "metadata": {},
   "source": [
    "#### without zip"
   ]
  },
  {
   "cell_type": "code",
   "execution_count": null,
   "id": "de1bf1ba",
   "metadata": {},
   "outputs": [],
   "source": [
    "def min_value():\n",
    "    a = sorted(given_list)\n",
    "    minimum_value = a[0]\n",
    "    print(minimum_value)\n",
    "\n",
    "given_list = [9, 16, 100, 25, 3, 36, 49, 4, 81, 64]\n",
    "min_value()"
   ]
  }
 ],
 "metadata": {
  "kernelspec": {
   "display_name": "Python 3",
   "language": "python",
   "name": "python3"
  },
  "language_info": {
   "codemirror_mode": {
    "name": "ipython",
    "version": 3
   },
   "file_extension": ".py",
   "mimetype": "text/x-python",
   "name": "python",
   "nbconvert_exporter": "python",
   "pygments_lexer": "ipython3",
   "version": "3.8.8"
  }
 },
 "nbformat": 4,
 "nbformat_minor": 5
}
