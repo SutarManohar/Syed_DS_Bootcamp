{
 "cells": [
  {
   "cell_type": "markdown",
   "id": "64b6af38",
   "metadata": {},
   "source": [
    "### Version-2"
   ]
  },
  {
   "cell_type": "code",
   "execution_count": null,
   "id": "6c53aaa1",
   "metadata": {},
   "outputs": [],
   "source": [
    "# Program 2 : Find the lowest number\n",
    "# Conditional Statements\n",
    "# Create a program that will ask 3 numbers\n",
    "# Find the lowest number using only if-else statement\n",
    "# Display the lowest number among the three"
   ]
  },
  {
   "cell_type": "code",
   "execution_count": null,
   "id": "de1726e7",
   "metadata": {},
   "outputs": [],
   "source": [
    "user = int(input('First Number : ')),int(input('Second Number : ')),int(input('Third Number : '))\n",
    "\n",
    "if user[0] < user[1] and user[0] < user[2]:\n",
    "    lowest_number = user[0]\n",
    "\n",
    "elif user[1] < user[0] and user[1] < user[2]:\n",
    "    lowest_number = user[1]\n",
    "    \n",
    "else:\n",
    "    lowest_number = user[2]\n",
    "    \n",
    "print('The lowest number is : ', lowest_number)\n"
   ]
  },
  {
   "cell_type": "markdown",
   "id": "98d1f058",
   "metadata": {},
   "source": [
    "### Version - 2\n",
    "6)create a list (seat1 = 1, seat2 = 1, seat3 = 0, seat4 = 1), Now make an if elseif, else statement that checks if a seat is open. if the seat = 1 its closed and print that it's closed. If the seat = 0, it's open and print that it's open. If no seats are open print \"There are no available seats\""
   ]
  },
  {
   "cell_type": "code",
   "execution_count": 71,
   "id": "9a6759fb",
   "metadata": {},
   "outputs": [
    {
     "name": "stdout",
     "output_type": "stream",
     "text": [
      "seat1 closed\n",
      "seat2 closed\n",
      "seat3 open\n",
      "seat4 closed\n"
     ]
    }
   ],
   "source": [
    "\n",
    "seats = {'seat1':1, 'seat2':1, 'seat3':0, 'seat4':1}\n",
    "a = seats.items()\n",
    "\n",
    "for key,value in a:\n",
    "    if value == 1:\n",
    "        print(key,'closed')\n",
    "    elif value==0:\n",
    "        print(key,'open')\n",
    "    else:\n",
    "        print('There are no available seats')\n",
    "\n"
   ]
  },
  {
   "cell_type": "markdown",
   "id": "63737b62",
   "metadata": {},
   "source": [
    "### Version-2 in one line"
   ]
  },
  {
   "cell_type": "markdown",
   "id": "a252225e-eb30-4395-a410-8e5392285d85",
   "metadata": {},
   "source": [
    "Take a list, say for example this one:\n",
    "\n",
    "\ta = [1, 1, 2, 3, 5, 8, 13, 21, 34, 55, 89]\n",
    "and write a program that prints out all the elements of the list that are less than 5.\n",
    "\n",
    "Extras:\n",
    "\n",
    " - Instead of printing the elements one by one, make a new list that has all the elements less than 5 from this list in it and print out this new list.\n",
    " - Write this in one line of Python.\n",
    " - Ask the user for a number and return a list that contains only elements from the original list a that are smaller than that number given by the user."
   ]
  },
  {
   "cell_type": "code",
   "execution_count": 13,
   "id": "00ba934f",
   "metadata": {},
   "outputs": [
    {
     "name": "stdout",
     "output_type": "stream",
     "text": [
      "30\n",
      "[1, 1, 2, 3, 5, 8, 13, 21]\n"
     ]
    }
   ],
   "source": [
    "a = [1, 1, 2, 3, 5, 8, 13, 21, 34, 55, 89]\n",
    "user =int(input())\n",
    "b=[]\n",
    "\n",
    "        \n",
    "[b.append(i) for i in a  if i < user]\n",
    "print(b)"
   ]
  },
  {
   "cell_type": "markdown",
   "id": "05e20e80-21de-49a0-9983-e11e6c0abd20",
   "metadata": {},
   "source": [
    "Create a program that asks the user for a number and then prints out a list of all the divisors of that number. (If you don’t know what a divisor is, it is a number that divides evenly into another number. For example, 13 is a divisor of 26 because 26 / 13 has no remainder.)"
   ]
  },
  {
   "cell_type": "markdown",
   "id": "d658c09c-6802-4bb8-a20e-c86a4c371d0f",
   "metadata": {},
   "source": [
    "### Rock Paper Scissors\n",
    "\n",
    "Make a two-player Rock-Paper-Scissors game. (Hint: Ask for player plays (using input), compare them, print out a message of congratulations to the winner, and ask if the players want to start a new game)\n",
    "\n",
    "Remember the rules:\n",
    "\n",
    " - Rock beats scissors\n",
    " - Scissors beats paper\n",
    " - Paper beats rock"
   ]
  },
  {
   "cell_type": "markdown",
   "id": "a80b61e1",
   "metadata": {},
   "source": [
    "## Version-2  Rock Paper Scissors"
   ]
  },
  {
   "cell_type": "code",
   "execution_count": null,
   "id": "d520cd03",
   "metadata": {},
   "outputs": [],
   "source": [
    "# rock>scissors  \n",
    "# scissors>papper\n",
    "# paper>rock"
   ]
  },
  {
   "cell_type": "code",
   "execution_count": 70,
   "id": "60f8cd46",
   "metadata": {},
   "outputs": [
    {
     "name": "stdout",
     "output_type": "stream",
     "text": [
      "Player_1 : Choose rock or papper or scissor : scissor\n",
      "Player_2 : Choose rock or papper or scissor : rock\n",
      "player_2 is winner \n",
      " want to play again?\n"
     ]
    },
    {
     "data": {
      "text/plain": [
       "'we can finish this withot elif line aswell \\nbut the problem is if anything except the (Rock Paper Scissors) giving player_2 as winner\\nie. because of else\\nso that included elif also here'"
      ]
     },
     "execution_count": 70,
     "metadata": {},
     "output_type": "execute_result"
    }
   ],
   "source": [
    "player_1 = input('Player_1 : Choose rock or papper or scissor : ')\n",
    "player_2 = input('Player_2 : Choose rock or papper or scissor : ')\n",
    "\n",
    "if (player_1,player_2) == ('rock','scissor') or (player_1,player_2) == ('scissor','paper') or (player_1,player_2) == ('paper','rock'):\n",
    "    print('player_1 is winner \\n want to play again?')\n",
    "elif (player_1,player_2) == ('rock','paper') or (player_1,player_2) == ('scissor','rock') or (player_1,player_2) == ('paper','scissor'):\n",
    "    print('player_2 is winner \\n want to play again?')\n",
    "else:\n",
    "    print('invalid input please choose the valid items ')\n",
    "    \n",
    "    \n",
    "    \n",
    "\"\"\"we can finish this without elif line aswell \n",
    "but the problem is if anything except the (Rock Paper Scissors) giving player_2 as winner\n",
    "ie. because of else\n",
    "so that included elif also here\"\"\""
   ]
  },
  {
   "cell_type": "markdown",
   "id": "1a4330d5",
   "metadata": {},
   "source": [
    "## Version-1 Rock Paper Scissors"
   ]
  },
  {
   "cell_type": "code",
   "execution_count": 23,
   "id": "88fec871-8fd7-40e3-a3df-48ba976ad45d",
   "metadata": {},
   "outputs": [
    {
     "name": "stdout",
     "output_type": "stream",
     "text": [
      "f\n",
      "f\n",
      "invalid input\n",
      "want to start a new game ?\n"
     ]
    }
   ],
   "source": [
    "player_1 = input()\n",
    "player_2 = input()\n",
    "\n",
    "if player_1 == 'Rock' and player_2 == 'Scissors':\n",
    "    print('Congratulations to the player_1')\n",
    "    print('want to start a new game ?')\n",
    "elif player_1 == 'Scissors' and player_2 == 'Rock':\n",
    "    print('Congratulations to the player_2')\n",
    "    print('want to start a new game ?')\n",
    "elif player_1 == 'Scissors' and player_2 == 'Paper':\n",
    "    print('Congratulations to the player_1')\n",
    "    print('want to start a new game ?')\n",
    "elif player_1 == 'Paper' and player_2 == 'Scissors':\n",
    "    print('Congratulations to the player_2')\n",
    "    print('want to start a new game ?')\n",
    "elif player_1 == 'Paper' and player_2 == 'Rock':\n",
    "    print('Congratulations to the player_1')\n",
    "    print('want to start a new game ?')\n",
    "elif player_1 == 'Rock' and player_2 == 'Paper':\n",
    "    print('Congratulations to the player_2')\n",
    "    print('want to start a new game ?')\n",
    "else:\n",
    "    print('invalid input')\n",
    "    print('want to start a new game ?')"
   ]
  },
  {
   "cell_type": "code",
   "execution_count": null,
   "id": "c4e051e6-4c53-48f7-bc7a-2fac835548a9",
   "metadata": {},
   "outputs": [],
   "source": []
  },
  {
   "cell_type": "markdown",
   "id": "9ce94a55-064b-47b5-bb78-4a98d4b633c6",
   "metadata": {},
   "source": [
    "#### Element Search Solutions\n",
    "\n",
    "Write a function that takes an ordered list of numbers (a list where the elements are in order from smallest to largest) and another number. The function decides whether or not the given number is inside the list and returns (then prints) an appropriate boolean.\n",
    "\n",
    "Extras:\n",
    "\n",
    "Use binary search."
   ]
  },
  {
   "cell_type": "markdown",
   "id": "d667ec8e",
   "metadata": {},
   "source": [
    "### Version-1"
   ]
  },
  {
   "cell_type": "code",
   "execution_count": 57,
   "id": "375e63f6-66ce-4995-8037-ff0047f4db9c",
   "metadata": {},
   "outputs": [
    {
     "name": "stdout",
     "output_type": "stream",
     "text": [
      "[1, 4, 6, 8, 12, 25, 55, 66, 68]\n",
      "99\n",
      "False\n"
     ]
    }
   ],
   "source": [
    "a = [25,6,8,1,55,68,66,12,4]\n",
    "Sorted_list = sorted(a)\n",
    "print(Sorted_list)\n",
    "number_to_find = int(input())\n",
    "\n",
    "for i,j in enumerate(Sorted_list):\n",
    "#     print(i,j)\n",
    "    if j == number_to_find:\n",
    "        print(True)\n",
    "    else:\n",
    "        print(False)\n"
   ]
  },
  {
   "cell_type": "markdown",
   "id": "02b05635",
   "metadata": {},
   "source": [
    "### Version-2 without using for loop and in one line "
   ]
  },
  {
   "cell_type": "code",
   "execution_count": 64,
   "id": "d0159b04",
   "metadata": {},
   "outputs": [
    {
     "name": "stdout",
     "output_type": "stream",
     "text": [
      "[1, 4, 6, 8, 12, 25, 55, 66, 68]\n",
      "99\n",
      "[False]\n"
     ]
    }
   ],
   "source": [
    "\n",
    "Sorted_list = sorted([25,6,8,1,55,68,66,12,4])\n",
    "print(Sorted_list)\n",
    "number_to_find = int(input())\n",
    "\n",
    "# without using for loop in one line     \n",
    "print([True if number_to_find in Sorted_list else False])\n"
   ]
  },
  {
   "cell_type": "code",
   "execution_count": null,
   "id": "b763ebed",
   "metadata": {},
   "outputs": [],
   "source": []
  },
  {
   "cell_type": "code",
   "execution_count": 60,
   "id": "bb5509b4-8085-4923-82c5-b1930710e436",
   "metadata": {},
   "outputs": [],
   "source": [
    "#using binary search\n",
    "\n",
    "def binary_search(Sorted_list,number_to_find):\n",
    "    left_index = 0\n",
    "    right_index = len(b)-1\n",
    "    mid_index = 0\n",
    "    \n",
    "    while left_index <= right_index:\n",
    "        mid_index = (left_index+right_index)//2\n",
    "        mid_number = Sorted_list[mid_index]\n",
    "        \n",
    "        if mid_number == number_to_find:\n",
    "            return mid_index\n",
    "        \n",
    "        if mid_number < number_to_find:\n",
    "            left_index = mid_index+1\n",
    "        \n",
    "        else:\n",
    "            right_index=mid_index-1\n",
    "    return False\n",
    "\n",
    "Sorted_list = sorted([25,6,8,1,55,68,66,12,4])\n",
    "print(Sorted_list)\n",
    "number_to_find = int(input())\n",
    "\n",
    "\n",
    "print(binary_search(Sorted_list,number_to_find))"
   ]
  },
  {
   "cell_type": "markdown",
   "id": "1db8e9cc-9ecf-4827-8fc6-b191c01af8f5",
   "metadata": {},
   "source": [
    "#### Cows And Bulls Solutions\n",
    "\n",
    "Create a program that will play the “cows and bulls” game with the user. The game works like this:\n",
    "\n",
    "Randomly generate a 4-digit number. Ask the user to guess a 4-digit number. For every digit that the user guessed correctly in the correct place, they have a “cow”. For every digit the user guessed correctly in the wrong place is a “bull.” Every time the user makes a guess, tell them how many “cows” and “bulls” they have. Once the user guesses the correct number, the game is over. Keep track of the number of guesses the user makes throughout teh game and tell the user at the end.\n",
    "\n",
    "Say the number generated by the computer is 1038. An example interaction could look like this:\n",
    "\n",
    "  Welcome to the Cows and Bulls Game! \n",
    "  \n",
    "  Enter a number: \n",
    "  \n",
    "  '>>>' 1234\n",
    "  \n",
    "  2 cows, 0 bulls\n",
    "  \n",
    "  '>>>' 1256\n",
    "  \n",
    "  1 cow, 1 bull\n",
    "  ...`\n",
    "  \n",
    "Until the user guesses the number."
   ]
  },
  {
   "cell_type": "code",
   "execution_count": 3,
   "id": "b4e4b22b-a26d-4b70-9f30-42303f6dee8a",
   "metadata": {},
   "outputs": [],
   "source": [
    "# 1234\n",
    "# 1234 bulls =4 cows =0\n",
    "# 1243 bulls =2 cows =2"
   ]
  },
  {
   "cell_type": "markdown",
   "id": "95cda61f",
   "metadata": {},
   "source": [
    "## Version-2"
   ]
  },
  {
   "cell_type": "code",
   "execution_count": 1,
   "id": "9d149b55",
   "metadata": {},
   "outputs": [
    {
     "name": "stdout",
     "output_type": "stream",
     "text": [
      "1328\n",
      "Enter a 4 digit number : 1382\n",
      "bulls :  2\n",
      "cows :  2\n",
      "Try again\n",
      "Enter a 4 digit number : 1320\n",
      "bulls :  3\n",
      "cows :  0\n",
      "Try again\n",
      "Enter a 4 digit number : 1328\n",
      "bulls :  4\n",
      "cows :  0\n",
      "You are won! afer  3 attempts\n"
     ]
    }
   ],
   "source": [
    "import random\n",
    "\n",
    "random_4digit_number =str(random.randint(1000,9999))\n",
    "print(random_4digit_number)\n",
    "attempts = 0\n",
    "\n",
    "def playgame():\n",
    "    global attempts\n",
    "    attempts+=1\n",
    "    guess = input('Enter a 4 digit number : ')\n",
    "    for i in range(len(guess)):\n",
    "        cows = 0\n",
    "        bulls= 0\n",
    "        for x in range(4):       \n",
    "            if guess[x]==random_4digit_number[x]: \n",
    "                bulls += 1\n",
    "            if guess[x] in random_4digit_number:\n",
    "                if guess[x]!=random_4digit_number[x]:\n",
    "                    cows += 1\n",
    "            \n",
    "    print('bulls : ',bulls) \n",
    "    print('cows : ',cows) \n",
    "\n",
    "    if (bulls==4):\n",
    "        print('You are won! afer ',attempts,'attempts') \n",
    "    if(bulls!=4):\n",
    "        print('Try again') \n",
    "        playgame()\n",
    "        \n",
    "playgame()"
   ]
  },
  {
   "cell_type": "markdown",
   "id": "a581df1c",
   "metadata": {},
   "source": [
    "### with comments"
   ]
  },
  {
   "cell_type": "code",
   "execution_count": null,
   "id": "4971e817",
   "metadata": {},
   "outputs": [],
   "source": [
    "import random\n",
    "\n",
    "random_4digit_number =str(random.randint(1000,9999))\n",
    "print(random_4digit_number) # we can hide the random_4digit_number here  \n",
    "attempts = 0 # will update attempts here for evertime user get fails\n",
    "\n",
    "def playgame():\n",
    "    global attempts      #accesing outside the fuction\n",
    "    attempts+=1\n",
    "    guess = input('Enter a 4 digit number : ')         # user can guess by giving 4-digits\n",
    "    for i in range(len(guess)):    # Iteration in lengt of user guess to check every index\n",
    "        cows = 0\n",
    "        bulls= 0\n",
    "        for x in range(4):       # iteration in the range of four to match random value length\n",
    "            if guess[x]==random_4digit_number[x]:        # if every input and its index gets match \n",
    "                bulls += 1 # will get bulls according to the match\n",
    "            if guess[x] in random_4digit_number: # if any correct input present in guess\n",
    "                if guess[x]!=random_4digit_number[x]: # if yes and it is in wrong index\n",
    "                    cows += 1 # will get cows according to correct input but wrong index\n",
    "            \n",
    "    print('bulls : ',bulls) # showing count of bulls to user\n",
    "    print('cows : ',cows) # showing count of cows to user\n",
    "    \n",
    "    if (bulls==4): # if bulls score is 4\n",
    "        print('You are won! afer ',attempts,'attempts') #grettings + calling the no of attempts\n",
    "    if(bulls!=4): # untill bulls score is not 4\n",
    "        print('Try again') # printing try again\n",
    "        playgame() # restarting the game with new guess with same random number\n",
    "        \n",
    "playgame()"
   ]
  }
 ],
 "metadata": {
  "kernelspec": {
   "display_name": "Python 3",
   "language": "python",
   "name": "python3"
  },
  "language_info": {
   "codemirror_mode": {
    "name": "ipython",
    "version": 3
   },
   "file_extension": ".py",
   "mimetype": "text/x-python",
   "name": "python",
   "nbconvert_exporter": "python",
   "pygments_lexer": "ipython3",
   "version": "3.8.8"
  }
 },
 "nbformat": 4,
 "nbformat_minor": 5
}
