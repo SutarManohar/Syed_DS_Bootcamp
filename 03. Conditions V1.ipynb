{
 "cells": [
  {
   "cell_type": "code",
   "execution_count": 3,
   "id": "e86e1968-903f-48fc-969b-bcb37e9e8e3d",
   "metadata": {},
   "outputs": [
    {
     "name": "stdout",
     "output_type": "stream",
     "text": [
      "PUP Grade Generator\n",
      "Enter your grade:99.5\n",
      "★ Celebrate your Success! ★\n"
     ]
    }
   ],
   "source": [
    "#Program 1\n",
    "#Conditional Statements\n",
    "#Create a program that will ask for grade percentage. Display the equivalent Grade/Mark and Description\n",
    "#Ask for the grade\n",
    "#Compute grade for the equivalent mark and description\n",
    "#Print the mark and description\n",
    "\n",
    "import math\n",
    "print(\"PUP Grade Generator\")\n",
    "\n",
    "\n",
    "\n",
    "\n",
    "\n",
    "\n",
    "grade = float(input(\"Enter your grade:\"))\n",
    "\n",
    "Grade=math.ceil(grade)\n",
    "\n",
    "if grade <= 65:\n",
    "    print(\"You've got an ' Incomple / Withdrawn / Dropped ' mark.\")\n",
    "    print(\"Withdrawn\")\n",
    "    print(\"Please Try to Study Harder\")\n",
    "\n",
    "elif grade >= 65 and grade <= 74:\n",
    "    print(\"You've got a ' 5.0 ' mark.\")\n",
    "    print(\"Failed\")\n",
    "    print(\"Please Try to Study Harder\")\n",
    "\n",
    "elif grade <= 75:\n",
    "    print(\"You've  got a ' 3.0 ' mark.\")\n",
    "    print(\"Passed\")\n",
    "    print(\"Try to Study Harder\")\n",
    "    \n",
    "elif grade >= 76 and grade <= 78:\n",
    "    print(\"You've got a ' 2.75 ' mark.\")\n",
    "    print(\"Satisfactory! ★\")\n",
    "\n",
    "elif grade >= 79 and grade <= 81:\n",
    "    print(\"You've got a ' 2.5 ' mark.\")\n",
    "    print(\"Satisfactory! ★\") \n",
    "\n",
    "elif grade >= 82 and grade <= 84:\n",
    "    print(\"You've got a ' 2.25 ' mark.\")\n",
    "    print(\"That's Good!★\")\n",
    "\n",
    "elif grade >= 85 and grade <= 87:\n",
    "    print(\"You've got a ' 2.0 ' mark.\")\n",
    "    print(\"That's Good! ★\")\n",
    "\n",
    "elif grade >= 88 and grade <= 90:\n",
    "    print(\"You've got a ' 1.75 ' mark.\")\n",
    "    print(\"That's Very Good! ★ ★ ★\")\n",
    "    \n",
    "elif grade >= 91 and grade <= 93:\n",
    "    print(\"You've got a ' 1.5 ' mark.\")\n",
    "    print(\"That's Very Good! ★ ★ ★\")\n",
    "\n",
    "elif grade >= 94 and grade <= 96:\n",
    "    print(\"You've got a ' 1.25 ' mark.\")\n",
    "    print(\"That's Excellent! ★ ★ ★\")\n",
    "\n",
    "elif grade >= 97 and grade <= 99:\n",
    "    print(\"You've got ' 1.0 ' mark.\")\n",
    "    print(\"That's Excellent! ★ ★ ★\")\n",
    "\n",
    "else: \n",
    "    print(\"★ Celebrate your Success! ★\")\n",
    "    \n",
    "    "
   ]
  },
  {
   "cell_type": "code",
   "execution_count": 21,
   "id": "47b4f7e0",
   "metadata": {},
   "outputs": [
    {
     "name": "stdout",
     "output_type": "stream",
     "text": [
      "LOWEST NUMBER GENERATOR\n",
      "First Number : 8\n",
      "Second Number : 2\n",
      "Third Number : 5\n",
      "The lowest number is :  2\n"
     ]
    }
   ],
   "source": [
    "# Program 2 : Find the lowest number\n",
    "# Conditional Statements\n",
    "# Create a program that will ask 3 numbers\n",
    "# Find the lowest number using only if-else statement\n",
    "# Display the lowest number among the three\n",
    "\n",
    "\n",
    "print(\"LOWEST NUMBER GENERATOR\")\n",
    "user_first_num = int(input('First Number : '))\n",
    "user_second_num = int(input('Second Number : '))\n",
    "user_third_num = int(input('Third Number : '))\n",
    "\n",
    "\n",
    "if user_first_num < user_second_num and user_first_num < user_third_num:\n",
    "    lowest_number = user_first_num\n",
    "\n",
    "elif user_second_num < user_first_num and user_second_num < user_third_num:\n",
    "    lowest_number = user_second_num\n",
    "    \n",
    "elif user_third_num < user_first_num and user_third_num < user_second_num:\n",
    "    lowest_number = user_third_num\n",
    "    \n",
    "print('The lowest number is : ', lowest_number)\n",
    "    \n"
   ]
  },
  {
   "cell_type": "code",
   "execution_count": 14,
   "id": "730e4851",
   "metadata": {},
   "outputs": [
    {
     "name": "stdout",
     "output_type": "stream",
     "text": [
      "age of a person: 50\n",
      "ADULT\n"
     ]
    }
   ],
   "source": [
    "# Program 3 : Life Stages\n",
    "# Conditional Statements\n",
    "# Create a program that will ask for an age of a person\n",
    "# Display the life stage of the person\n",
    "# Rules \n",
    "# 0 - 12 : KID\n",
    "# 13 - 17 : TEEN\n",
    "# 18 : YOUNG ADULT / DEBUT\n",
    "# 19 and above : ADULT\n",
    "\n",
    "\n",
    "age = int(input('age of a person: '))\n",
    "\n",
    "if age<12:\n",
    "    print('KID')\n",
    "elif age>12 and age<18:\n",
    "    print('TEEN')\n",
    "elif age==18:\n",
    "    print('YOUNG ADULT / DEBUT')\n",
    "else:\n",
    "    print('ADULT')\n",
    "\n",
    "    "
   ]
  },
  {
   "cell_type": "code",
   "execution_count": 19,
   "id": "46a924ee",
   "metadata": {},
   "outputs": [
    {
     "name": "stdout",
     "output_type": "stream",
     "text": [
      "weather : chill\n",
      "It's a lovely day\n"
     ]
    }
   ],
   "source": [
    "# if it's hot\n",
    "   #  It's a  hot day\n",
    "   # Drink plenty of water\n",
    "# otherwise if it's cold\n",
    "    # It's a cold day\n",
    "    # Wear warm clothes\n",
    "# otherwise\n",
    "   # It's a lovely day\n",
    "    \n",
    "    \n",
    "weather = input('weather : ')\n",
    "\n",
    "if weather == 'hot day':\n",
    "    print(\"it's a hot day\")\n",
    "    print(\"Drink plenty of water\")\n",
    "    \n",
    "elif weather == 'cold day':\n",
    "    print(\"It's a cold day\")\n",
    "    print(\"Wear warm clothes\")\n",
    "    \n",
    "else:\n",
    "    print(\"It's a lovely day\")"
   ]
  },
  {
   "cell_type": "code",
   "execution_count": null,
   "id": "e14e0f87-ce4b-4dbd-87a3-5837450cb9e2",
   "metadata": {},
   "outputs": [],
   "source": [
    "# if it's hot\n",
    "   #  It's a  hot day\n",
    "   # Drink plenty of water\n",
    "# otherwise if it's cold\n",
    "    # It's a cold day\n",
    "    # Wear warm clothes\n",
    "# otherwise\n",
    "   # It's a lovely day\n",
    "\n",
    "weather = \"cold\"\n",
    "is_hot = True\n",
    "is_cold = True\n",
    "\n",
    "if is_hot:\n",
    "    print(\"It's a  hot day\")\n",
    "    print(\"Drink plenty of water\")\n",
    "elif is_cold:\n",
    "    print(\"It's a cold day\")\n",
    "    print(\"Wear warm clothes\")\n",
    "else:\n",
    "    print(\"It's a lovely day\")\n",
    "\n",
    "    # o/p will be following\n",
    "    # It's a hot day\n",
    "    # Drink plenty of water\n",
    "print(\"---------------------------------------------------------\")\n",
    "\n",
    "if weather == \"hot\":\n",
    "    print(\"It's a  hot day\")\n",
    "    print(\"Drink plenty of water\")\n",
    "elif weather == \"cold\":\n",
    "    print(\"It's a cold day\")\n",
    "    print(\"Wear warm clothes\")\n",
    "else:\n",
    "    print(\"It's a lovely day\")\n",
    "print(\"Enjoy your Day\")\n",
    "\n",
    "    # o/p will be following\n",
    "    # It's a cold day\n",
    "    # Wear warm clothes\n",
    "    # Enjoy your Day\n",
    "\n",
    "print(\"---------------------------------------------------------\")\n",
    "is_hot = False\n",
    "is_cold = False\n",
    "\n",
    "if is_hot:\n",
    "    print(\"It's a  hot day\")\n",
    "    print(\"Drink plenty of water\")\n",
    "elif is_cold:\n",
    "    print(\"It's a cold day\")\n",
    "    print(\"Wear warm clothes\")\n",
    "else:\n",
    "    print(\"It's a lovely day\")\n",
    "\n",
    "    # o/p will be following\n",
    "    # It's a lovely day"
   ]
  },
  {
   "cell_type": "code",
   "execution_count": null,
   "id": "d0944531-239f-4c64-b895-cf9d1c81a1ca",
   "metadata": {},
   "outputs": [],
   "source": [
    "# Multiple Conditions\n",
    "#   AND,  OR, NOT\n",
    "# if applicant has high income AND good credit\n",
    "#   Eligible for loan\n",
    "\n",
    "has_high_income = True\n",
    "has_good_credit = True\n",
    "\n",
    "if has_high_income and has_good_credit:\n",
    "    print(\"Eligible for loan\")\n",
    "\n",
    "\n",
    "# if applicant has high income OR good credit\n",
    "#   Eligible for loan\n",
    "\n",
    "has_high_income = True\n",
    "has_good_credit = False\n",
    "\n",
    "if has_high_income or has_good_credit:\n",
    "    print(\"Eligible for loan\")\n",
    "\n",
    "# Not - example\n",
    "# if applicant has good credit AND doesn't have criminal record\n",
    "#   Eligible for loan\n",
    "\n",
    "has_good_credit = True\n",
    "has_criminal_record = True\n",
    "\n",
    "if has_good_credit and not has_criminal_record:\n",
    "    print (\"Eligible for loan\")"
   ]
  },
  {
   "cell_type": "code",
   "execution_count": null,
   "id": "bc936346-b087-4c5f-89e7-08524c1e1321",
   "metadata": {},
   "outputs": [],
   "source": [
    "# Comparison Operator\n",
    "#   <,<=,>,>=,==,!=\n",
    "# if temperature is greater than 30\n",
    "#   it's a hot day\n",
    "# otherwise if it's less than 10\n",
    "#   it's a cold day\n",
    "# otherwise\n",
    "#   it's neither hot nor cold\n",
    "\n",
    "temperature = 10\n",
    "\n",
    "if temperature > 30:\n",
    "    print(\"it's a hot day\")\n",
    "elif temperature<10:\n",
    "    print(\"it's a cold day\")\n",
    "else:\n",
    "    print(\"it's neither hot nor cold\")"
   ]
  },
  {
   "cell_type": "code",
   "execution_count": null,
   "id": "6cde867a-34a0-44de-b73f-5aa025616b32",
   "metadata": {},
   "outputs": [],
   "source": [
    "# exercise\n",
    "\n",
    "name=\"Salman\"\n",
    "length = len(name)\n",
    "if length < 3:\n",
    "    print(\"name must be atleast 3 char long\")\n",
    "elif length > 50:\n",
    "    print(\"name can be a max of 50 characters\")\n",
    "else:\n",
    "    print(\"name looks good!\")"
   ]
  },
  {
   "cell_type": "code",
   "execution_count": null,
   "id": "3e395880-13d8-48c9-808e-781ae167f3af",
   "metadata": {},
   "outputs": [],
   "source": [
    "# exercise\n",
    "\n",
    "#   Weight: 160  (input)\n",
    "#   (L)bs or (K)g: l  (input)\n",
    "#   You are 72.0 kilos\n",
    "\n",
    "weight = input(\"Weight: \")\n",
    "measurement_unit = input(\"(L)bs or (K)g: \")\n",
    "if measurement_unit.lower() == 'l':\n",
    "    weight_in_kilos = int(weight) * 0.45359237\n",
    "    print(f\"You are {weight_in_kilos} kilos\")\n",
    "else:\n",
    "    weight_in_pounds = int(weight)/0.45\n",
    "    print(f\"You are {weight_in_pounds} pounds\")\n",
    "\n",
    "    "
   ]
  },
  {
   "cell_type": "code",
   "execution_count": 6,
   "id": "d35b8f1c",
   "metadata": {},
   "outputs": [
    {
     "name": "stdout",
     "output_type": "stream",
     "text": [
      "weight : 58\n",
      "(L)bs or (K)g : k\n",
      "you are 58 kilos\n"
     ]
    }
   ],
   "source": [
    "# exercise\n",
    "\n",
    "#   Weight: 160  (input)\n",
    "#   (L)bs or (K)g: l  (input)\n",
    "#   You are 72.0 kilos\n",
    "\n",
    "\n",
    "weight = int(input('weight : '))\n",
    "measurement_unit = input('(L)bs or (K)g : ')\n",
    "\n",
    "\n",
    "if measurement_unit.lower() == 'l':\n",
    "    weight_in_lbs = weight*0.453592\n",
    "    print(f'you are {weight_in_lbs} lbs')\n",
    "else:\n",
    "    weight_in_kilos = weight\n",
    "    print(f'you are {weight_in_kilos} kilos')\n"
   ]
  },
  {
   "cell_type": "code",
   "execution_count": null,
   "id": "7a4cbdfd",
   "metadata": {},
   "outputs": [],
   "source": []
  },
  {
   "cell_type": "code",
   "execution_count": 9,
   "id": "8b0d9c03-d25d-40d2-9c1d-61a282a7b940",
   "metadata": {},
   "outputs": [
    {
     "name": "stdout",
     "output_type": "stream",
     "text": [
      "True\n"
     ]
    }
   ],
   "source": [
    "# Make sure that the_flying_circus() returns True\n",
    "a = 5\n",
    "b = 6\n",
    "c = 7\n",
    "\n",
    "def the_flying_circus():\n",
    "    if (a+b >7 and a <7):    # Start coding here!\n",
    "        return True\n",
    "    elif (a+b < 7 and b < 7):\n",
    "        return False\n",
    "    else: \n",
    "        return False\n",
    "print(the_flying_circus())"
   ]
  },
  {
   "cell_type": "code",
   "execution_count": null,
   "id": "b6cdb048-b22f-4b31-a1b1-30bc55718aa8",
   "metadata": {},
   "outputs": [],
   "source": [
    "'''\n",
    "#1) Create a Variable called grade and set it to an integer. Make an if statement that checks if the grade is a passing grade. grade must be above 65 to pass. print out \"student is passing\"\n",
    "'''\n",
    "grade = 79\n",
    "if grade > 65:\n",
    "    print(\"student is passing\")\n",
    "'''\n",
    "#2) Now make an if, else statement that checks if the student is passing but also print \"student is failing\", if the grade is less than 65\n",
    "'''\n",
    "if grade > 65:\n",
    "    print(\"student is passing\")\n",
    "else: \n",
    "    print(\"student is failing\")\n",
    "'''\n",
    "#3)Create a variable called age. Make and if, else statement that checks if the age entered is old enough to vote. Remember the voting age is 18\n",
    "'''\n",
    "age = 1\n",
    "if age >= 18:   \n",
    "    print(\"old enough\")\n",
    "else:\n",
    "    print(\"not old enough\")\n",
    "'''\n",
    "#4)Create a variable called weight. Make an if statement that checks the unit of the weight. If the weight is in kilograms, convert it to pounds \n",
    "'''\n",
    "weight = int(input('weight : '))\n",
    "unit_of_weight = input('Select:(K) for kg, Select:(L) for lbs : ')\n",
    "\n",
    "\n",
    "if unit_of_weight.lower() == 'l':\n",
    "    print(f'weight : {weight} lbs')\n",
    "else:\n",
    "    w_k_lbs = weight/0.453592\n",
    "    print(f'weight : {w_k_lbs} lbs')\n",
    "\n",
    "\n",
    "'''\n",
    "#5)Now modify the previous program to also convert from pounds to kilograms\n",
    "'''\n",
    "weight = float(input('weight : '))\n",
    "unit_of_weight = input('Select:(K) for kg, Select:(L) for lbs : ')\n",
    "\n",
    "\n",
    "if unit_of_weight.lower() == 'l':\n",
    "    w_lbs_k = weight*0.453592\n",
    "    print(f'weight : {w_lbs_k} Kgs')\n",
    "else:\n",
    "    print(f'weight : {weight} kgs')\n",
    "'''\n",
    "#6)create a list (seat1 = 1, seat2 = 1, seat3 = 0, seat4 = 1), Now make an if elseif, else statement that checks if a seat is open. if the seat = 1 its closed and print that it's closed. If the seat = 0, it's open and print that it's open. If no seats are open print \"There are no available seats\"\n",
    "'''"
   ]
  },
  {
   "cell_type": "code",
   "execution_count": 17,
   "id": "9a6759fb",
   "metadata": {},
   "outputs": [
    {
     "name": "stdout",
     "output_type": "stream",
     "text": [
      "closed seat1\n",
      "closed seat2\n",
      "open seat3\n",
      "closed seat4\n"
     ]
    }
   ],
   "source": [
    "#6)create a list (seat1 = 1, seat2 = 1, seat3 = 0, seat4 = 1), \n",
    "#Now make an if elseif, else statement that checks if a seat is open. \n",
    "#if the seat = 1 its closed and print that it's closed.\n",
    "#if the seat = 0, it's open and print that it's open.\n",
    "#if no seats are open print \"There are no available seats\"\n",
    "\n",
    "\n",
    "seats = {'seat1':1, 'seat2':1, 'seat3':0, 'seat4':1}\n",
    "a = seats.items()\n",
    "\n",
    "for key,value in a:\n",
    "    if value == 1:\n",
    "        print('closed',key)\n",
    "    elif value==0:\n",
    "        print('open',key)\n",
    "    else:\n",
    "        print('There are no available seats')\n",
    "\n"
   ]
  },
  {
   "cell_type": "code",
   "execution_count": 3,
   "id": "f996d518",
   "metadata": {},
   "outputs": [
    {
     "name": "stdout",
     "output_type": "stream",
     "text": [
      "weight : 58\n",
      "Select:(K) for kg, Select:(L) for lbs : l\n",
      "weight : 58 lbs\n"
     ]
    }
   ],
   "source": [
    "#4)Create a variable called weight. Make an if statement that checks the unit of the weight. If the weight is in kilograms, convert it to pounds \n",
    "\n",
    "weight = int(input('weight : '))\n",
    "unit_of_weight = input('Select:(K) for kg, Select:(L) for lbs : ')\n",
    "\n",
    "\n",
    "if unit_of_weight.lower() == 'l':\n",
    "    print(f'weight : {weight} lbs')\n",
    "else:\n",
    "    w_k_lbs = weight/0.453592\n",
    "    # w_k_lbs --> conversion of weight from kgs to pounds\n",
    "    print(f'weight : {w_k_lbs} lbs')\n"
   ]
  },
  {
   "cell_type": "markdown",
   "id": "a252225e-eb30-4395-a410-8e5392285d85",
   "metadata": {},
   "source": [
    "Take a list, say for example this one:\n",
    "\n",
    "\ta = [1, 1, 2, 3, 5, 8, 13, 21, 34, 55, 89]\n",
    "and write a program that prints out all the elements of the list that are less than 5.\n",
    "\n",
    "Extras:\n",
    "\n",
    " - Instead of printing the elements one by one, make a new list that has all the elements less than 5 from this list in it and print out this new list.\n",
    " - Write this in one line of Python.\n",
    " - Ask the user for a number and return a list that contains only elements from the original list a that are smaller than that number given by the user."
   ]
  },
  {
   "cell_type": "code",
   "execution_count": 23,
   "id": "6f66659d-6212-44a3-a629-bca4ef9b70c4",
   "metadata": {},
   "outputs": [
    {
     "name": "stdout",
     "output_type": "stream",
     "text": [
      "[1, 1, 2, 3]\n"
     ]
    }
   ],
   "source": [
    "a = [1, 1, 2, 3, 5, 8, 13, 21, 34, 55, 89]\n",
    "b = []\n",
    "\n",
    "for i in a:\n",
    "    if i <5 :\n",
    "        b.append(i)\n",
    "    else:\n",
    "        pass\n",
    "print(b)\n",
    "\n",
    "    "
   ]
  },
  {
   "cell_type": "code",
   "execution_count": 24,
   "id": "0a65bc97",
   "metadata": {},
   "outputs": [
    {
     "name": "stdout",
     "output_type": "stream",
     "text": [
      "21\n",
      "[1, 1, 2, 3, 5, 8, 13]\n"
     ]
    }
   ],
   "source": [
    "a = [1, 1, 2, 3, 5, 8, 13, 21, 34, 55, 89]\n",
    "user =int(input())\n",
    "b = []\n",
    "\n",
    "for i in a:\n",
    "    if i < user:\n",
    "        b.append(i)\n",
    "    else:\n",
    "        break\n",
    "print(b)"
   ]
  },
  {
   "cell_type": "markdown",
   "id": "05e20e80-21de-49a0-9983-e11e6c0abd20",
   "metadata": {},
   "source": [
    "Create a program that asks the user for a number and then prints out a list of all the divisors of that number. (If you don’t know what a divisor is, it is a number that divides evenly into another number. For example, 13 is a divisor of 26 because 26 / 13 has no remainder.)"
   ]
  },
  {
   "cell_type": "code",
   "execution_count": 16,
   "id": "d9d405ed-2328-4a46-a568-124fb17bb070",
   "metadata": {},
   "outputs": [
    {
     "name": "stdout",
     "output_type": "stream",
     "text": [
      "Enter an integer:26\n",
      "The divisors of the 26 are :  [1, 2, 13, 26]\n"
     ]
    }
   ],
   "source": [
    "n=int(input(\"Enter an integer:\"))\n",
    "print(f'The divisors of the {n} are : ',b)\n",
    "b=[]\n",
    "for i in range(1,n+1):\n",
    "    if(n%i==0):\n",
    "        b.append(i)"
   ]
  },
  {
   "cell_type": "code",
   "execution_count": null,
   "id": "b5d519f5",
   "metadata": {},
   "outputs": [],
   "source": [
    "a = [1, 1, 2, 3, 5, 8, 13, 21, 34, 55, 89]\n",
    "user =int(input())\n",
    "b = []\n",
    "\n",
    "for i in a:\n",
    "    if i < user:\n",
    "        b.append(i)\n",
    "        \n",
    "    \n",
    "print(b)"
   ]
  },
  {
   "cell_type": "markdown",
   "id": "d658c09c-6802-4bb8-a20e-c86a4c371d0f",
   "metadata": {},
   "source": [
    "### Rock Paper Scissors\n",
    "\n",
    "Make a two-player Rock-Paper-Scissors game. (Hint: Ask for player plays (using input), compare them, print out a message of congratulations to the winner, and ask if the players want to start a new game)\n",
    "\n",
    "Remember the rules:\n",
    "\n",
    " - Rock beats scissors\n",
    " - Scissors beats paper\n",
    " - Paper beats rock"
   ]
  },
  {
   "cell_type": "code",
   "execution_count": null,
   "id": "21d30a7b",
   "metadata": {},
   "outputs": [],
   "source": [
    "rock>scissors  \n",
    "scissors>papper\n",
    "paper>rock"
   ]
  },
  {
   "cell_type": "code",
   "execution_count": null,
   "id": "03f058da",
   "metadata": {},
   "outputs": [],
   "source": []
  },
  {
   "cell_type": "code",
   "execution_count": 23,
   "id": "88fec871-8fd7-40e3-a3df-48ba976ad45d",
   "metadata": {},
   "outputs": [
    {
     "name": "stdout",
     "output_type": "stream",
     "text": [
      "f\n",
      "f\n",
      "invalid input\n",
      "want to start a new game ?\n"
     ]
    }
   ],
   "source": [
    "player_1 = input()\n",
    "player_2 = input()\n",
    "\n",
    "if player_1 == 'Rock' and player_2 == 'Scissors':\n",
    "    print('Congratulations to the player_1')\n",
    "    print('want to start a new game ?')\n",
    "elif player_1 == 'Scissors' and player_2 == 'Rock':\n",
    "    print('Congratulations to the player_2')\n",
    "    print('want to start a new game ?')\n",
    "elif player_1 == 'Scissors' and player_2 == 'Paper':\n",
    "    print('Congratulations to the player_1')\n",
    "    print('want to start a new game ?')\n",
    "elif player_1 == 'Paper' and player_2 == 'Scissors':\n",
    "    print('Congratulations to the player_2')\n",
    "    print('want to start a new game ?')\n",
    "elif player_1 == 'Paper' and player_2 == 'Rock':\n",
    "    print('Congratulations to the player_1')\n",
    "    print('want to start a new game ?')\n",
    "elif player_1 == 'Rock' and player_2 == 'Paper':\n",
    "    print('Congratulations to the player_2')\n",
    "    print('want to start a new game ?')\n",
    "else:\n",
    "    print('invalid input')\n",
    "    print('want to start a new game ?')"
   ]
  },
  {
   "cell_type": "code",
   "execution_count": null,
   "id": "c4e051e6-4c53-48f7-bc7a-2fac835548a9",
   "metadata": {},
   "outputs": [],
   "source": []
  },
  {
   "cell_type": "markdown",
   "id": "9ce94a55-064b-47b5-bb78-4a98d4b633c6",
   "metadata": {},
   "source": [
    "#### Element Search Solutions\n",
    "\n",
    "Write a function that takes an ordered list of numbers (a list where the elements are in order from smallest to largest) and another number. The function decides whether or not the given number is inside the list and returns (then prints) an appropriate boolean.\n",
    "\n",
    "Extras:\n",
    "\n",
    "Use binary search."
   ]
  },
  {
   "cell_type": "code",
   "execution_count": 3,
   "id": "375e63f6-66ce-4995-8037-ff0047f4db9c",
   "metadata": {},
   "outputs": [
    {
     "name": "stdout",
     "output_type": "stream",
     "text": [
      "[1, 4, 6, 8, 12, 25, 55, 66, 68]\n",
      "6\n",
      "False\n",
      "False\n",
      "True\n",
      "False\n",
      "False\n",
      "False\n",
      "False\n",
      "False\n",
      "False\n"
     ]
    }
   ],
   "source": [
    "a = [25,6,8,1,55,68,66,12,4]\n",
    "Sorted_list = sorted(a)\n",
    "print(Sorted_list)\n",
    "number_to_find = int(input())\n",
    "\n",
    "for i,j in enumerate(Sorted_list):\n",
    "    if j == number_to_find:\n",
    "        print(True)\n",
    "    else:\n",
    "        print(False)\n",
    "        \n",
    "\n",
    "\n",
    "        \n",
    "\n",
    "        \n"
   ]
  },
  {
   "cell_type": "code",
   "execution_count": null,
   "id": "73c4e57f",
   "metadata": {},
   "outputs": [],
   "source": [
    "a = [25,6,8,1,55,68,66,12,4]\n",
    "Sorted_list = sorted(a)\n",
    "print(Sorted_list)\n",
    "number_to_find = int(input())\n",
    "\n",
    "if number_to_find in Sorted_list:\n",
    "    print(True)\n",
    "else:\n",
    "    print(False)"
   ]
  },
  {
   "cell_type": "code",
   "execution_count": 4,
   "id": "8d2c9ccb",
   "metadata": {},
   "outputs": [],
   "source": [
    "def ordered_list(*args):\n",
    "    return list({'nums'})\n",
    "\n"
   ]
  },
  {
   "cell_type": "code",
   "execution_count": 10,
   "id": "016ef602",
   "metadata": {},
   "outputs": [
    {
     "ename": "TypeError",
     "evalue": "unhashable type: 'list'",
     "output_type": "error",
     "traceback": [
      "\u001b[1;31m---------------------------------------------------------------------------\u001b[0m",
      "\u001b[1;31mTypeError\u001b[0m                                 Traceback (most recent call last)",
      "\u001b[1;32m<ipython-input-10-888606ecbcb6>\u001b[0m in \u001b[0;36m<module>\u001b[1;34m\u001b[0m\n\u001b[1;32m----> 1\u001b[1;33m \u001b[0mordered_list\u001b[0m\u001b[1;33m(\u001b[0m\u001b[0ma\u001b[0m\u001b[1;33m)\u001b[0m\u001b[1;33m\u001b[0m\u001b[1;33m\u001b[0m\u001b[0m\n\u001b[0m\u001b[0;32m      2\u001b[0m \u001b[0ma\u001b[0m\u001b[1;33m=\u001b[0m\u001b[1;33m[\u001b[0m\u001b[1;36m1\u001b[0m\u001b[1;33m,\u001b[0m\u001b[1;36m56\u001b[0m\u001b[1;33m,\u001b[0m\u001b[1;36m8\u001b[0m\u001b[1;33m,\u001b[0m\u001b[1;36m6\u001b[0m\u001b[1;33m,\u001b[0m\u001b[1;36m3\u001b[0m\u001b[1;33m,\u001b[0m\u001b[1;36m8\u001b[0m\u001b[1;33m,\u001b[0m\u001b[1;36m4\u001b[0m\u001b[1;33m,\u001b[0m\u001b[1;36m2\u001b[0m\u001b[1;33m]\u001b[0m\u001b[1;33m\u001b[0m\u001b[1;33m\u001b[0m\u001b[0m\n",
      "\u001b[1;32m<ipython-input-4-235423921296>\u001b[0m in \u001b[0;36mordered_list\u001b[1;34m(nums)\u001b[0m\n\u001b[0;32m      1\u001b[0m \u001b[1;32mdef\u001b[0m \u001b[0mordered_list\u001b[0m\u001b[1;33m(\u001b[0m\u001b[0mnums\u001b[0m\u001b[1;33m)\u001b[0m\u001b[1;33m:\u001b[0m\u001b[1;33m\u001b[0m\u001b[1;33m\u001b[0m\u001b[0m\n\u001b[1;32m----> 2\u001b[1;33m     \u001b[1;32mreturn\u001b[0m \u001b[0mlist\u001b[0m\u001b[1;33m(\u001b[0m\u001b[1;33m{\u001b[0m\u001b[0mnums\u001b[0m\u001b[1;33m}\u001b[0m\u001b[1;33m)\u001b[0m\u001b[1;33m\u001b[0m\u001b[1;33m\u001b[0m\u001b[0m\n\u001b[0m\u001b[0;32m      3\u001b[0m \u001b[1;33m\u001b[0m\u001b[0m\n",
      "\u001b[1;31mTypeError\u001b[0m: unhashable type: 'list'"
     ]
    }
   ],
   "source": [
    "ordered_list(a)\n",
    "a=[1,56,8,6,3,8,4,2]\n"
   ]
  },
  {
   "cell_type": "code",
   "execution_count": 60,
   "id": "bb5509b4-8085-4923-82c5-b1930710e436",
   "metadata": {},
   "outputs": [],
   "source": [
    "def binary_search(Sorted_list,number_to_find):\n",
    "    left_index = 0\n",
    "    right_index = len(b)-1\n",
    "    mid_index = 0\n",
    "    \n",
    "    while left_index <= right_index:\n",
    "        mid_index = (left_index+right_index)//2\n",
    "        mid_number = Sorted_list[mid_index]\n",
    "        \n",
    "        if mid_number == number_to_find:\n",
    "            return mid_index\n",
    "        \n",
    "        if mid_number < number_to_find:\n",
    "            left_index = mid_index+1\n",
    "        \n",
    "        else:\n",
    "            right_index=mid_index-1\n",
    "    return False\n",
    "    "
   ]
  },
  {
   "cell_type": "code",
   "execution_count": 64,
   "id": "28122629",
   "metadata": {},
   "outputs": [
    {
     "name": "stdout",
     "output_type": "stream",
     "text": [
      "[1, 4, 6, 8, 12, 25, 55, 66, 68]\n",
      "22\n",
      "False\n"
     ]
    }
   ],
   "source": [
    "a = [25,6,8,1,55,68,66,12,4]\n",
    "Sorted_list = sorted(a)\n",
    "print(Sorted_list)\n",
    "number_to_find = int(input())\n",
    "\n",
    "\n",
    "print(binary_search(Sorted_list,number_to_find))"
   ]
  },
  {
   "cell_type": "markdown",
   "id": "1db8e9cc-9ecf-4827-8fc6-b191c01af8f5",
   "metadata": {},
   "source": [
    "#### Cows And Bulls Solutions\n",
    "\n",
    "Create a program that will play the “cows and bulls” game with the user. The game works like this:\n",
    "\n",
    "Randomly generate a 4-digit number. Ask the user to guess a 4-digit number. For every digit that the user guessed correctly in the correct place, they have a “cow”. For every digit the user guessed correctly in the wrong place is a “bull.” Every time the user makes a guess, tell them how many “cows” and “bulls” they have. Once the user guesses the correct number, the game is over. Keep track of the number of guesses the user makes throughout teh game and tell the user at the end.\n",
    "\n",
    "Say the number generated by the computer is 1038. An example interaction could look like this:\n",
    "\n",
    "  Welcome to the Cows and Bulls Game! \n",
    "  \n",
    "  Enter a number: \n",
    "  \n",
    "  '>>>' 1234\n",
    "  \n",
    "  2 cows, 0 bulls\n",
    "  \n",
    "  '>>>' 1256\n",
    "  \n",
    "  1 cow, 1 bull\n",
    "  ...`\n",
    "  \n",
    "Until the user guesses the number."
   ]
  },
  {
   "cell_type": "code",
   "execution_count": 3,
   "id": "b4e4b22b-a26d-4b70-9f30-42303f6dee8a",
   "metadata": {},
   "outputs": [],
   "source": [
    "# 1234\n",
    "# 1234 bulls =4 cows =0\n",
    "# 1243 bulls =2 cows =2"
   ]
  },
  {
   "cell_type": "code",
   "execution_count": 3,
   "id": "a4aa8b19-8895-4f59-bca8-28b2ceea45c3",
   "metadata": {},
   "outputs": [
    {
     "name": "stdout",
     "output_type": "stream",
     "text": [
      "[4, 8, 3, 2]\n",
      "Please input a 4 digit number : 4823\n"
     ]
    },
    {
     "ename": "TypeError",
     "evalue": "argument of type 'int' is not iterable",
     "output_type": "error",
     "traceback": [
      "\u001b[1;31m---------------------------------------------------------------------------\u001b[0m",
      "\u001b[1;31mTypeError\u001b[0m                                 Traceback (most recent call last)",
      "\u001b[1;32m<ipython-input-3-c422bbff13df>\u001b[0m in \u001b[0;36m<module>\u001b[1;34m\u001b[0m\n\u001b[0;32m     41\u001b[0m \u001b[1;33m\u001b[0m\u001b[0m\n\u001b[0;32m     42\u001b[0m \u001b[0mmakenumber\u001b[0m\u001b[1;33m(\u001b[0m\u001b[1;33m)\u001b[0m\u001b[1;33m\u001b[0m\u001b[1;33m\u001b[0m\u001b[0m\n\u001b[1;32m---> 43\u001b[1;33m \u001b[0mplaygame\u001b[0m\u001b[1;33m(\u001b[0m\u001b[1;33m)\u001b[0m\u001b[1;33m\u001b[0m\u001b[1;33m\u001b[0m\u001b[0m\n\u001b[0m",
      "\u001b[1;32m<ipython-input-3-c422bbff13df>\u001b[0m in \u001b[0;36mplaygame\u001b[1;34m()\u001b[0m\n\u001b[0;32m     24\u001b[0m \u001b[1;33m\u001b[0m\u001b[0m\n\u001b[0;32m     25\u001b[0m     \u001b[1;32mfor\u001b[0m \u001b[0mi\u001b[0m \u001b[1;32min\u001b[0m \u001b[0mrange\u001b[0m\u001b[1;33m(\u001b[0m\u001b[1;36m4\u001b[0m\u001b[1;33m)\u001b[0m\u001b[1;33m:\u001b[0m\u001b[1;33m\u001b[0m\u001b[1;33m\u001b[0m\u001b[0m\n\u001b[1;32m---> 26\u001b[1;33m         \u001b[1;32mif\u001b[0m \u001b[0mguess\u001b[0m\u001b[1;33m[\u001b[0m\u001b[0mi\u001b[0m\u001b[1;33m]\u001b[0m \u001b[1;32min\u001b[0m \u001b[0mnumber\u001b[0m\u001b[1;33m[\u001b[0m\u001b[0mi\u001b[0m\u001b[1;33m]\u001b[0m\u001b[1;33m:\u001b[0m\u001b[1;33m\u001b[0m\u001b[1;33m\u001b[0m\u001b[0m\n\u001b[0m\u001b[0;32m     27\u001b[0m             \u001b[1;32mif\u001b[0m \u001b[0mguess\u001b[0m\u001b[1;33m[\u001b[0m\u001b[0mi\u001b[0m\u001b[1;33m]\u001b[0m \u001b[1;33m==\u001b[0m \u001b[0mnumber\u001b[0m\u001b[1;33m[\u001b[0m\u001b[0mi\u001b[0m\u001b[1;33m]\u001b[0m\u001b[1;33m:\u001b[0m\u001b[1;33m\u001b[0m\u001b[1;33m\u001b[0m\u001b[0m\n\u001b[0;32m     28\u001b[0m                 \u001b[0mcows\u001b[0m \u001b[1;33m+=\u001b[0m \u001b[1;36m1\u001b[0m\u001b[1;33m\u001b[0m\u001b[1;33m\u001b[0m\u001b[0m\n",
      "\u001b[1;31mTypeError\u001b[0m: argument of type 'int' is not iterable"
     ]
    }
   ],
   "source": [
    "import random\n",
    "number = []\n",
    "attempts = 0\n",
    "\n",
    "def makenumber():\n",
    "    for i in range(4):\n",
    "        x = random.randrange(0,9)\n",
    "        number.append(x)\n",
    "    if len(number)>len(set(number)):\n",
    "        number.clear()\n",
    "        makenumber()\n",
    "        \n",
    "def playgame():\n",
    "    global attempts\n",
    "    attempts +=1\n",
    "    cows = 0\n",
    "    bulls = 0\n",
    "    print(number)\n",
    "    choice = input('Please input a 4 digit number : ')\n",
    "    guess = []\n",
    "    for i in range(4):\n",
    "        guess.append(int(choice[i]))\n",
    "        \n",
    "        \n",
    "#     for i in range(4):\n",
    "#         if guess[i] in number[i]:\n",
    "#             if guess[i] == number[i]:\n",
    "#                 cows += 1\n",
    "\n",
    "    for x in range(4):\n",
    "        if guess[x]==number[x]:\n",
    "            bulls += 1\n",
    "            \n",
    "    print('Bulls : ',bulls)\n",
    "    print('Cows : ',cows)\n",
    "    \n",
    "    if (bulls==4):\n",
    "        print('You won after',attempts,'attempts!')\n",
    "    if(bulls!=4):\n",
    "        playgame()\n",
    "\n",
    "makenumber()\n",
    "playgame()"
   ]
  }
 ],
 "metadata": {
  "kernelspec": {
   "display_name": "Python 3",
   "language": "python",
   "name": "python3"
  },
  "language_info": {
   "codemirror_mode": {
    "name": "ipython",
    "version": 3
   },
   "file_extension": ".py",
   "mimetype": "text/x-python",
   "name": "python",
   "nbconvert_exporter": "python",
   "pygments_lexer": "ipython3",
   "version": "3.8.8"
  }
 },
 "nbformat": 4,
 "nbformat_minor": 5
}
