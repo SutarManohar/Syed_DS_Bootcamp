{
 "cells": [
  {
   "cell_type": "markdown",
   "id": "c1fe0d1c-1a58-44e6-b238-53bc6e106807",
   "metadata": {},
   "source": [
    "### Find the below type "
   ]
  },
  {
   "cell_type": "markdown",
   "id": "0b7090c9-8acc-43a9-b3ef-1fb7d42cb4b9",
   "metadata": {},
   "source": [
    "**Python Built-in Datatypes:**\n",
    "\n",
    "- Text Type:\t**str**\n",
    "- Numeric Types:\t**int**, **float**, **complex**\n",
    "- Boolean Type:\t**bool**\n",
    "- None: **NoneType**"
   ]
  },
  {
   "cell_type": "code",
   "execution_count": 5,
   "id": "b389b266-78fb-4720-a0e0-f1aee024e980",
   "metadata": {},
   "outputs": [
    {
     "data": {
      "text/plain": [
       "int"
      ]
     },
     "execution_count": 5,
     "metadata": {},
     "output_type": "execute_result"
    }
   ],
   "source": [
    "type(2) # int"
   ]
  },
  {
   "cell_type": "code",
   "execution_count": 2,
   "id": "6cd8def1-8a65-4ca5-833c-68fc679282ab",
   "metadata": {},
   "outputs": [
    {
     "data": {
      "text/plain": [
       "2.12"
      ]
     },
     "execution_count": 2,
     "metadata": {},
     "output_type": "execute_result"
    }
   ],
   "source": [
    "2.12 # float"
   ]
  },
  {
   "cell_type": "code",
   "execution_count": 3,
   "id": "6d694f45-6fc4-44d5-a0f6-dc68ed7509d0",
   "metadata": {},
   "outputs": [
    {
     "data": {
      "text/plain": [
       "22"
      ]
     },
     "execution_count": 3,
     "metadata": {},
     "output_type": "execute_result"
    }
   ],
   "source": [
    "22 # int"
   ]
  },
  {
   "cell_type": "code",
   "execution_count": 4,
   "id": "58b34d06-681f-4bbd-bd35-1cc1ffd12db5",
   "metadata": {},
   "outputs": [
    {
     "data": {
      "text/plain": [
       "int"
      ]
     },
     "execution_count": 4,
     "metadata": {},
     "output_type": "execute_result"
    }
   ],
   "source": [
    "type(232432532454325435435435) #int"
   ]
  },
  {
   "cell_type": "code",
   "execution_count": 5,
   "id": "a9abb296-a329-4470-bfe7-57e64bee2353",
   "metadata": {},
   "outputs": [
    {
     "data": {
      "text/plain": [
       "float"
      ]
     },
     "execution_count": 5,
     "metadata": {},
     "output_type": "execute_result"
    }
   ],
   "source": [
    "type(32432434.43243243243) #float"
   ]
  },
  {
   "cell_type": "code",
   "execution_count": 6,
   "id": "a4d682cc-b60b-4fb2-82b9-3486438bd56d",
   "metadata": {},
   "outputs": [
    {
     "data": {
      "text/plain": [
       "complex"
      ]
     },
     "execution_count": 6,
     "metadata": {},
     "output_type": "execute_result"
    }
   ],
   "source": [
    "type(2.5j) # complex"
   ]
  },
  {
   "cell_type": "code",
   "execution_count": 1,
   "id": "1ae4eca7-8035-4681-a9bd-ae9cc33e7c88",
   "metadata": {},
   "outputs": [
    {
     "data": {
      "text/plain": [
       "(float, 2e-09)"
      ]
     },
     "execution_count": 1,
     "metadata": {},
     "output_type": "execute_result"
    }
   ],
   "source": [
    "type(2.e-9), 2.e-9 # float"
   ]
  },
  {
   "cell_type": "code",
   "execution_count": 9,
   "id": "7accaf9a-a065-4e88-9986-b9e3d66b0361",
   "metadata": {
    "scrolled": true
   },
   "outputs": [
    {
     "data": {
      "text/plain": [
       "0"
      ]
     },
     "execution_count": 9,
     "metadata": {},
     "output_type": "execute_result"
    }
   ],
   "source": [
    "0  # int"
   ]
  },
  {
   "cell_type": "code",
   "execution_count": 10,
   "id": "6815c2d0-0cbc-4d53-83bd-5f5d823626e1",
   "metadata": {},
   "outputs": [
    {
     "data": {
      "text/plain": [
       "1"
      ]
     },
     "execution_count": 10,
     "metadata": {},
     "output_type": "execute_result"
    }
   ],
   "source": [
    "1 # int"
   ]
  },
  {
   "cell_type": "code",
   "execution_count": 11,
   "id": "0c47c6cc-7984-42de-a75c-1016434c6e2a",
   "metadata": {},
   "outputs": [
    {
     "data": {
      "text/plain": [
       "True"
      ]
     },
     "execution_count": 11,
     "metadata": {},
     "output_type": "execute_result"
    }
   ],
   "source": [
    "True # Bool"
   ]
  },
  {
   "cell_type": "code",
   "execution_count": 12,
   "id": "4e67ffa9-9bf5-4272-98bb-92b8ca571adb",
   "metadata": {},
   "outputs": [
    {
     "data": {
      "text/plain": [
       "False"
      ]
     },
     "execution_count": 12,
     "metadata": {},
     "output_type": "execute_result"
    }
   ],
   "source": [
    "False # Bool"
   ]
  },
  {
   "cell_type": "code",
   "execution_count": 15,
   "id": "f6f03ea1-31b9-4062-80d9-77d67c64b5f0",
   "metadata": {},
   "outputs": [
    {
     "data": {
      "text/plain": [
       "(int, 1)"
      ]
     },
     "execution_count": 15,
     "metadata": {},
     "output_type": "execute_result"
    }
   ],
   "source": [
    "type(True and 1), True and 1 # int"
   ]
  },
  {
   "cell_type": "code",
   "execution_count": 16,
   "id": "80763f77-0d4e-4c7a-bbee-b919863b2bd8",
   "metadata": {},
   "outputs": [
    {
     "data": {
      "text/plain": [
       "(1, 0)"
      ]
     },
     "execution_count": 16,
     "metadata": {},
     "output_type": "execute_result"
    }
   ],
   "source": [
    "int(True), int(False) #1 #0  #int #int"
   ]
  },
  {
   "cell_type": "code",
   "execution_count": 17,
   "id": "ca0abea1-ddea-4ba0-b9fd-18dedb2ae606",
   "metadata": {},
   "outputs": [
    {
     "data": {
      "text/plain": [
       "0"
      ]
     },
     "execution_count": 17,
     "metadata": {},
     "output_type": "execute_result"
    }
   ],
   "source": [
    "True and 0 #  int"
   ]
  },
  {
   "cell_type": "code",
   "execution_count": 18,
   "id": "c0a61cf0-3f1d-4039-8647-7d6b236939cb",
   "metadata": {},
   "outputs": [
    {
     "data": {
      "text/plain": [
       "-1"
      ]
     },
     "execution_count": 18,
     "metadata": {},
     "output_type": "execute_result"
    }
   ],
   "source": [
    "True and -1 # Int"
   ]
  },
  {
   "cell_type": "code",
   "execution_count": 19,
   "id": "98880b51-0f8e-4665-b965-72725507c06b",
   "metadata": {},
   "outputs": [
    {
     "data": {
      "text/plain": [
       "False"
      ]
     },
     "execution_count": 19,
     "metadata": {},
     "output_type": "execute_result"
    }
   ],
   "source": [
    "not True and 1 # bool"
   ]
  },
  {
   "cell_type": "code",
   "execution_count": 20,
   "id": "f1f074e7-ac2c-4fab-942d-f761692fa9f7",
   "metadata": {},
   "outputs": [
    {
     "data": {
      "text/plain": [
       "0"
      ]
     },
     "execution_count": 20,
     "metadata": {},
     "output_type": "execute_result"
    }
   ],
   "source": [
    "True and -0 # int"
   ]
  },
  {
   "cell_type": "code",
   "execution_count": 21,
   "id": "56fc2407-d4ba-4f55-a255-8eaf21ed5cb1",
   "metadata": {},
   "outputs": [
    {
     "data": {
      "text/plain": [
       "False"
      ]
     },
     "execution_count": 21,
     "metadata": {},
     "output_type": "execute_result"
    }
   ],
   "source": [
    "False and -0 # Bool"
   ]
  },
  {
   "cell_type": "code",
   "execution_count": 22,
   "id": "69243887-f243-4573-be28-4bb53a9b7bf8",
   "metadata": {},
   "outputs": [
    {
     "data": {
      "text/plain": [
       "False"
      ]
     },
     "execution_count": 22,
     "metadata": {},
     "output_type": "execute_result"
    }
   ],
   "source": [
    "not True and not 0 # Bool"
   ]
  },
  {
   "cell_type": "code",
   "execution_count": 23,
   "id": "23b68ad3-7b44-46ac-8dce-6825f3fdc681",
   "metadata": {},
   "outputs": [
    {
     "data": {
      "text/plain": [
       "12134"
      ]
     },
     "execution_count": 23,
     "metadata": {},
     "output_type": "execute_result"
    }
   ],
   "source": [
    "True and 12134 #int"
   ]
  },
  {
   "cell_type": "code",
   "execution_count": 24,
   "id": "c7b7833d-1fe9-4966-96c7-66c260d9c384",
   "metadata": {},
   "outputs": [
    {
     "data": {
      "text/plain": [
       "False"
      ]
     },
     "execution_count": 24,
     "metadata": {},
     "output_type": "execute_result"
    }
   ],
   "source": [
    "False and 23 # bool"
   ]
  },
  {
   "cell_type": "code",
   "execution_count": null,
   "id": "88daeb73-8570-414f-801e-390e162beeec",
   "metadata": {},
   "outputs": [],
   "source": [
    "False and False # False Bool"
   ]
  },
  {
   "cell_type": "code",
   "execution_count": null,
   "id": "396a35bc-25be-47da-811e-e74a73615920",
   "metadata": {},
   "outputs": [],
   "source": [
    "False and 1 # False bool"
   ]
  },
  {
   "cell_type": "code",
   "execution_count": null,
   "id": "4c91b7a9-9284-4382-9542-034ffc1a0057",
   "metadata": {},
   "outputs": [],
   "source": [
    "False and 0 # False bool"
   ]
  },
  {
   "cell_type": "code",
   "execution_count": null,
   "id": "266f9d14-4190-42ce-a3ee-b645ae192bd3",
   "metadata": {},
   "outputs": [],
   "source": [
    "True and -1 # -1 int"
   ]
  },
  {
   "cell_type": "code",
   "execution_count": null,
   "id": "03b0686a-319a-42d7-8a46-c3fd425ef304",
   "metadata": {},
   "outputs": [],
   "source": [
    "not True and  False # False bool"
   ]
  },
  {
   "cell_type": "code",
   "execution_count": null,
   "id": "7b089ee8-384d-468a-af75-041ab2bec595",
   "metadata": {},
   "outputs": [],
   "source": [
    "False and 11 or True # True bool"
   ]
  },
  {
   "cell_type": "code",
   "execution_count": null,
   "id": "9fc632fb-7a50-43c7-84cc-e0c0b34659af",
   "metadata": {},
   "outputs": [],
   "source": [
    "False or -0 # -0 int"
   ]
  },
  {
   "cell_type": "code",
   "execution_count": 2,
   "id": "246c0609-ce92-4bfd-a8d1-493c13a0331a",
   "metadata": {},
   "outputs": [
    {
     "data": {
      "text/plain": [
       "True"
      ]
     },
     "execution_count": 2,
     "metadata": {},
     "output_type": "execute_result"
    }
   ],
   "source": [
    "not True or not 0 # True Bool"
   ]
  },
  {
   "cell_type": "code",
   "execution_count": null,
   "id": "847bed9b-1283-46f4-bb4c-c32e035a1880",
   "metadata": {},
   "outputs": [],
   "source": [
    "True or 12134 # True bool"
   ]
  },
  {
   "cell_type": "code",
   "execution_count": 3,
   "id": "79717dae-c191-4291-854b-5c85d3bae02b",
   "metadata": {},
   "outputs": [
    {
     "data": {
      "text/plain": [
       "23"
      ]
     },
     "execution_count": 3,
     "metadata": {},
     "output_type": "execute_result"
    }
   ],
   "source": [
    "False or 23 # 23 int"
   ]
  },
  {
   "cell_type": "code",
   "execution_count": null,
   "id": "27ed51d7-c04d-4b6d-8fc6-86fb7336c3e3",
   "metadata": {},
   "outputs": [],
   "source": [
    "False or False # False bool"
   ]
  },
  {
   "cell_type": "code",
   "execution_count": null,
   "id": "c69dc6d7-bc01-4fb9-8ded-ab0d24c31aa0",
   "metadata": {},
   "outputs": [],
   "source": [
    "False or 1 # 1 int"
   ]
  },
  {
   "cell_type": "code",
   "execution_count": null,
   "id": "fdca9004-f855-4999-ad8c-c34fcab90cb5",
   "metadata": {},
   "outputs": [],
   "source": [
    "False or 0 # 0 int"
   ]
  },
  {
   "cell_type": "code",
   "execution_count": null,
   "id": "dbfbf9bb-65b2-419b-9095-0b4a7e2a3c2b",
   "metadata": {},
   "outputs": [],
   "source": [
    "True or -1 # True bool"
   ]
  },
  {
   "cell_type": "code",
   "execution_count": null,
   "id": "a6b9cdf5-7237-4d6b-b727-1cde9df7ca67",
   "metadata": {},
   "outputs": [],
   "source": [
    "not True or  False # False bool"
   ]
  },
  {
   "cell_type": "code",
   "execution_count": null,
   "id": "3cbcf8f6-b6f4-4b62-932e-251343b47362",
   "metadata": {},
   "outputs": [],
   "source": [
    "False or -0 #-0 int"
   ]
  },
  {
   "cell_type": "code",
   "execution_count": 25,
   "id": "54a2933b-9cf7-416e-86b6-94429dbb420c",
   "metadata": {},
   "outputs": [
    {
     "data": {
      "text/plain": [
       "3"
      ]
     },
     "execution_count": 25,
     "metadata": {},
     "output_type": "execute_result"
    }
   ],
   "source": [
    "1+2 # int"
   ]
  },
  {
   "cell_type": "code",
   "execution_count": 26,
   "id": "19868cf5-26a7-441e-a935-a25e41119438",
   "metadata": {},
   "outputs": [
    {
     "ename": "TypeError",
     "evalue": "unsupported operand type(s) for +: 'int' and 'str'",
     "output_type": "error",
     "traceback": [
      "\u001b[1;31m---------------------------------------------------------------------------\u001b[0m",
      "\u001b[1;31mTypeError\u001b[0m                                 Traceback (most recent call last)",
      "\u001b[1;32m<ipython-input-26-eb3254b4405f>\u001b[0m in \u001b[0;36m<module>\u001b[1;34m\u001b[0m\n\u001b[1;32m----> 1\u001b[1;33m \u001b[1;36m1\u001b[0m\u001b[1;33m+\u001b[0m\u001b[1;34m\"2\"\u001b[0m\u001b[1;33m\u001b[0m\u001b[1;33m\u001b[0m\u001b[0m\n\u001b[0m",
      "\u001b[1;31mTypeError\u001b[0m: unsupported operand type(s) for +: 'int' and 'str'"
     ]
    }
   ],
   "source": [
    "1+\"2\" # error concatenate only string to string "
   ]
  },
  {
   "cell_type": "code",
   "execution_count": 27,
   "id": "30f909c5-1eed-4e20-bfc9-1d995e2963c2",
   "metadata": {},
   "outputs": [
    {
     "ename": "TypeError",
     "evalue": "can only concatenate str (not \"int\") to str",
     "output_type": "error",
     "traceback": [
      "\u001b[1;31m---------------------------------------------------------------------------\u001b[0m",
      "\u001b[1;31mTypeError\u001b[0m                                 Traceback (most recent call last)",
      "\u001b[1;32m<ipython-input-27-7e1e50100c0b>\u001b[0m in \u001b[0;36m<module>\u001b[1;34m\u001b[0m\n\u001b[1;32m----> 1\u001b[1;33m \u001b[1;34m'2'\u001b[0m\u001b[1;33m+\u001b[0m\u001b[1;36m2\u001b[0m\u001b[1;33m\u001b[0m\u001b[1;33m\u001b[0m\u001b[0m\n\u001b[0m",
      "\u001b[1;31mTypeError\u001b[0m: can only concatenate str (not \"int\") to str"
     ]
    }
   ],
   "source": [
    "'2'+2 # error concatenate only string to string "
   ]
  },
  {
   "cell_type": "code",
   "execution_count": 29,
   "id": "35a914dd-6c82-45f5-8021-3679956e974f",
   "metadata": {},
   "outputs": [
    {
     "data": {
      "text/plain": [
       "'2-2-'"
      ]
     },
     "execution_count": 29,
     "metadata": {},
     "output_type": "execute_result"
    }
   ],
   "source": [
    "'2-'*2 # '2-2-'"
   ]
  },
  {
   "cell_type": "code",
   "execution_count": 30,
   "id": "a6cdb98d-ed98-4360-9af5-c51b478b2b29",
   "metadata": {},
   "outputs": [
    {
     "data": {
      "text/plain": [
       "'22222'"
      ]
     },
     "execution_count": 30,
     "metadata": {},
     "output_type": "execute_result"
    }
   ],
   "source": [
    "'2'+'2'*4 BEDMAS\n",
    "# first multiplication will be applied after that addition : BEDMAS rule\n",
    "#'2'*4 = '2222'\n",
    "#'2'+'2222' = '22222'"
   ]
  },
  {
   "cell_type": "code",
   "execution_count": 31,
   "id": "c2e16bf3-2d6c-45b7-898b-43bb8c5bc917",
   "metadata": {},
   "outputs": [
    {
     "data": {
      "text/plain": [
       "True"
      ]
     },
     "execution_count": 31,
     "metadata": {},
     "output_type": "execute_result"
    }
   ],
   "source": [
    "'2' == \"2\" # True"
   ]
  },
  {
   "cell_type": "code",
   "execution_count": 32,
   "id": "f678be5e-1042-41d5-b6fd-5038deec7ef4",
   "metadata": {},
   "outputs": [
    {
     "data": {
      "text/plain": [
       "False"
      ]
     },
     "execution_count": 32,
     "metadata": {},
     "output_type": "execute_result"
    }
   ],
   "source": [
    "'2' != '2' # False"
   ]
  },
  {
   "cell_type": "code",
   "execution_count": 33,
   "id": "97d3aa71-012c-4f39-b171-a6b22beba1f8",
   "metadata": {},
   "outputs": [
    {
     "data": {
      "text/plain": [
       "True"
      ]
     },
     "execution_count": 33,
     "metadata": {},
     "output_type": "execute_result"
    }
   ],
   "source": [
    "'2' >= '2' # True , According to ASCII "
   ]
  },
  {
   "cell_type": "code",
   "execution_count": 34,
   "id": "47072b0c-10ab-4dd7-a331-93d7e8573bff",
   "metadata": {},
   "outputs": [
    {
     "data": {
      "text/plain": [
       "'22'"
      ]
     },
     "execution_count": 34,
     "metadata": {},
     "output_type": "execute_result"
    }
   ],
   "source": [
    "'2' + '2' #'22' , concatenating strings"
   ]
  },
  {
   "cell_type": "code",
   "execution_count": 35,
   "id": "ebd33c4f-1594-4cfa-a100-4ce5da9a204a",
   "metadata": {},
   "outputs": [
    {
     "data": {
      "text/plain": [
       "'22'"
      ]
     },
     "execution_count": 35,
     "metadata": {},
     "output_type": "execute_result"
    }
   ],
   "source": [
    "'2'+'2' #'22' , concatenating strings"
   ]
  },
  {
   "cell_type": "code",
   "execution_count": 36,
   "id": "f83dcd71-9cf8-4e69-a110-470bf846c49d",
   "metadata": {},
   "outputs": [
    {
     "ename": "SyntaxError",
     "evalue": "cannot assign to literal (<ipython-input-36-c1efe9b2851d>, line 1)",
     "output_type": "error",
     "traceback": [
      "\u001b[1;36m  File \u001b[1;32m\"<ipython-input-36-c1efe9b2851d>\"\u001b[1;36m, line \u001b[1;32m1\u001b[0m\n\u001b[1;33m    '2' = '2'\u001b[0m\n\u001b[1;37m    ^\u001b[0m\n\u001b[1;31mSyntaxError\u001b[0m\u001b[1;31m:\u001b[0m cannot assign to literal\n"
     ]
    }
   ],
   "source": [
    "'2' = '2' # Variable cannot be assigned to literal\n",
    "#We mainly have five types of literals which includes string literals, numeric literals, \n",
    "#boolean literals, literal collections and a special literal None"
   ]
  },
  {
   "cell_type": "code",
   "execution_count": 4,
   "id": "fb536fe1",
   "metadata": {},
   "outputs": [
    {
     "ename": "NameError",
     "evalue": "name 'a' is not defined",
     "output_type": "error",
     "traceback": [
      "\u001b[1;31m---------------------------------------------------------------------------\u001b[0m",
      "\u001b[1;31mNameError\u001b[0m                                 Traceback (most recent call last)",
      "\u001b[1;32m<ipython-input-4-a36e83da2f0f>\u001b[0m in \u001b[0;36m<module>\u001b[1;34m\u001b[0m\n\u001b[1;32m----> 1\u001b[1;33m \u001b[0ma\u001b[0m\u001b[1;33m=\u001b[0m\u001b[0ma\u001b[0m \u001b[1;31m# error object is string without cotes , which should be defined as 'a'\u001b[0m\u001b[1;33m\u001b[0m\u001b[1;33m\u001b[0m\u001b[0m\n\u001b[0m",
      "\u001b[1;31mNameError\u001b[0m: name 'a' is not defined"
     ]
    }
   ],
   "source": [
    "a=a # error object is string without cotes , which should be defined as 'a'\n",
    "# Named error"
   ]
  },
  {
   "cell_type": "code",
   "execution_count": 37,
   "id": "f1e758c6-7de2-4c55-acb3-ae2f9fcbe6c6",
   "metadata": {},
   "outputs": [
    {
     "data": {
      "text/plain": [
       "'23'"
      ]
     },
     "execution_count": 37,
     "metadata": {},
     "output_type": "execute_result"
    }
   ],
   "source": [
    "'2'+'3' # '23'"
   ]
  },
  {
   "cell_type": "code",
   "execution_count": 38,
   "id": "510659b1-8899-482c-8eb6-195b78dd73f7",
   "metadata": {},
   "outputs": [
    {
     "data": {
      "text/plain": [
       "('2', '2')"
      ]
     },
     "execution_count": 38,
     "metadata": {},
     "output_type": "execute_result"
    }
   ],
   "source": [
    "'2','2' #('2','2') strings seperated will be stored as tuple"
   ]
  },
  {
   "cell_type": "code",
   "execution_count": 39,
   "id": "2d4913ba-9ffb-4401-a460-1700d39633a7",
   "metadata": {},
   "outputs": [
    {
     "data": {
      "text/plain": [
       "'2 2'"
      ]
     },
     "execution_count": 39,
     "metadata": {},
     "output_type": "execute_result"
    }
   ],
   "source": [
    "'2'+' '+'2' #'2 2' space will also get concatenate"
   ]
  },
  {
   "cell_type": "code",
   "execution_count": null,
   "id": "93ae0603-7859-43fd-ac61-8b941dfddeb3",
   "metadata": {},
   "outputs": [],
   "source": []
  }
 ],
 "metadata": {
  "kernelspec": {
   "display_name": "Python 3",
   "language": "python",
   "name": "python3"
  },
  "language_info": {
   "codemirror_mode": {
    "name": "ipython",
    "version": 3
   },
   "file_extension": ".py",
   "mimetype": "text/x-python",
   "name": "python",
   "nbconvert_exporter": "python",
   "pygments_lexer": "ipython3",
   "version": "3.8.8"
  }
 },
 "nbformat": 4,
 "nbformat_minor": 5
}
