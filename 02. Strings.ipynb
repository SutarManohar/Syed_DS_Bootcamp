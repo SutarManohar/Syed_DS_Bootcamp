{
 "cells": [
  {
   "cell_type": "markdown",
   "id": "93837c73-30d0-4a3c-b33f-9f67fc9a9720",
   "metadata": {},
   "source": [
    "<div class=\"alert alert-success\">\n",
    "    <h1>Assignment 1</h1>\n",
    "    <h3>Five interesting Python String function</h3>\n",
    "</div>\n",
    "\n",
    "- str.upper()\n",
    "- str.isalpha()\n",
    "- str.lstrip()\n",
    "- str.rpartition\n",
    "- str.zfill()\n"
   ]
  },
  {
   "cell_type": "code",
   "execution_count": 32,
   "id": "f230d7c5",
   "metadata": {},
   "outputs": [
    {
     "name": "stdout",
     "output_type": "stream",
     "text": [
      " PYTHON@GMAILCOM\n",
      "False\n",
      "Python@gmailcom\n",
      "(' Python', '@', 'gmailcom')\n",
      "False\n"
     ]
    }
   ],
   "source": [
    "a = ' Python@gmailcom'\n",
    "print(a.upper()) # converts entire string in to uppercase\n",
    "#Break\n",
    "print(a.isalpha()) # Checks the string contains with completely alphabets\n",
    "print(a.lstrip()) # removes the white space from left side of the string \n",
    "print(a.rpartition('@')) # create a partiaion between the sentence and create different objects along with partition\n",
    "print(a.endswith('n'))\n"
   ]
  },
  {
   "cell_type": "markdown",
   "id": "54bcc2c0-614a-451d-8ee7-b86e1c12ccc6",
   "metadata": {},
   "source": [
    "<div class=\"alert alert-success\">\n",
    "    <h1>Assignment 2</h1>\n",
    "    <h3>Five interesting Python String class methods</h3>\n",
    "</div>\n",
    "\n",
    "- 'a'.______lt_______('A')\n",
    "- 'abc'.______contains_____('a')\n",
    "- 'a'._________eq______('a')\n",
    "- 'a'.________hash_____()\n",
    "- 'a'.________sizeof______()\n"
   ]
  },
  {
   "cell_type": "code",
   "execution_count": 20,
   "id": "94c0a776",
   "metadata": {},
   "outputs": [
    {
     "name": "stdout",
     "output_type": "stream",
     "text": [
      "False\n",
      "True\n",
      "False\n",
      "6195200958704494442\n",
      "50\n"
     ]
    }
   ],
   "source": [
    "print('a'.__lt__('A')) # works like < operator\n",
    "print('abc'.__contains__('a')) # will the check given value present in string\n",
    "print('a'.__eq__('A')) # works like == operator\n",
    "print('a'.__hash__()) # every object in python has a hash value which is in integer, but when we pass integer type it returns the same int value as hash value\n",
    "print('a'.__sizeof__()) # it shows the byte size of object stored in memory "
   ]
  },
  {
   "cell_type": "markdown",
   "id": "260b6a6d",
   "metadata": {},
   "source": [
    "# -------------------------------String Function-------------------------------"
   ]
  },
  {
   "cell_type": "markdown",
   "id": "659b6947-06c4-4887-9dc0-773510fae1e0",
   "metadata": {},
   "source": [
    "# Function 1 \"test_string\".upper()\n",
    "\n",
    "Return a copy of the string converted to uppercase"
   ]
  },
  {
   "cell_type": "code",
   "execution_count": 1,
   "id": "72302e84-5f1c-45ce-ae09-f17aa0a4b2e3",
   "metadata": {},
   "outputs": [
    {
     "data": {
      "text/plain": [
       "'TEST_STRING'"
      ]
     },
     "execution_count": 1,
     "metadata": {},
     "output_type": "execute_result"
    }
   ],
   "source": [
    "#Example 1 - working\n",
    "\"test_string\".upper() # \"test_string\".upper() convert it into upper cases and returns a copy of it"
   ]
  },
  {
   "cell_type": "code",
   "execution_count": 2,
   "id": "70fb3c63-c8ed-4bc4-808a-511d49ce4ae4",
   "metadata": {},
   "outputs": [
    {
     "data": {
      "text/plain": [
       "'TEST_STRING1111'"
      ]
     },
     "execution_count": 2,
     "metadata": {},
     "output_type": "execute_result"
    }
   ],
   "source": [
    "#Example 2 - working\n",
    "\"test_string1111\".upper() #\"test_string1111\".upper() convert it into upper cases and returns a copy of it"
   ]
  },
  {
   "cell_type": "code",
   "execution_count": 5,
   "id": "4e9149ba-75c1-4736-a915-cf3067ab5cd4",
   "metadata": {},
   "outputs": [
    {
     "data": {
      "text/plain": [
       "'@@/@54653453'"
      ]
     },
     "execution_count": 5,
     "metadata": {},
     "output_type": "execute_result"
    }
   ],
   "source": [
    "#Example 3 - breaking\n",
    "\"@@/@54653453\".upper() # it will check with alphabets if no alphabets present returs the same object"
   ]
  },
  {
   "cell_type": "markdown",
   "id": "2ddbe7e1-2c04-4d67-8bfd-2760af10a691",
   "metadata": {},
   "source": [
    "Write a comment why above function is breaking"
   ]
  },
  {
   "cell_type": "markdown",
   "id": "4a70f31e",
   "metadata": {},
   "source": [
    "# Function 2  str.isalpha()\n",
    "\n",
    "Return True if the string is an alphabetic string, False otherwise.\n"
   ]
  },
  {
   "cell_type": "code",
   "execution_count": 10,
   "id": "cecffb2e",
   "metadata": {
    "scrolled": false
   },
   "outputs": [
    {
     "name": "stdout",
     "output_type": "stream",
     "text": [
      "True\n"
     ]
    }
   ],
   "source": [
    "#Example 1 - working\n",
    "a = 'Python'\n",
    "print(a.isalpha()) \n",
    "# Working it checks the string contains with all alphabets"
   ]
  },
  {
   "cell_type": "code",
   "execution_count": 16,
   "id": "5a417f8d",
   "metadata": {},
   "outputs": [
    {
     "name": "stdout",
     "output_type": "stream",
     "text": [
      "False\n"
     ]
    }
   ],
   "source": [
    "#Example 2 - working\n",
    "a = 'Python123'\n",
    "print(a.isalpha()) \n",
    "# Working it checks the alphanumeric string returns false due to the numerics present in the string"
   ]
  },
  {
   "cell_type": "code",
   "execution_count": 18,
   "id": "8e3cc57a",
   "metadata": {},
   "outputs": [
    {
     "name": "stdout",
     "output_type": "stream",
     "text": [
      "False\n"
     ]
    }
   ],
   "source": [
    "#Example 3 - working\n",
    "a = 'Python@gmail.com'\n",
    "print(a.isalpha())\n",
    "# Working it checks the string contains with alphabets & special character returns false due to the special character present in the string"
   ]
  },
  {
   "cell_type": "markdown",
   "id": "033e79ef",
   "metadata": {},
   "source": [
    "# Function 3 lstrip()\n",
    "Return a copy of the string with leading whitespace removed from left side of a string."
   ]
  },
  {
   "cell_type": "code",
   "execution_count": 181,
   "id": "32caff4d",
   "metadata": {},
   "outputs": [
    {
     "name": "stdout",
     "output_type": "stream",
     "text": [
      "old_a :  Python@gmailcom\n",
      "new_a : Python@gmailcom\n"
     ]
    }
   ],
   "source": [
    "#Example 1 - working \n",
    "a = ' Python@gmailcom'\n",
    "print('old_a :',a)\n",
    "print('new_a :',a.lstrip()) # removed whitespace using lstrip"
   ]
  },
  {
   "cell_type": "code",
   "execution_count": 182,
   "id": "51bbc131",
   "metadata": {
    "scrolled": true
   },
   "outputs": [
    {
     "data": {
      "text/plain": [
       "'Advance Python'"
      ]
     },
     "execution_count": 182,
     "metadata": {},
     "output_type": "execute_result"
    }
   ],
   "source": [
    "#Example 2 - working \n",
    "\n",
    "a = 'Basic / Advance Python'\n",
    "\n",
    "b='Basic /'\n",
    "a.lstrip(b)\n",
    "# removed unwanted part in string using lstrip from left side \n",
    "# and aswell as the white space betweeen '/ and Advance'"
   ]
  },
  {
   "cell_type": "code",
   "execution_count": 2,
   "id": "0551b76b",
   "metadata": {},
   "outputs": [
    {
     "data": {
      "text/plain": [
       "'8_py_Py/'"
      ]
     },
     "execution_count": 2,
     "metadata": {},
     "output_type": "execute_result"
    }
   ],
   "source": [
    "#Example 3 - breaking\n",
    "name='/Py001_0018_py_Py/'\n",
    "mask='/Py001_'\n",
    "name.lstrip(mask) \n",
    "\n",
    "# '''while using lstrip using mask for alphabets & specl-characters \n",
    "# it will strips the only mask value from leftside\n",
    "# But if the mask value consists of numbers it will completely strips out the numbers\n",
    "# which is matching from entire string\n",
    "# '''"
   ]
  },
  {
   "cell_type": "markdown",
   "id": "6726df43",
   "metadata": {},
   "source": [
    "# ---------------------------String Class methods--------------------------"
   ]
  },
  {
   "cell_type": "markdown",
   "id": "51d955f2",
   "metadata": {},
   "source": [
    "## Class Method 1     ______lt__(self, value, /) Return self<value."
   ]
  },
  {
   "cell_type": "code",
   "execution_count": 209,
   "id": "4a2ade17",
   "metadata": {},
   "outputs": [
    {
     "data": {
      "text/plain": [
       "False"
      ]
     },
     "execution_count": 209,
     "metadata": {},
     "output_type": "execute_result"
    }
   ],
   "source": [
    "#Example 1 - working \n",
    "\n",
    "'apple'.__lt__('Apple') # According to ASCIII a>A #__lt__ works like < operator"
   ]
  },
  {
   "cell_type": "code",
   "execution_count": 225,
   "id": "5055ca75",
   "metadata": {},
   "outputs": [
    {
     "data": {
      "text/plain": [
       "True"
      ]
     },
     "execution_count": 225,
     "metadata": {},
     "output_type": "execute_result"
    }
   ],
   "source": [
    "#Example 2 - working \n",
    "\n",
    "'41'.__lt__('42') # According to ASCIII 41:A ,42:B  (B>A)"
   ]
  },
  {
   "cell_type": "code",
   "execution_count": 234,
   "id": "e5d0c35f",
   "metadata": {},
   "outputs": [
    {
     "name": "stdout",
     "output_type": "stream",
     "text": [
      "True\n",
      "True\n",
      "True\n"
     ]
    },
    {
     "ename": "NameError",
     "evalue": "name 'B' is not defined",
     "output_type": "error",
     "traceback": [
      "\u001b[1;31m---------------------------------------------------------------------------\u001b[0m",
      "\u001b[1;31mNameError\u001b[0m                                 Traceback (most recent call last)",
      "\u001b[1;32m<ipython-input-234-e9127650125e>\u001b[0m in \u001b[0;36m<module>\u001b[1;34m\u001b[0m\n\u001b[0;32m      4\u001b[0m \u001b[0mprint\u001b[0m\u001b[1;33m(\u001b[0m\u001b[1;34m'41'\u001b[0m\u001b[1;33m.\u001b[0m\u001b[0m__lt__\u001b[0m\u001b[1;33m(\u001b[0m\u001b[1;34m'b'\u001b[0m\u001b[1;33m)\u001b[0m\u001b[1;33m)\u001b[0m\u001b[1;33m\u001b[0m\u001b[1;33m\u001b[0m\u001b[0m\n\u001b[0;32m      5\u001b[0m \u001b[0mprint\u001b[0m\u001b[1;33m(\u001b[0m\u001b[1;34m'41'\u001b[0m\u001b[1;33m.\u001b[0m\u001b[0m__lt__\u001b[0m\u001b[1;33m(\u001b[0m\u001b[0mb\u001b[0m\u001b[1;33m)\u001b[0m\u001b[1;33m)\u001b[0m\u001b[1;33m\u001b[0m\u001b[1;33m\u001b[0m\u001b[0m\n\u001b[1;32m----> 6\u001b[1;33m \u001b[0mprint\u001b[0m\u001b[1;33m(\u001b[0m\u001b[1;34m'41'\u001b[0m\u001b[1;33m.\u001b[0m\u001b[0m__lt__\u001b[0m\u001b[1;33m(\u001b[0m\u001b[0mB\u001b[0m\u001b[1;33m)\u001b[0m\u001b[1;33m)\u001b[0m\u001b[1;33m\u001b[0m\u001b[1;33m\u001b[0m\u001b[0m\n\u001b[0m",
      "\u001b[1;31mNameError\u001b[0m: name 'B' is not defined"
     ]
    }
   ],
   "source": [
    "#Example 3 - breaking\n",
    "\n",
    "print('41'.__lt__('B')) #working \n",
    "print('41'.__lt__('b')) #working \n",
    "print('41'.__lt__(b))   #working \n",
    "print('41'.__lt__(B))   #Not working \n",
    "\n",
    "# For lowercase it is working without defining with strings (No named error occurs)\n",
    "# For uppercase it is not working without defining (Named error occurs)"
   ]
  },
  {
   "cell_type": "markdown",
   "id": "1a3682fc",
   "metadata": {},
   "source": [
    "## Class Method 2    str.________eq_____() Return self==value."
   ]
  },
  {
   "cell_type": "code",
   "execution_count": 261,
   "id": "97419757",
   "metadata": {},
   "outputs": [
    {
     "name": "stdout",
     "output_type": "stream",
     "text": [
      "2387446276784\n",
      "2387446276784\n",
      "id's are same  True\n",
      "2387446305600\n",
      "2387446249792\n",
      "id's are not same  True\n",
      "2387443952512\n",
      "2387444754496\n",
      "id's are not same  True\n"
     ]
    }
   ],
   "source": [
    "#Example 1 - working \n",
    "\n",
    "a = 'apple'\n",
    "b = 'apple' \n",
    "\n",
    "print(id(a))\n",
    "print(id(b))\n",
    "print(\"id's are same \", a.__eq__(b))\n",
    "\n",
    "# So it is working as \"== operator\"  checks wether object is same or not"
   ]
  },
  {
   "cell_type": "code",
   "execution_count": 265,
   "id": "2e8add72",
   "metadata": {},
   "outputs": [
    {
     "name": "stdout",
     "output_type": "stream",
     "text": [
      "True\n",
      "True\n"
     ]
    }
   ],
   "source": [
    "#Example 2 - working \n",
    "print('500'.__eq__('500'))\n",
    "print('ABC500@'.__eq__('ABC500@'))\n",
    "\n",
    "# working if even with alphanumeric, special charectors "
   ]
  },
  {
   "cell_type": "code",
   "execution_count": 262,
   "id": "c22ef7f7",
   "metadata": {},
   "outputs": [
    {
     "name": "stdout",
     "output_type": "stream",
     "text": [
      "2387446277632\n",
      "2387446246400\n",
      "id's are not same  True\n",
      "2387443949376\n",
      "2387443952512\n",
      "id's are not same  True\n"
     ]
    }
   ],
   "source": [
    "#Example 3 - breaking\n",
    "\n",
    "c = [1,2]\n",
    "d = [1,2]\n",
    "\n",
    "e = (3,4)\n",
    "f = (3,4)\n",
    "\n",
    "\n",
    "print(id(c))\n",
    "print(id(d))\n",
    "print(\"id's are not same \",c.__eq__(d))\n",
    "\n",
    "\n",
    "print(id(e))\n",
    "print(id(f))\n",
    "print(\"id's are not same \",e.__eq__(f))\n",
    "\n",
    "\n",
    "# So it is working as \"== operator\" not as \"is operator\" ie \"==\" checks wether object is same or not\n",
    "# coming to (is) here it checks with the object ids"
   ]
  },
  {
   "cell_type": "code",
   "execution_count": null,
   "id": "9e9058fd",
   "metadata": {},
   "outputs": [],
   "source": []
  },
  {
   "cell_type": "markdown",
   "id": "158b6851",
   "metadata": {},
   "source": [
    "## class method 3.     ______hash__()   Return hash()."
   ]
  },
  {
   "cell_type": "code",
   "execution_count": 275,
   "id": "4d70a245",
   "metadata": {},
   "outputs": [
    {
     "name": "stdout",
     "output_type": "stream",
     "text": [
      "-6131855643562897841\n",
      "5508980876080589603\n",
      "-9024836270024830028\n",
      "-6131855643562897841\n"
     ]
    }
   ],
   "source": [
    "#Example 1 - working \n",
    "\n",
    "print('a'.__hash__())\n",
    "print('b'.__hash__())\n",
    "print('python'.__hash__())\n",
    "print('a'.__hash__())\n",
    "# Every object has hash value in python"
   ]
  },
  {
   "cell_type": "code",
   "execution_count": 283,
   "id": "e54f9459",
   "metadata": {},
   "outputs": [
    {
     "name": "stdout",
     "output_type": "stream",
     "text": [
      "1000008\n",
      "-3732192279446293887\n",
      "5154806657895010872\n",
      "2283807709307846243\n"
     ]
    }
   ],
   "source": [
    "#Example 2 - working \n",
    "\n",
    "print(5+1j.__hash__())\n",
    "print(('a','b').__hash__())\n",
    "print(('a',5).__hash__())\n",
    "print((5,5).__hash__())"
   ]
  },
  {
   "cell_type": "code",
   "execution_count": 3,
   "id": "f79e1ffb",
   "metadata": {},
   "outputs": [
    {
     "name": "stdout",
     "output_type": "stream",
     "text": [
      "7\n"
     ]
    }
   ],
   "source": [
    "#Example 3 - breaking\n",
    "\n",
    "print(hash(7))\n",
    "\n",
    "# when we check the hash of integer it returns the same value as hash"
   ]
  },
  {
   "cell_type": "markdown",
   "id": "bd4d02d1-a648-4ded-b436-f2818ff2dda9",
   "metadata": {},
   "source": [
    "<div class=\"alert alert-success\">\n",
    "    <h1>Assignment 3</h1>\n",
    "</div>\n",
    "\n",
    "String basic questions"
   ]
  },
  {
   "cell_type": "markdown",
   "id": "4871baa4-c686-4921-a4b1-c07c5f011385",
   "metadata": {},
   "source": [
    "#### Q1. Write the code to create an empty string named “str”."
   ]
  },
  {
   "cell_type": "code",
   "execution_count": 6,
   "id": "942e8e92-5193-4d03-ac6d-3026d813b3ad",
   "metadata": {},
   "outputs": [
    {
     "data": {
      "text/plain": [
       "''"
      ]
     },
     "execution_count": 6,
     "metadata": {},
     "output_type": "execute_result"
    }
   ],
   "source": [
    "str = ''\n",
    "str"
   ]
  },
  {
   "cell_type": "markdown",
   "id": "34634147-c5cc-40f5-a97a-2d28a7459d14",
   "metadata": {},
   "source": [
    "#### Q2. Name the function which count the total number of characters in a string."
   ]
  },
  {
   "cell_type": "code",
   "execution_count": 7,
   "id": "ad2968aa-f10e-4175-94b6-1df46233e825",
   "metadata": {},
   "outputs": [
    {
     "data": {
      "text/plain": [
       "6"
      ]
     },
     "execution_count": 7,
     "metadata": {},
     "output_type": "execute_result"
    }
   ],
   "source": [
    "len('string')"
   ]
  },
  {
   "cell_type": "markdown",
   "id": "25537b30-948c-4ec9-948c-bbdc12c5aae1",
   "metadata": {},
   "source": [
    "#### Q3. Fill the index value in place of ‘.’ so that the output should come ‘o’"
   ]
  },
  {
   "cell_type": "code",
   "execution_count": 2,
   "id": "1a5d11ae-53b8-451f-9b2b-65a5d88649e6",
   "metadata": {},
   "outputs": [
    {
     "name": "stdout",
     "output_type": "stream",
     "text": [
      "o\n"
     ]
    }
   ],
   "source": [
    "#your answer\n",
    "str = \"sutar@gmail.com\"\n",
    "print(str[str.find('.')+2])\n"
   ]
  },
  {
   "cell_type": "code",
   "execution_count": 5,
   "id": "9467b437",
   "metadata": {},
   "outputs": [],
   "source": [
    "# Google how to find a specific letter from a string in python\n",
    "\n",
    "# 2 answers\n"
   ]
  },
  {
   "cell_type": "markdown",
   "id": "daf056ed-d97a-4287-a2cd-96e6e16a34d9",
   "metadata": {},
   "source": [
    "#### Q4. Write the function which removes the spaces from the left side of the string."
   ]
  },
  {
   "cell_type": "code",
   "execution_count": 18,
   "id": "86f2b49a-42d3-485f-a3d0-5ee297da8c9e",
   "metadata": {},
   "outputs": [
    {
     "data": {
      "text/plain": [
       "'sutar'"
      ]
     },
     "execution_count": 18,
     "metadata": {},
     "output_type": "execute_result"
    }
   ],
   "source": [
    "str = ' sutar'.lstrip()\n",
    "str"
   ]
  },
  {
   "cell_type": "code",
   "execution_count": null,
   "id": "68c47a5c",
   "metadata": {},
   "outputs": [],
   "source": [
    "# without using predifined function \n",
    "# find 2 answers from google to remove the spaces from both left and right side"
   ]
  },
  {
   "cell_type": "markdown",
   "id": "57332ce6-0eb5-4d33-ab54-e1fcdfb1531e",
   "metadata": {},
   "source": [
    "#### Q5. What type of error is returned by the following statement?, why it occured?"
   ]
  },
  {
   "cell_type": "code",
   "execution_count": 21,
   "id": "99ef9407-1d05-45d2-93ee-f49ec6c799e4",
   "metadata": {},
   "outputs": [
    {
     "ename": "TypeError",
     "evalue": "'str' object does not support item assignment",
     "output_type": "error",
     "traceback": [
      "\u001b[1;31m---------------------------------------------------------------------------\u001b[0m",
      "\u001b[1;31mTypeError\u001b[0m                                 Traceback (most recent call last)",
      "\u001b[1;32m<ipython-input-21-2851b21b0b30>\u001b[0m in \u001b[0;36m<module>\u001b[1;34m\u001b[0m\n\u001b[0;32m      1\u001b[0m \u001b[0mstr\u001b[0m \u001b[1;33m=\u001b[0m \u001b[1;34m\"bootcamplearners.com\"\u001b[0m\u001b[1;33m\u001b[0m\u001b[1;33m\u001b[0m\u001b[0m\n\u001b[1;32m----> 2\u001b[1;33m \u001b[0mstr\u001b[0m\u001b[1;33m[\u001b[0m\u001b[1;36m7\u001b[0m\u001b[1;33m]\u001b[0m \u001b[1;33m=\u001b[0m \u001b[1;34m'c'\u001b[0m\u001b[1;33m\u001b[0m\u001b[1;33m\u001b[0m\u001b[0m\n\u001b[0m",
      "\u001b[1;31mTypeError\u001b[0m: 'str' object does not support item assignment"
     ]
    }
   ],
   "source": [
    "str = \"bootcamplearners.com\" # strings are immutable we cannot replace the strings with index\n",
    "str[7] = 'c'\n"
   ]
  },
  {
   "cell_type": "markdown",
   "id": "704a4a12-c33f-4aa3-9959-768ae26e478b",
   "metadata": {},
   "source": [
    "#### Q6. What do you mean by concatenation of string? Give 2 types of examples"
   ]
  },
  {
   "cell_type": "code",
   "execution_count": 27,
   "id": "d319d36e-3756-485a-bad9-f11a33513b9a",
   "metadata": {},
   "outputs": [
    {
     "name": "stdout",
     "output_type": "stream",
     "text": [
      "SutarManohar\n",
      "26\n"
     ]
    },
    {
     "ename": "TypeError",
     "evalue": "can only concatenate str (not \"int\") to str",
     "output_type": "error",
     "traceback": [
      "\u001b[1;31m---------------------------------------------------------------------------\u001b[0m",
      "\u001b[1;31mTypeError\u001b[0m                                 Traceback (most recent call last)",
      "\u001b[1;32m<ipython-input-27-8609886c791d>\u001b[0m in \u001b[0;36m<module>\u001b[1;34m\u001b[0m\n\u001b[0;32m      9\u001b[0m \u001b[0me\u001b[0m\u001b[1;33m,\u001b[0m\u001b[0mf\u001b[0m \u001b[1;33m=\u001b[0m \u001b[1;34m'2'\u001b[0m\u001b[1;33m,\u001b[0m\u001b[1;36m6\u001b[0m\u001b[1;33m\u001b[0m\u001b[1;33m\u001b[0m\u001b[0m\n\u001b[0;32m     10\u001b[0m \u001b[1;33m\u001b[0m\u001b[0m\n\u001b[1;32m---> 11\u001b[1;33m \u001b[0mprint\u001b[0m\u001b[1;33m(\u001b[0m\u001b[0me\u001b[0m\u001b[1;33m+\u001b[0m\u001b[0mf\u001b[0m\u001b[1;33m)\u001b[0m \u001b[1;31m# cannot concatenate string and integer\u001b[0m\u001b[1;33m\u001b[0m\u001b[1;33m\u001b[0m\u001b[0m\n\u001b[0m",
      "\u001b[1;31mTypeError\u001b[0m: can only concatenate str (not \"int\") to str"
     ]
    }
   ],
   "source": [
    "# Concatenation is joining the two different str type objects side by side without space or any seperator\n",
    "a,b = 'Sutar','Manohar'\n",
    "print(a+b)\n",
    "\n",
    "c,d ='2','6'\n",
    "\n",
    "print(c+d)\n",
    "\n",
    "e,f = '2',6\n",
    "\n",
    "print(e+f) # cannot concatenate string and integer"
   ]
  },
  {
   "cell_type": "markdown",
   "id": "9ac63150-bb41-4c81-94ac-d5b8241cd54d",
   "metadata": {},
   "source": [
    "#### Q7. Write a program to accept a string and display in reverse."
   ]
  },
  {
   "cell_type": "code",
   "execution_count": 33,
   "id": "26dc211c",
   "metadata": {},
   "outputs": [
    {
     "data": {
      "text/plain": [
       "'ratus'"
      ]
     },
     "execution_count": 33,
     "metadata": {},
     "output_type": "execute_result"
    }
   ],
   "source": [
    "a = 'sutar'\n",
    "a[::-1]"
   ]
  },
  {
   "cell_type": "code",
   "execution_count": 6,
   "id": "060ee725-7af9-430f-b432-788b23a34f9c",
   "metadata": {},
   "outputs": [
    {
     "name": "stdout",
     "output_type": "stream",
     "text": [
      "bat\n",
      "tab\n"
     ]
    }
   ],
   "source": [
    "a = input()\n",
    "print(a[::-1])"
   ]
  },
  {
   "cell_type": "code",
   "execution_count": 17,
   "id": "1843a806",
   "metadata": {},
   "outputs": [
    {
     "name": "stdout",
     "output_type": "stream",
     "text": [
      "cat\n",
      "tac\n"
     ]
    }
   ],
   "source": [
    "a = input()\n",
    "for char in a:\n",
    "    print(a[::-1])\n",
    "    break"
   ]
  },
  {
   "cell_type": "code",
   "execution_count": null,
   "id": "3ea23801",
   "metadata": {},
   "outputs": [],
   "source": [
    "# google 2 solutions without using predefined \n",
    "# using loops reverse the string in python"
   ]
  },
  {
   "cell_type": "markdown",
   "id": "2e5e3f2b-cc46-4ede-8541-962ae87a5720",
   "metadata": {},
   "source": [
    "#### Q8. Write a function count( ) in python which takes string as argument and return total number of words."
   ]
  },
  {
   "cell_type": "code",
   "execution_count": 8,
   "id": "fc3b75a8-82f1-48e8-ba61-a65142779d16",
   "metadata": {},
   "outputs": [
    {
     "data": {
      "text/plain": [
       "3"
      ]
     },
     "execution_count": 8,
     "metadata": {},
     "output_type": "execute_result"
    }
   ],
   "source": [
    "a='ABCABCABCAB'\n",
    "a.count('ABC')"
   ]
  },
  {
   "cell_type": "code",
   "execution_count": null,
   "id": "25944dcf",
   "metadata": {},
   "outputs": [],
   "source": [
    "# logic for count on strings in python sourcecode"
   ]
  },
  {
   "cell_type": "markdown",
   "id": "ef7efe86-08a3-4a1d-80cb-27406d63af3b",
   "metadata": {},
   "source": [
    "#### Q9. Write the output of the following:\n",
    "\n",
    "print(\"Jaya\" > \"Jayanti\")\n",
    "\n",
    "print(\"amit\".isalpha())"
   ]
  },
  {
   "cell_type": "code",
   "execution_count": null,
   "id": "05e179bd-a823-49db-b3e6-6feda48c1449",
   "metadata": {},
   "outputs": [],
   "source": [
    "# False #ASCII\n",
    "# True"
   ]
  },
  {
   "cell_type": "markdown",
   "id": "93a7c1d2-6b1c-495a-9494-ed0187c54f18",
   "metadata": {},
   "source": [
    "#### Q10. Write the output of the following code :\n",
    "\n",
    "\n",
    "str = \"BootCAMPLearners\"\n",
    "\n",
    "newstr = \" \"\n",
    "\n",
    "for i in range(len(str)):\n",
    "\n",
    "    if str[i].isupper():\n",
    "\n",
    "        newstr =newstr + str[i].lower()\n",
    "\n",
    "    if str[i].islower():\n",
    "\n",
    "        newstr =newstr + str[i].upper()\n",
    "\n",
    "print(newstr)"
   ]
  },
  {
   "cell_type": "code",
   "execution_count": null,
   "id": "040bfca1",
   "metadata": {},
   "outputs": [],
   "source": [
    "# bOOTcamplEARNERS"
   ]
  },
  {
   "cell_type": "code",
   "execution_count": 49,
   "id": "628783cc",
   "metadata": {},
   "outputs": [
    {
     "name": "stdout",
     "output_type": "stream",
     "text": [
      "BootCAMPLearners\n"
     ]
    }
   ],
   "source": [
    "str1 = 'bOOTcamplEARNERS'\n",
    "\n",
    "new_str = ''\n",
    "\n",
    "for i in range(len(str1)):\n",
    "    if str1[i].islower():\n",
    "        new_str=new_str+str1[i].upper()\n",
    "    if str1[i].isupper():\n",
    "        new_str=new_str+str1[i].lower()\n",
    "print(new_str)"
   ]
  },
  {
   "cell_type": "code",
   "execution_count": null,
   "id": "48f764ac-8831-4d04-9542-621b79ebd1d9",
   "metadata": {},
   "outputs": [],
   "source": []
  },
  {
   "cell_type": "markdown",
   "id": "86fe8327-7bd4-4ba4-a854-af9b80ebfbb9",
   "metadata": {},
   "source": [
    "#### Q11. Write a program in python that accept a string from the user and display the following:\n",
    "\n",
    "- Total number of vowels\n",
    "- Total number of digits\n",
    "- Total number of words."
   ]
  },
  {
   "cell_type": "code",
   "execution_count": 320,
   "id": "97477422",
   "metadata": {},
   "outputs": [
    {
     "name": "stdout",
     "output_type": "stream",
     "text": [
      "Enter a string: Sutar606 @gmail.com\n",
      "No.of vowels :  5\n",
      "No.of words :  2\n",
      "No.of digits :  3\n"
     ]
    }
   ],
   "source": [
    "a = input(\"Enter a string: \")\n",
    "\n",
    "count_vowels = 0\n",
    "\n",
    "for i in a:\n",
    "\n",
    "    if i in \"AEIOUaeiou\":\n",
    "        count_vowels = count_vowels + 1\n",
    "        \n",
    "\n",
    "count_words = 0\n",
    "b = a.split()\n",
    "\n",
    "for i in b:\n",
    "    count_words=count_words+1\n",
    "\n",
    "\n",
    "count_digits =0\n",
    "\n",
    "for i in a:\n",
    "\n",
    "    if i.isdigit():\n",
    "        count_digits = count_digits + 1\n",
    "        \n",
    "print('No.of vowels : ',count_vowels)\n",
    "print('No.of words : ',count_words)\n",
    "print('No.of digits : ',count_digits)"
   ]
  },
  {
   "cell_type": "markdown",
   "id": "d9e448f5-35b1-4c1a-b43c-133b1791017c",
   "metadata": {},
   "source": [
    "#### Q12. Write the output of the following:\n",
    "str = \"BootCAMPLearners\"\n",
    "\n",
    "print(str[: :-1])\n",
    "\n",
    "print(str[-7: -1: 2])\n",
    "\n",
    "print(str[3 : 14 : 3])"
   ]
  },
  {
   "cell_type": "code",
   "execution_count": null,
   "id": "d0217005",
   "metadata": {},
   "outputs": [],
   "source": [
    "# srenraeLPMACtooB\n",
    "# ere\n",
    "#tMen"
   ]
  },
  {
   "cell_type": "markdown",
   "id": "8b66ef19-26e6-4500-b79f-6b11623970e8",
   "metadata": {},
   "source": [
    "<div class=\"alert alert-success\">\n",
    "    <h1>Assignment 4</h1>\n",
    "</div>\n",
    "\n",
    "String Based programing questions"
   ]
  },
  {
   "cell_type": "markdown",
   "id": "0fe691fd-ee17-44f7-bf80-43c2f74536ad",
   "metadata": {},
   "source": [
    "#### Q1. Letter Anagram"
   ]
  },
  {
   "cell_type": "code",
   "execution_count": 62,
   "id": "160c2170-dfde-42b2-8fd2-3abf18db0749",
   "metadata": {},
   "outputs": [],
   "source": [
    "s1 = 'below'\n",
    "s2 = 'elbow'\n",
    "\n",
    "s3 = \"silent\"\n",
    "s4 = \"listen\""
   ]
  },
  {
   "cell_type": "code",
   "execution_count": 63,
   "id": "ab21efed",
   "metadata": {},
   "outputs": [
    {
     "data": {
      "text/plain": [
       "'anagram'"
      ]
     },
     "execution_count": 63,
     "metadata": {},
     "output_type": "execute_result"
    }
   ],
   "source": [
    "'anagram' if Counter(s1) == Counter(s2) else print('Not a anagram')"
   ]
  },
  {
   "cell_type": "code",
   "execution_count": 64,
   "id": "578a4ef4",
   "metadata": {},
   "outputs": [
    {
     "data": {
      "text/plain": [
       "'anagram'"
      ]
     },
     "execution_count": 64,
     "metadata": {},
     "output_type": "execute_result"
    }
   ],
   "source": [
    "'anagram' if Counter(s3) == Counter(s4) else print('Not a anagram')"
   ]
  },
  {
   "cell_type": "code",
   "execution_count": 58,
   "id": "feece00c",
   "metadata": {},
   "outputs": [],
   "source": [
    "a = 'earth'\n",
    "b = 'heart'"
   ]
  },
  {
   "cell_type": "code",
   "execution_count": 56,
   "id": "29095c5c",
   "metadata": {},
   "outputs": [],
   "source": [
    "from collections import Counter"
   ]
  },
  {
   "cell_type": "code",
   "execution_count": 60,
   "id": "9bc1e97c",
   "metadata": {},
   "outputs": [
    {
     "data": {
      "text/plain": [
       "'anagram'"
      ]
     },
     "execution_count": 60,
     "metadata": {},
     "output_type": "execute_result"
    }
   ],
   "source": [
    "'anagram' if Counter(a) == Counter(b) else print('Not a anagram')"
   ]
  },
  {
   "cell_type": "code",
   "execution_count": 45,
   "id": "b7b44039-69a0-4a92-9fae-c53a6f9882c4",
   "metadata": {},
   "outputs": [
    {
     "name": "stdout",
     "output_type": "stream",
     "text": [
      "anagram\n"
     ]
    }
   ],
   "source": [
    "# from collections import Counter\n",
    "\n",
    "# s1 = 'below'\n",
    "# s2 = 'elbow'\n",
    "\n",
    "# print('anagram') if Counter(s1) == Counter(s2) else print('not an anagram')"
   ]
  },
  {
   "cell_type": "markdown",
   "id": "dec32667-eaa0-434a-9f6c-3260de2db7da",
   "metadata": {},
   "source": [
    "#### Q2. Binary to Decimal"
   ]
  },
  {
   "cell_type": "code",
   "execution_count": 321,
   "id": "ce57d19a-7159-4105-8b04-0f37f23233d2",
   "metadata": {},
   "outputs": [
    {
     "name": "stdout",
     "output_type": "stream",
     "text": [
      "10\n"
     ]
    }
   ],
   "source": [
    "binary = '1010'\n",
    "decimal = int('1010', 2)\n",
    "print(decimal) #10"
   ]
  },
  {
   "cell_type": "code",
   "execution_count": null,
   "id": "53837fc2",
   "metadata": {},
   "outputs": [],
   "source": []
  },
  {
   "cell_type": "code",
   "execution_count": 67,
   "id": "3f89f8de-ce65-47f3-8774-063573636bbe",
   "metadata": {},
   "outputs": [],
   "source": [
    "# decimal = int('1010', 2)\n",
    "# print(decimal) #10"
   ]
  },
  {
   "cell_type": "markdown",
   "id": "6cc50eb2-4da2-4f0b-b4cc-a6f71d0ccacb",
   "metadata": {},
   "source": [
    "#### Q3. Reverse a string with and without indexing/slicing"
   ]
  },
  {
   "cell_type": "code",
   "execution_count": 69,
   "id": "cf0faf0d-559d-464a-bd23-c82875cb4be9",
   "metadata": {},
   "outputs": [],
   "source": [
    "s1 = \"hello world\""
   ]
  },
  {
   "cell_type": "code",
   "execution_count": 68,
   "id": "0f74c174-e9aa-447d-8b04-cea5614a57b1",
   "metadata": {},
   "outputs": [],
   "source": [
    "# s1[::-1]"
   ]
  },
  {
   "cell_type": "code",
   "execution_count": 74,
   "id": "20e158f0",
   "metadata": {},
   "outputs": [
    {
     "name": "stdout",
     "output_type": "stream",
     "text": [
      "dlrow olleh"
     ]
    }
   ],
   "source": [
    "for char in reversed(s1):\n",
    "    print(char,end='')"
   ]
  },
  {
   "cell_type": "code",
   "execution_count": 80,
   "id": "4f2f3b31",
   "metadata": {},
   "outputs": [
    {
     "data": {
      "text/plain": [
       "'dlrow olleh'"
      ]
     },
     "execution_count": 80,
     "metadata": {},
     "output_type": "execute_result"
    }
   ],
   "source": [
    "def reversed_string(text):\n",
    "    result = \"\"\n",
    " \n",
    "    for char in text:\n",
    "        result = char + result\n",
    "    return result\n",
    "\n",
    "\n",
    "reversed_string(s1)"
   ]
  },
  {
   "cell_type": "code",
   "execution_count": null,
   "id": "6788ffe1",
   "metadata": {},
   "outputs": [],
   "source": []
  },
  {
   "cell_type": "markdown",
   "id": "ab94b6e8-ba22-49d5-bc2f-4528fe130dfa",
   "metadata": {},
   "source": [
    "#### Q4 Reverse Word Order \n",
    "\n",
    "Write a program (using functions!) that asks the user for a long string containing multiple words. Print back to the user the same string, except with the words in backwards order. For example, say I type the string:\n",
    "\n",
    "  `My name is Michele`\n",
    "  \n",
    "Then I would see the string:\n",
    "\n",
    "  `Michele is name My`\n",
    "  \n",
    "shown back to me."
   ]
  },
  {
   "cell_type": "code",
   "execution_count": 107,
   "id": "9eab5a62",
   "metadata": {},
   "outputs": [
    {
     "name": "stdout",
     "output_type": "stream",
     "text": [
      "Michele is name My\n"
     ]
    }
   ],
   "source": [
    "a = 'My name is Michele'\n",
    "\n",
    "print(' '.join(reversed(a.split())))\n"
   ]
  },
  {
   "cell_type": "code",
   "execution_count": null,
   "id": "8d07c208",
   "metadata": {},
   "outputs": [],
   "source": []
  },
  {
   "cell_type": "code",
   "execution_count": 118,
   "id": "f3da44d9-43a0-4ce2-80ef-f868bdadafb3",
   "metadata": {},
   "outputs": [
    {
     "name": "stdout",
     "output_type": "stream",
     "text": [
      "Michele is name My\n"
     ]
    }
   ],
   "source": [
    "a = 'My name is Michele'\n",
    " \n",
    "def reverse_words(string): # Function to reverse words of string\n",
    "    \n",
    "    words = string.split() # spliting the string into words\n",
    "    \n",
    "    reversed_string = ' '.join(reversed(words)) # reverse the split string list and join using space\n",
    "\n",
    "    return reversed_string # return the joined string\n",
    "\n",
    "print(reverse_word(a))"
   ]
  },
  {
   "cell_type": "code",
   "execution_count": 119,
   "id": "3744afee",
   "metadata": {},
   "outputs": [
    {
     "name": "stdout",
     "output_type": "stream",
     "text": [
      "Sachin Tendulkar\n",
      "Tendulkar Sachin\n"
     ]
    }
   ],
   "source": [
    "def reverse_words(string): # Function to reverse words of string\n",
    "    \n",
    "    words = string.split() # spliting the string into words\n",
    "    \n",
    "    reversed_string = ' '.join(reversed(words)) # reverse the split string list and join using space\n",
    "\n",
    "    return reversed_string # return the joined string\n",
    "\n",
    "print(reverse_word(input()))"
   ]
  },
  {
   "cell_type": "markdown",
   "id": "aa3a9c07-a314-4740-ae96-7bb52e5ffaff",
   "metadata": {},
   "source": [
    "#### Q5 Password Generator \n",
    "\n",
    "Write a password generator in Python. Be creative with how you generate passwords - strong passwords have a mix of lowercase letters, uppercase letters, numbers, and symbols. The passwords should be random, generating a new password every time the user asks for a new password. Include your code in a main method.\n",
    "\n",
    "Extra:\n",
    "\n",
    "Ask the user how strong they want their password to be. For weak passwords, pick a word or two from a list."
   ]
  },
  {
   "cell_type": "code",
   "execution_count": 322,
   "id": "6e60aa4c-ed5f-4317-9dbf-4a959fb13647",
   "metadata": {},
   "outputs": [],
   "source": [
    "import random"
   ]
  },
  {
   "cell_type": "code",
   "execution_count": 393,
   "id": "e8424647-5b53-478e-b330-9287fd71a70b",
   "metadata": {},
   "outputs": [
    {
     "name": "stdout",
     "output_type": "stream",
     "text": [
      "Your new password is :  wbcqG2oNpQ_.mE1%\n"
     ]
    }
   ],
   "source": [
    "lower = 'abcdefghijklmnopqrstuvwxyz'\n",
    "upper = 'ABCDEFGHIJKLMNOPQRSTUVWXYZ'\n",
    "numbers = '0123456789'\n",
    "symbols = '!@#$%^&*._'\n",
    "\n",
    "\n",
    "string = lower+upper+numbers+symbols \n",
    "# combination of of lowercase letters, uppercase letters, numbers, and symbols\n",
    "\n",
    "length = 16 # length of password should be\n",
    "password = \"\".join(random.sample(string,length)) # joining all characters with no space \n",
    "\n",
    "\n",
    "print('Your new password is : ', password)"
   ]
  },
  {
   "cell_type": "code",
   "execution_count": null,
   "id": "bda1b174-3e38-48d2-89b0-626b7dbe5c68",
   "metadata": {},
   "outputs": [],
   "source": []
  }
 ],
 "metadata": {
  "kernelspec": {
   "display_name": "Python 3",
   "language": "python",
   "name": "python3"
  },
  "language_info": {
   "codemirror_mode": {
    "name": "ipython",
    "version": 3
   },
   "file_extension": ".py",
   "mimetype": "text/x-python",
   "name": "python",
   "nbconvert_exporter": "python",
   "pygments_lexer": "ipython3",
   "version": "3.8.8"
  }
 },
 "nbformat": 4,
 "nbformat_minor": 5
}
